{
 "cells": [
  {
   "cell_type": "markdown",
   "metadata": {
    "toc": true
   },
   "source": [
    "<h1>Table of Contents<span class=\"tocSkip\"></span></h1>\n",
    "<div class=\"toc\"><ul class=\"toc-item\"><li><span><a href=\"#Library\" data-toc-modified-id=\"Library-1\"><span class=\"toc-item-num\">1&nbsp;&nbsp;</span>Library</a></span></li><li><span><a href=\"#Data-Ingestion\" data-toc-modified-id=\"Data-Ingestion-2\"><span class=\"toc-item-num\">2&nbsp;&nbsp;</span>Data Ingestion</a></span></li><li><span><a href=\"#Data-Description-&amp;-Preparation\" data-toc-modified-id=\"Data-Description-&amp;-Preparation-3\"><span class=\"toc-item-num\">3&nbsp;&nbsp;</span>Data Description &amp; Preparation</a></span><ul class=\"toc-item\"><li><span><a href=\"#Basic-Info\" data-toc-modified-id=\"Basic-Info-3.1\"><span class=\"toc-item-num\">3.1&nbsp;&nbsp;</span>Basic Info</a></span></li><li><span><a href=\"#Missing-Data\" data-toc-modified-id=\"Missing-Data-3.2\"><span class=\"toc-item-num\">3.2&nbsp;&nbsp;</span>Missing Data</a></span></li><li><span><a href=\"#Balancity-of-Data\" data-toc-modified-id=\"Balancity-of-Data-3.3\"><span class=\"toc-item-num\">3.3&nbsp;&nbsp;</span>Balancity of Data</a></span></li><li><span><a href=\"#Overall-Statistical-Description\" data-toc-modified-id=\"Overall-Statistical-Description-3.4\"><span class=\"toc-item-num\">3.4&nbsp;&nbsp;</span>Overall Statistical Description</a></span></li><li><span><a href=\"#Overall-Pandas-Profiling\" data-toc-modified-id=\"Overall-Pandas-Profiling-3.5\"><span class=\"toc-item-num\">3.5&nbsp;&nbsp;</span>Overall Pandas Profiling</a></span></li><li><span><a href=\"#Data-Processing\" data-toc-modified-id=\"Data-Processing-3.6\"><span class=\"toc-item-num\">3.6&nbsp;&nbsp;</span>Data Processing</a></span><ul class=\"toc-item\"><li><span><a href=\"#Removing-duplicate-column\" data-toc-modified-id=\"Removing-duplicate-column-3.6.1\"><span class=\"toc-item-num\">3.6.1&nbsp;&nbsp;</span>Removing duplicate column</a></span></li><li><span><a href=\"#Removing-high-cardinality-&amp;-unique-columns\" data-toc-modified-id=\"Removing-high-cardinality-&amp;-unique-columns-3.6.2\"><span class=\"toc-item-num\">3.6.2&nbsp;&nbsp;</span>Removing high cardinality &amp; unique columns</a></span></li><li><span><a href=\"#Removing-high-missing-values-columns-(>20%)\" data-toc-modified-id=\"Removing-high-missing-values-columns-(>20%)-3.6.3\"><span class=\"toc-item-num\">3.6.3&nbsp;&nbsp;</span>Removing high missing values columns (&gt;20%)</a></span></li><li><span><a href=\"#Removing-geospatial-related-columns\" data-toc-modified-id=\"Removing-geospatial-related-columns-3.6.4\"><span class=\"toc-item-num\">3.6.4&nbsp;&nbsp;</span>Removing geospatial related columns</a></span></li><li><span><a href=\"#Removing-no-info-/-not-enough-info-columns\" data-toc-modified-id=\"Removing-no-info-/-not-enough-info-columns-3.6.5\"><span class=\"toc-item-num\">3.6.5&nbsp;&nbsp;</span>Removing no-info / not enough info columns</a></span></li><li><span><a href=\"#Removing-unnessary-columns-(description)\" data-toc-modified-id=\"Removing-unnessary-columns-(description)-3.6.6\"><span class=\"toc-item-num\">3.6.6&nbsp;&nbsp;</span>Removing unnessary columns (description)</a></span></li><li><span><a href=\"#Removing-Unsupported-Type-Colums\" data-toc-modified-id=\"Removing-Unsupported-Type-Colums-3.6.7\"><span class=\"toc-item-num\">3.6.7&nbsp;&nbsp;</span>Removing Unsupported Type Colums</a></span></li><li><span><a href=\"#Data-Imputation-for-missing-N-value\" data-toc-modified-id=\"Data-Imputation-for-missing-N-value-3.6.8\"><span class=\"toc-item-num\">3.6.8&nbsp;&nbsp;</span>Data Imputation for missing N value</a></span></li><li><span><a href=\"#Data-Imputation-for-missing-value,-replaced-by-Other-/-Unknown\" data-toc-modified-id=\"Data-Imputation-for-missing-value,-replaced-by-Other-/-Unknown-3.6.9\"><span class=\"toc-item-num\">3.6.9&nbsp;&nbsp;</span>Data Imputation for missing value, replaced by Other / Unknown</a></span></li><li><span><a href=\"#Data-Cleanup-for-Y/N-columns,-making-sure-only-&quot;Y&quot;-or-&quot;N&quot;\" data-toc-modified-id=\"Data-Cleanup-for-Y/N-columns,-making-sure-only-&quot;Y&quot;-or-&quot;N&quot;-3.6.10\"><span class=\"toc-item-num\">3.6.10&nbsp;&nbsp;</span>Data Cleanup for Y/N columns, making sure only \"Y\" or \"N\"</a></span></li><li><span><a href=\"#Transforming-Y/N-into-1-or-0-(Label-Encoding)-for-integration-with-Model\" data-toc-modified-id=\"Transforming-Y/N-into-1-or-0-(Label-Encoding)-for-integration-with-Model-3.6.11\"><span class=\"toc-item-num\">3.6.11&nbsp;&nbsp;</span>Transforming Y/N into 1 or 0 (Label Encoding) for integration with Model</a></span></li><li><span><a href=\"#Transforming-1/2-of-severity-code-into-1-or-0-(Label-Encoding)-for-integration-with-Model\" data-toc-modified-id=\"Transforming-1/2-of-severity-code-into-1-or-0-(Label-Encoding)-for-integration-with-Model-3.6.12\"><span class=\"toc-item-num\">3.6.12&nbsp;&nbsp;</span>Transforming 1/2 of severity code into 1 or 0 (Label Encoding) for integration with Model</a></span></li><li><span><a href=\"#Transforming-Accident-Datetime-column-into-Weekend/Weekday-&amp;-Day/Evening\" data-toc-modified-id=\"Transforming-Accident-Datetime-column-into-Weekend/Weekday-&amp;-Day/Evening-3.6.13\"><span class=\"toc-item-num\">3.6.13&nbsp;&nbsp;</span>Transforming Accident Datetime column into Weekend/Weekday &amp; Day/Evening</a></span></li></ul></li></ul></li><li><span><a href=\"#Exploratory-Data-Analysis-(EDA)\" data-toc-modified-id=\"Exploratory-Data-Analysis-(EDA)-4\"><span class=\"toc-item-num\">4&nbsp;&nbsp;</span>Exploratory Data Analysis (EDA)</a></span></li><li><span><a href=\"#Model-Training,-Prediction-&amp;-Results\" data-toc-modified-id=\"Model-Training,-Prediction-&amp;-Results-5\"><span class=\"toc-item-num\">5&nbsp;&nbsp;</span>Model Training, Prediction &amp; Results</a></span></li></ul></div>"
   ]
  },
  {
   "cell_type": "markdown",
   "metadata": {},
   "source": [
    "# Library"
   ]
  },
  {
   "cell_type": "code",
   "execution_count": 375,
   "metadata": {},
   "outputs": [],
   "source": [
    "import pandas as pd\n",
    "import numpy as np \n",
    "from pandas_profiling import ProfileReport\n",
    "import seaborn as sns # data visualization library  \n",
    "import matplotlib.pyplot as plt\n",
    "import time\n",
    "import h2o\n",
    "from h2o.automl import H2OAutoML"
   ]
  },
  {
   "cell_type": "markdown",
   "metadata": {},
   "source": [
    "# Data Ingestion"
   ]
  },
  {
   "cell_type": "code",
   "execution_count": 283,
   "metadata": {},
   "outputs": [
    {
     "name": "stderr",
     "output_type": "stream",
     "text": [
      "/home2/azizi/pyvenv/ds1/lib/python3.6/site-packages/IPython/core/interactiveshell.py:3072: DtypeWarning: Columns (33) have mixed types.Specify dtype option on import or set low_memory=False.\n",
      "  interactivity=interactivity, compiler=compiler, result=result)\n"
     ]
    }
   ],
   "source": [
    "df = pd.read_csv(\"data/Data-Collisions.csv\")"
   ]
  },
  {
   "cell_type": "code",
   "execution_count": 284,
   "metadata": {},
   "outputs": [
    {
     "data": {
      "text/plain": [
       "Index(['SEVERITYCODE', 'X', 'Y', 'OBJECTID', 'INCKEY', 'COLDETKEY', 'REPORTNO',\n",
       "       'STATUS', 'ADDRTYPE', 'INTKEY', 'LOCATION', 'EXCEPTRSNCODE',\n",
       "       'EXCEPTRSNDESC', 'SEVERITYCODE.1', 'SEVERITYDESC', 'COLLISIONTYPE',\n",
       "       'PERSONCOUNT', 'PEDCOUNT', 'PEDCYLCOUNT', 'VEHCOUNT', 'INCDATE',\n",
       "       'INCDTTM', 'JUNCTIONTYPE', 'SDOT_COLCODE', 'SDOT_COLDESC',\n",
       "       'INATTENTIONIND', 'UNDERINFL', 'WEATHER', 'ROADCOND', 'LIGHTCOND',\n",
       "       'PEDROWNOTGRNT', 'SDOTCOLNUM', 'SPEEDING', 'ST_COLCODE', 'ST_COLDESC',\n",
       "       'SEGLANEKEY', 'CROSSWALKKEY', 'HITPARKEDCAR'],\n",
       "      dtype='object')"
      ]
     },
     "execution_count": 284,
     "metadata": {},
     "output_type": "execute_result"
    }
   ],
   "source": [
    "df.columns"
   ]
  },
  {
   "cell_type": "code",
   "execution_count": 285,
   "metadata": {},
   "outputs": [
    {
     "data": {
      "text/html": [
       "<div>\n",
       "<style scoped>\n",
       "    .dataframe tbody tr th:only-of-type {\n",
       "        vertical-align: middle;\n",
       "    }\n",
       "\n",
       "    .dataframe tbody tr th {\n",
       "        vertical-align: top;\n",
       "    }\n",
       "\n",
       "    .dataframe thead th {\n",
       "        text-align: right;\n",
       "    }\n",
       "</style>\n",
       "<table border=\"1\" class=\"dataframe\">\n",
       "  <thead>\n",
       "    <tr style=\"text-align: right;\">\n",
       "      <th></th>\n",
       "      <th>SEVERITYCODE</th>\n",
       "      <th>X</th>\n",
       "      <th>Y</th>\n",
       "      <th>OBJECTID</th>\n",
       "      <th>INCKEY</th>\n",
       "      <th>COLDETKEY</th>\n",
       "      <th>REPORTNO</th>\n",
       "      <th>STATUS</th>\n",
       "      <th>ADDRTYPE</th>\n",
       "      <th>INTKEY</th>\n",
       "      <th>...</th>\n",
       "      <th>ROADCOND</th>\n",
       "      <th>LIGHTCOND</th>\n",
       "      <th>PEDROWNOTGRNT</th>\n",
       "      <th>SDOTCOLNUM</th>\n",
       "      <th>SPEEDING</th>\n",
       "      <th>ST_COLCODE</th>\n",
       "      <th>ST_COLDESC</th>\n",
       "      <th>SEGLANEKEY</th>\n",
       "      <th>CROSSWALKKEY</th>\n",
       "      <th>HITPARKEDCAR</th>\n",
       "    </tr>\n",
       "  </thead>\n",
       "  <tbody>\n",
       "    <tr>\n",
       "      <th>0</th>\n",
       "      <td>2</td>\n",
       "      <td>-122.323148</td>\n",
       "      <td>47.703140</td>\n",
       "      <td>1</td>\n",
       "      <td>1307</td>\n",
       "      <td>1307</td>\n",
       "      <td>3502005</td>\n",
       "      <td>Matched</td>\n",
       "      <td>Intersection</td>\n",
       "      <td>37475.0</td>\n",
       "      <td>...</td>\n",
       "      <td>Wet</td>\n",
       "      <td>Daylight</td>\n",
       "      <td>NaN</td>\n",
       "      <td>NaN</td>\n",
       "      <td>NaN</td>\n",
       "      <td>10</td>\n",
       "      <td>Entering at angle</td>\n",
       "      <td>0</td>\n",
       "      <td>0</td>\n",
       "      <td>N</td>\n",
       "    </tr>\n",
       "    <tr>\n",
       "      <th>1</th>\n",
       "      <td>1</td>\n",
       "      <td>-122.347294</td>\n",
       "      <td>47.647172</td>\n",
       "      <td>2</td>\n",
       "      <td>52200</td>\n",
       "      <td>52200</td>\n",
       "      <td>2607959</td>\n",
       "      <td>Matched</td>\n",
       "      <td>Block</td>\n",
       "      <td>NaN</td>\n",
       "      <td>...</td>\n",
       "      <td>Wet</td>\n",
       "      <td>Dark - Street Lights On</td>\n",
       "      <td>NaN</td>\n",
       "      <td>6354039.0</td>\n",
       "      <td>NaN</td>\n",
       "      <td>11</td>\n",
       "      <td>From same direction - both going straight - bo...</td>\n",
       "      <td>0</td>\n",
       "      <td>0</td>\n",
       "      <td>N</td>\n",
       "    </tr>\n",
       "    <tr>\n",
       "      <th>2</th>\n",
       "      <td>1</td>\n",
       "      <td>-122.334540</td>\n",
       "      <td>47.607871</td>\n",
       "      <td>3</td>\n",
       "      <td>26700</td>\n",
       "      <td>26700</td>\n",
       "      <td>1482393</td>\n",
       "      <td>Matched</td>\n",
       "      <td>Block</td>\n",
       "      <td>NaN</td>\n",
       "      <td>...</td>\n",
       "      <td>Dry</td>\n",
       "      <td>Daylight</td>\n",
       "      <td>NaN</td>\n",
       "      <td>4323031.0</td>\n",
       "      <td>NaN</td>\n",
       "      <td>32</td>\n",
       "      <td>One parked--one moving</td>\n",
       "      <td>0</td>\n",
       "      <td>0</td>\n",
       "      <td>N</td>\n",
       "    </tr>\n",
       "    <tr>\n",
       "      <th>3</th>\n",
       "      <td>1</td>\n",
       "      <td>-122.334803</td>\n",
       "      <td>47.604803</td>\n",
       "      <td>4</td>\n",
       "      <td>1144</td>\n",
       "      <td>1144</td>\n",
       "      <td>3503937</td>\n",
       "      <td>Matched</td>\n",
       "      <td>Block</td>\n",
       "      <td>NaN</td>\n",
       "      <td>...</td>\n",
       "      <td>Dry</td>\n",
       "      <td>Daylight</td>\n",
       "      <td>NaN</td>\n",
       "      <td>NaN</td>\n",
       "      <td>NaN</td>\n",
       "      <td>23</td>\n",
       "      <td>From same direction - all others</td>\n",
       "      <td>0</td>\n",
       "      <td>0</td>\n",
       "      <td>N</td>\n",
       "    </tr>\n",
       "    <tr>\n",
       "      <th>4</th>\n",
       "      <td>2</td>\n",
       "      <td>-122.306426</td>\n",
       "      <td>47.545739</td>\n",
       "      <td>5</td>\n",
       "      <td>17700</td>\n",
       "      <td>17700</td>\n",
       "      <td>1807429</td>\n",
       "      <td>Matched</td>\n",
       "      <td>Intersection</td>\n",
       "      <td>34387.0</td>\n",
       "      <td>...</td>\n",
       "      <td>Wet</td>\n",
       "      <td>Daylight</td>\n",
       "      <td>NaN</td>\n",
       "      <td>4028032.0</td>\n",
       "      <td>NaN</td>\n",
       "      <td>10</td>\n",
       "      <td>Entering at angle</td>\n",
       "      <td>0</td>\n",
       "      <td>0</td>\n",
       "      <td>N</td>\n",
       "    </tr>\n",
       "  </tbody>\n",
       "</table>\n",
       "<p>5 rows × 38 columns</p>\n",
       "</div>"
      ],
      "text/plain": [
       "   SEVERITYCODE           X          Y  OBJECTID  INCKEY  COLDETKEY REPORTNO  \\\n",
       "0             2 -122.323148  47.703140         1    1307       1307  3502005   \n",
       "1             1 -122.347294  47.647172         2   52200      52200  2607959   \n",
       "2             1 -122.334540  47.607871         3   26700      26700  1482393   \n",
       "3             1 -122.334803  47.604803         4    1144       1144  3503937   \n",
       "4             2 -122.306426  47.545739         5   17700      17700  1807429   \n",
       "\n",
       "    STATUS      ADDRTYPE   INTKEY  ... ROADCOND                LIGHTCOND  \\\n",
       "0  Matched  Intersection  37475.0  ...      Wet                 Daylight   \n",
       "1  Matched         Block      NaN  ...      Wet  Dark - Street Lights On   \n",
       "2  Matched         Block      NaN  ...      Dry                 Daylight   \n",
       "3  Matched         Block      NaN  ...      Dry                 Daylight   \n",
       "4  Matched  Intersection  34387.0  ...      Wet                 Daylight   \n",
       "\n",
       "  PEDROWNOTGRNT  SDOTCOLNUM SPEEDING ST_COLCODE  \\\n",
       "0           NaN         NaN      NaN         10   \n",
       "1           NaN   6354039.0      NaN         11   \n",
       "2           NaN   4323031.0      NaN         32   \n",
       "3           NaN         NaN      NaN         23   \n",
       "4           NaN   4028032.0      NaN         10   \n",
       "\n",
       "                                          ST_COLDESC  SEGLANEKEY  \\\n",
       "0                                  Entering at angle           0   \n",
       "1  From same direction - both going straight - bo...           0   \n",
       "2                             One parked--one moving           0   \n",
       "3                   From same direction - all others           0   \n",
       "4                                  Entering at angle           0   \n",
       "\n",
       "   CROSSWALKKEY  HITPARKEDCAR  \n",
       "0             0             N  \n",
       "1             0             N  \n",
       "2             0             N  \n",
       "3             0             N  \n",
       "4             0             N  \n",
       "\n",
       "[5 rows x 38 columns]"
      ]
     },
     "execution_count": 285,
     "metadata": {},
     "output_type": "execute_result"
    }
   ],
   "source": [
    "df.head()"
   ]
  },
  {
   "cell_type": "code",
   "execution_count": 286,
   "metadata": {},
   "outputs": [],
   "source": [
    "# We are going to use data involving car (vehicle)\n",
    "df = df[df[\"VEHCOUNT\"] > 0]"
   ]
  },
  {
   "cell_type": "markdown",
   "metadata": {},
   "source": [
    "# Data Description & Preparation"
   ]
  },
  {
   "cell_type": "markdown",
   "metadata": {},
   "source": [
    "## Basic Info"
   ]
  },
  {
   "cell_type": "code",
   "execution_count": 287,
   "metadata": {},
   "outputs": [
    {
     "data": {
      "text/plain": [
       "Index(['SEVERITYCODE', 'X', 'Y', 'OBJECTID', 'INCKEY', 'COLDETKEY', 'REPORTNO',\n",
       "       'STATUS', 'ADDRTYPE', 'INTKEY', 'LOCATION', 'EXCEPTRSNCODE',\n",
       "       'EXCEPTRSNDESC', 'SEVERITYCODE.1', 'SEVERITYDESC', 'COLLISIONTYPE',\n",
       "       'PERSONCOUNT', 'PEDCOUNT', 'PEDCYLCOUNT', 'VEHCOUNT', 'INCDATE',\n",
       "       'INCDTTM', 'JUNCTIONTYPE', 'SDOT_COLCODE', 'SDOT_COLDESC',\n",
       "       'INATTENTIONIND', 'UNDERINFL', 'WEATHER', 'ROADCOND', 'LIGHTCOND',\n",
       "       'PEDROWNOTGRNT', 'SDOTCOLNUM', 'SPEEDING', 'ST_COLCODE', 'ST_COLDESC',\n",
       "       'SEGLANEKEY', 'CROSSWALKKEY', 'HITPARKEDCAR'],\n",
       "      dtype='object')"
      ]
     },
     "execution_count": 287,
     "metadata": {},
     "output_type": "execute_result"
    }
   ],
   "source": [
    "df.columns"
   ]
  },
  {
   "cell_type": "code",
   "execution_count": 288,
   "metadata": {},
   "outputs": [
    {
     "name": "stdout",
     "output_type": "stream",
     "text": [
      "Number of attributes :  38\n"
     ]
    }
   ],
   "source": [
    "print(\"Number of attributes : \", len(df.columns))"
   ]
  },
  {
   "cell_type": "code",
   "execution_count": 289,
   "metadata": {},
   "outputs": [
    {
     "name": "stdout",
     "output_type": "stream",
     "text": [
      "Number of observations :  189588\n"
     ]
    }
   ],
   "source": [
    "print(\"Number of observations : \", len(df))"
   ]
  },
  {
   "cell_type": "markdown",
   "metadata": {},
   "source": [
    "## Missing Data"
   ]
  },
  {
   "cell_type": "code",
   "execution_count": 290,
   "metadata": {},
   "outputs": [
    {
     "name": "stdout",
     "output_type": "stream",
     "text": [
      "Number of missing data for column 'ROADCOND' :  126\n"
     ]
    }
   ],
   "source": [
    "print(\"Number of missing data for column 'ROADCOND' : \", df[\"ROADCOND\"].isna().sum())"
   ]
  },
  {
   "cell_type": "code",
   "execution_count": 291,
   "metadata": {},
   "outputs": [
    {
     "data": {
      "text/plain": [
       "SEVERITYCODE           0\n",
       "X                   5186\n",
       "Y                   5186\n",
       "OBJECTID               0\n",
       "INCKEY                 0\n",
       "COLDETKEY              0\n",
       "REPORTNO               0\n",
       "STATUS                 0\n",
       "ADDRTYPE            1818\n",
       "INTKEY            126118\n",
       "LOCATION            2565\n",
       "EXCEPTRSNCODE     109777\n",
       "EXCEPTRSNDESC     184725\n",
       "SEVERITYCODE.1         0\n",
       "SEVERITYDESC           0\n",
       "COLLISIONTYPE         20\n",
       "PERSONCOUNT            0\n",
       "PEDCOUNT               0\n",
       "PEDCYLCOUNT            0\n",
       "VEHCOUNT               0\n",
       "INCDATE                0\n",
       "INCDTTM                0\n",
       "JUNCTIONTYPE        6176\n",
       "SDOT_COLCODE           0\n",
       "SDOT_COLDESC           0\n",
       "INATTENTIONIND    159800\n",
       "UNDERINFL              0\n",
       "WEATHER              194\n",
       "ROADCOND             126\n",
       "LIGHTCOND            284\n",
       "PEDROWNOTGRNT     184954\n",
       "SDOTCOLNUM         74837\n",
       "SPEEDING          180262\n",
       "ST_COLCODE            17\n",
       "ST_COLDESC            20\n",
       "SEGLANEKEY             0\n",
       "CROSSWALKKEY           0\n",
       "HITPARKEDCAR           0\n",
       "dtype: int64"
      ]
     },
     "execution_count": 291,
     "metadata": {},
     "output_type": "execute_result"
    }
   ],
   "source": [
    "df.isna().sum()"
   ]
  },
  {
   "cell_type": "markdown",
   "metadata": {},
   "source": [
    "## Balancity of Data"
   ]
  },
  {
   "cell_type": "code",
   "execution_count": 292,
   "metadata": {},
   "outputs": [],
   "source": [
    "targetCol = \"SEVERITYCODE\""
   ]
  },
  {
   "cell_type": "code",
   "execution_count": 293,
   "metadata": {},
   "outputs": [
    {
     "data": {
      "text/plain": [
       "1    132627\n",
       "2     56961\n",
       "Name: SEVERITYCODE, dtype: int64"
      ]
     },
     "execution_count": 293,
     "metadata": {},
     "output_type": "execute_result"
    }
   ],
   "source": [
    "df[targetCol].value_counts()"
   ]
  },
  {
   "cell_type": "markdown",
   "metadata": {},
   "source": [
    "We could see that the dataset is imbalanced."
   ]
  },
  {
   "cell_type": "markdown",
   "metadata": {},
   "source": [
    "## Overall Statistical Description"
   ]
  },
  {
   "cell_type": "code",
   "execution_count": 294,
   "metadata": {},
   "outputs": [
    {
     "data": {
      "text/html": [
       "<div>\n",
       "<style scoped>\n",
       "    .dataframe tbody tr th:only-of-type {\n",
       "        vertical-align: middle;\n",
       "    }\n",
       "\n",
       "    .dataframe tbody tr th {\n",
       "        vertical-align: top;\n",
       "    }\n",
       "\n",
       "    .dataframe thead th {\n",
       "        text-align: right;\n",
       "    }\n",
       "</style>\n",
       "<table border=\"1\" class=\"dataframe\">\n",
       "  <thead>\n",
       "    <tr style=\"text-align: right;\">\n",
       "      <th></th>\n",
       "      <th>SEVERITYCODE</th>\n",
       "      <th>X</th>\n",
       "      <th>Y</th>\n",
       "      <th>OBJECTID</th>\n",
       "      <th>INCKEY</th>\n",
       "      <th>COLDETKEY</th>\n",
       "      <th>INTKEY</th>\n",
       "      <th>SEVERITYCODE.1</th>\n",
       "      <th>PERSONCOUNT</th>\n",
       "      <th>PEDCOUNT</th>\n",
       "      <th>PEDCYLCOUNT</th>\n",
       "      <th>VEHCOUNT</th>\n",
       "      <th>SDOT_COLCODE</th>\n",
       "      <th>SDOTCOLNUM</th>\n",
       "      <th>SEGLANEKEY</th>\n",
       "      <th>CROSSWALKKEY</th>\n",
       "    </tr>\n",
       "  </thead>\n",
       "  <tbody>\n",
       "    <tr>\n",
       "      <th>count</th>\n",
       "      <td>189588.000000</td>\n",
       "      <td>184402.000000</td>\n",
       "      <td>184402.000000</td>\n",
       "      <td>189588.000000</td>\n",
       "      <td>189588.000000</td>\n",
       "      <td>189588.000000</td>\n",
       "      <td>63470.000000</td>\n",
       "      <td>189588.000000</td>\n",
       "      <td>189588.000000</td>\n",
       "      <td>189588.000000</td>\n",
       "      <td>189588.000000</td>\n",
       "      <td>189588.000000</td>\n",
       "      <td>189588.000000</td>\n",
       "      <td>1.147510e+05</td>\n",
       "      <td>189588.000000</td>\n",
       "      <td>1.895880e+05</td>\n",
       "    </tr>\n",
       "    <tr>\n",
       "      <th>mean</th>\n",
       "      <td>1.300446</td>\n",
       "      <td>-122.330505</td>\n",
       "      <td>47.619521</td>\n",
       "      <td>106817.220979</td>\n",
       "      <td>138402.592210</td>\n",
       "      <td>138596.750928</td>\n",
       "      <td>37502.213818</td>\n",
       "      <td>1.300446</td>\n",
       "      <td>2.460061</td>\n",
       "      <td>0.037703</td>\n",
       "      <td>0.028019</td>\n",
       "      <td>1.972298</td>\n",
       "      <td>13.884196</td>\n",
       "      <td>7.968383e+06</td>\n",
       "      <td>260.714275</td>\n",
       "      <td>9.800749e+03</td>\n",
       "    </tr>\n",
       "    <tr>\n",
       "      <th>std</th>\n",
       "      <td>0.458453</td>\n",
       "      <td>0.030026</td>\n",
       "      <td>0.056230</td>\n",
       "      <td>62222.443268</td>\n",
       "      <td>85301.472291</td>\n",
       "      <td>85638.254616</td>\n",
       "      <td>51365.581899</td>\n",
       "      <td>0.458453</td>\n",
       "      <td>1.355109</td>\n",
       "      <td>0.199670</td>\n",
       "      <td>0.165951</td>\n",
       "      <td>0.554339</td>\n",
       "      <td>6.701585</td>\n",
       "      <td>2.550992e+06</td>\n",
       "      <td>3293.690652</td>\n",
       "      <td>7.235521e+04</td>\n",
       "    </tr>\n",
       "    <tr>\n",
       "      <th>min</th>\n",
       "      <td>1.000000</td>\n",
       "      <td>-122.419091</td>\n",
       "      <td>47.495573</td>\n",
       "      <td>1.000000</td>\n",
       "      <td>1001.000000</td>\n",
       "      <td>1001.000000</td>\n",
       "      <td>23807.000000</td>\n",
       "      <td>1.000000</td>\n",
       "      <td>0.000000</td>\n",
       "      <td>0.000000</td>\n",
       "      <td>0.000000</td>\n",
       "      <td>1.000000</td>\n",
       "      <td>0.000000</td>\n",
       "      <td>1.007024e+06</td>\n",
       "      <td>0.000000</td>\n",
       "      <td>0.000000e+00</td>\n",
       "    </tr>\n",
       "    <tr>\n",
       "      <th>25%</th>\n",
       "      <td>1.000000</td>\n",
       "      <td>-122.348859</td>\n",
       "      <td>47.575873</td>\n",
       "      <td>53116.750000</td>\n",
       "      <td>69096.750000</td>\n",
       "      <td>69096.750000</td>\n",
       "      <td>28667.000000</td>\n",
       "      <td>1.000000</td>\n",
       "      <td>2.000000</td>\n",
       "      <td>0.000000</td>\n",
       "      <td>0.000000</td>\n",
       "      <td>2.000000</td>\n",
       "      <td>11.000000</td>\n",
       "      <td>6.039024e+06</td>\n",
       "      <td>0.000000</td>\n",
       "      <td>0.000000e+00</td>\n",
       "    </tr>\n",
       "    <tr>\n",
       "      <th>50%</th>\n",
       "      <td>1.000000</td>\n",
       "      <td>-122.330168</td>\n",
       "      <td>47.615357</td>\n",
       "      <td>104253.500000</td>\n",
       "      <td>120591.500000</td>\n",
       "      <td>120591.500000</td>\n",
       "      <td>29973.000000</td>\n",
       "      <td>1.000000</td>\n",
       "      <td>2.000000</td>\n",
       "      <td>0.000000</td>\n",
       "      <td>0.000000</td>\n",
       "      <td>2.000000</td>\n",
       "      <td>13.000000</td>\n",
       "      <td>8.022004e+06</td>\n",
       "      <td>0.000000</td>\n",
       "      <td>0.000000e+00</td>\n",
       "    </tr>\n",
       "    <tr>\n",
       "      <th>75%</th>\n",
       "      <td>2.000000</td>\n",
       "      <td>-122.311918</td>\n",
       "      <td>47.663835</td>\n",
       "      <td>160018.250000</td>\n",
       "      <td>199153.250000</td>\n",
       "      <td>199293.250000</td>\n",
       "      <td>33984.000000</td>\n",
       "      <td>2.000000</td>\n",
       "      <td>3.000000</td>\n",
       "      <td>0.000000</td>\n",
       "      <td>0.000000</td>\n",
       "      <td>2.000000</td>\n",
       "      <td>14.000000</td>\n",
       "      <td>1.015301e+07</td>\n",
       "      <td>0.000000</td>\n",
       "      <td>0.000000e+00</td>\n",
       "    </tr>\n",
       "    <tr>\n",
       "      <th>max</th>\n",
       "      <td>2.000000</td>\n",
       "      <td>-122.238949</td>\n",
       "      <td>47.734142</td>\n",
       "      <td>219547.000000</td>\n",
       "      <td>331342.000000</td>\n",
       "      <td>332842.000000</td>\n",
       "      <td>757580.000000</td>\n",
       "      <td>2.000000</td>\n",
       "      <td>81.000000</td>\n",
       "      <td>6.000000</td>\n",
       "      <td>2.000000</td>\n",
       "      <td>12.000000</td>\n",
       "      <td>69.000000</td>\n",
       "      <td>1.307202e+07</td>\n",
       "      <td>525241.000000</td>\n",
       "      <td>5.239700e+06</td>\n",
       "    </tr>\n",
       "  </tbody>\n",
       "</table>\n",
       "</div>"
      ],
      "text/plain": [
       "        SEVERITYCODE              X              Y       OBJECTID  \\\n",
       "count  189588.000000  184402.000000  184402.000000  189588.000000   \n",
       "mean        1.300446    -122.330505      47.619521  106817.220979   \n",
       "std         0.458453       0.030026       0.056230   62222.443268   \n",
       "min         1.000000    -122.419091      47.495573       1.000000   \n",
       "25%         1.000000    -122.348859      47.575873   53116.750000   \n",
       "50%         1.000000    -122.330168      47.615357  104253.500000   \n",
       "75%         2.000000    -122.311918      47.663835  160018.250000   \n",
       "max         2.000000    -122.238949      47.734142  219547.000000   \n",
       "\n",
       "              INCKEY      COLDETKEY         INTKEY  SEVERITYCODE.1  \\\n",
       "count  189588.000000  189588.000000   63470.000000   189588.000000   \n",
       "mean   138402.592210  138596.750928   37502.213818        1.300446   \n",
       "std     85301.472291   85638.254616   51365.581899        0.458453   \n",
       "min      1001.000000    1001.000000   23807.000000        1.000000   \n",
       "25%     69096.750000   69096.750000   28667.000000        1.000000   \n",
       "50%    120591.500000  120591.500000   29973.000000        1.000000   \n",
       "75%    199153.250000  199293.250000   33984.000000        2.000000   \n",
       "max    331342.000000  332842.000000  757580.000000        2.000000   \n",
       "\n",
       "         PERSONCOUNT       PEDCOUNT    PEDCYLCOUNT       VEHCOUNT  \\\n",
       "count  189588.000000  189588.000000  189588.000000  189588.000000   \n",
       "mean        2.460061       0.037703       0.028019       1.972298   \n",
       "std         1.355109       0.199670       0.165951       0.554339   \n",
       "min         0.000000       0.000000       0.000000       1.000000   \n",
       "25%         2.000000       0.000000       0.000000       2.000000   \n",
       "50%         2.000000       0.000000       0.000000       2.000000   \n",
       "75%         3.000000       0.000000       0.000000       2.000000   \n",
       "max        81.000000       6.000000       2.000000      12.000000   \n",
       "\n",
       "        SDOT_COLCODE    SDOTCOLNUM     SEGLANEKEY  CROSSWALKKEY  \n",
       "count  189588.000000  1.147510e+05  189588.000000  1.895880e+05  \n",
       "mean       13.884196  7.968383e+06     260.714275  9.800749e+03  \n",
       "std         6.701585  2.550992e+06    3293.690652  7.235521e+04  \n",
       "min         0.000000  1.007024e+06       0.000000  0.000000e+00  \n",
       "25%        11.000000  6.039024e+06       0.000000  0.000000e+00  \n",
       "50%        13.000000  8.022004e+06       0.000000  0.000000e+00  \n",
       "75%        14.000000  1.015301e+07       0.000000  0.000000e+00  \n",
       "max        69.000000  1.307202e+07  525241.000000  5.239700e+06  "
      ]
     },
     "execution_count": 294,
     "metadata": {},
     "output_type": "execute_result"
    }
   ],
   "source": [
    "df.describe()"
   ]
  },
  {
   "cell_type": "markdown",
   "metadata": {},
   "source": [
    "## Overall Pandas Profiling"
   ]
  },
  {
   "cell_type": "code",
   "execution_count": null,
   "metadata": {},
   "outputs": [],
   "source": [
    "output_filename = 'output/ibm_applied_ds_capstone_profiling_overall.html'\n",
    "profile = ProfileReport(df, title='Data Profiling of Collisions Data', explorative=True)\n",
    "profile.to_file(output_file=output_filename)"
   ]
  },
  {
   "cell_type": "markdown",
   "metadata": {},
   "source": [
    "Kindly open the weblink below for the profiling information<br>\n",
    "<a href=\"https://zyron92.github.io/coursera/ibm_applied_ds_capstone_profiling_overall.html\">Overall Data Profiling</a>"
   ]
  },
  {
   "cell_type": "markdown",
   "metadata": {},
   "source": [
    "## Data Processing"
   ]
  },
  {
   "cell_type": "markdown",
   "metadata": {},
   "source": [
    "### Removing duplicate column"
   ]
  },
  {
   "cell_type": "code",
   "execution_count": 296,
   "metadata": {},
   "outputs": [],
   "source": [
    "df.drop(columns=[\"SEVERITYCODE.1\",\"INCDATE\"], inplace=True, axis=1)"
   ]
  },
  {
   "cell_type": "markdown",
   "metadata": {},
   "source": [
    "### Removing high cardinality & unique columns"
   ]
  },
  {
   "cell_type": "code",
   "execution_count": 297,
   "metadata": {},
   "outputs": [],
   "source": [
    "df.drop(columns=[\"REPORTNO\",'OBJECTID', 'INCKEY', 'COLDETKEY'], inplace=True, axis=1)"
   ]
  },
  {
   "cell_type": "markdown",
   "metadata": {},
   "source": [
    "### Removing high missing values columns (>20%)\n"
   ]
  },
  {
   "cell_type": "code",
   "execution_count": 298,
   "metadata": {},
   "outputs": [],
   "source": [
    "df.drop(columns=[\"INTKEY\",\"EXCEPTRSNCODE\",\"EXCEPTRSNDESC\",\"SDOTCOLNUM\"], inplace=True, axis=1)"
   ]
  },
  {
   "cell_type": "markdown",
   "metadata": {},
   "source": [
    "### Removing geospatial related columns"
   ]
  },
  {
   "cell_type": "code",
   "execution_count": 299,
   "metadata": {},
   "outputs": [],
   "source": [
    "df.drop(columns=['ADDRTYPE', 'LOCATION'], inplace=True, axis=1)"
   ]
  },
  {
   "cell_type": "markdown",
   "metadata": {},
   "source": [
    "### Removing no-info / not enough info columns"
   ]
  },
  {
   "cell_type": "code",
   "execution_count": 300,
   "metadata": {},
   "outputs": [],
   "source": [
    "df.drop(columns=['X', 'Y', 'STATUS','SEGLANEKEY','CROSSWALKKEY'], inplace=True, axis=1)"
   ]
  },
  {
   "cell_type": "markdown",
   "metadata": {},
   "source": [
    "### Removing unnessary columns (description)"
   ]
  },
  {
   "cell_type": "code",
   "execution_count": 301,
   "metadata": {},
   "outputs": [],
   "source": [
    "df.drop(columns=['SEVERITYDESC','SDOT_COLDESC','ST_COLDESC'], inplace=True, axis=1)"
   ]
  },
  {
   "cell_type": "markdown",
   "metadata": {},
   "source": [
    "### Removing Unsupported Type Colums"
   ]
  },
  {
   "cell_type": "code",
   "execution_count": 302,
   "metadata": {},
   "outputs": [],
   "source": [
    "df.drop(columns=[\"ST_COLCODE\"], inplace=True, axis=1)"
   ]
  },
  {
   "cell_type": "markdown",
   "metadata": {},
   "source": [
    "### Data Imputation for missing N value"
   ]
  },
  {
   "cell_type": "code",
   "execution_count": 303,
   "metadata": {},
   "outputs": [],
   "source": [
    "df[\"INATTENTIONIND\"] = np.where(df[\"INATTENTIONIND\"].isnull(), \"N\", df[\"INATTENTIONIND\"])\n",
    "df[\"PEDROWNOTGRNT\"] = np.where(df[\"PEDROWNOTGRNT\"].isnull(), \"N\", df[\"PEDROWNOTGRNT\"])\n",
    "df[\"SPEEDING\"] = np.where(df[\"SPEEDING\"].isnull(), \"N\", df[\"SPEEDING\"])\n",
    "df[\"UNDERINFL\"] = np.where(df[\"UNDERINFL\"].isnull(), \"N\", df[\"UNDERINFL\"])"
   ]
  },
  {
   "cell_type": "markdown",
   "metadata": {},
   "source": [
    "### Data Imputation for missing value, replaced by Other / Unknown"
   ]
  },
  {
   "cell_type": "code",
   "execution_count": 304,
   "metadata": {},
   "outputs": [],
   "source": [
    "df[\"COLLISIONTYPE\"] = np.where(df[\"COLLISIONTYPE\"].isnull(), \"Other\", df[\"COLLISIONTYPE\"])\n",
    "df[\"JUNCTIONTYPE\"] = np.where(df[\"JUNCTIONTYPE\"].isnull(), \"Unknown\", df[\"JUNCTIONTYPE\"])\n",
    "df[\"WEATHER\"] = np.where(df[\"WEATHER\"].isnull(), \"Unknown\", df[\"WEATHER\"])\n",
    "df[\"ROADCOND\"] = np.where(df[\"ROADCOND\"].isnull(), \"Unknown\", df[\"ROADCOND\"])\n",
    "df[\"LIGHTCOND\"] = np.where(df[\"LIGHTCOND\"].isnull(), \"Unknown\", df[\"LIGHTCOND\"])"
   ]
  },
  {
   "cell_type": "markdown",
   "metadata": {},
   "source": [
    "### Data Cleanup for Y/N columns, making sure only \"Y\" or \"N\""
   ]
  },
  {
   "cell_type": "code",
   "execution_count": 305,
   "metadata": {},
   "outputs": [],
   "source": [
    "df[\"UNDERINFL\"] = np.where(df[\"UNDERINFL\"]==\"0\", \"N\", df[\"UNDERINFL\"])\n",
    "df[\"UNDERINFL\"] = np.where(df[\"UNDERINFL\"]==\"1\", \"Y\", df[\"UNDERINFL\"])"
   ]
  },
  {
   "cell_type": "code",
   "execution_count": 306,
   "metadata": {},
   "outputs": [
    {
     "data": {
      "text/plain": [
       "UNDERINFL         object\n",
       "INATTENTIONIND    object\n",
       "PEDROWNOTGRNT     object\n",
       "SPEEDING          object\n",
       "UNDERINFL         object\n",
       "dtype: object"
      ]
     },
     "execution_count": 306,
     "metadata": {},
     "output_type": "execute_result"
    }
   ],
   "source": [
    "df[[\"UNDERINFL\",\"INATTENTIONIND\",\"PEDROWNOTGRNT\",\"SPEEDING\",\"UNDERINFL\"]].dtypes"
   ]
  },
  {
   "cell_type": "markdown",
   "metadata": {},
   "source": [
    "### Transforming Y/N into 1 or 0 (Label Encoding) for integration with Model"
   ]
  },
  {
   "cell_type": "code",
   "execution_count": 307,
   "metadata": {},
   "outputs": [],
   "source": [
    "cols = [\"INATTENTIONIND\",\"HITPARKEDCAR\",\"PEDROWNOTGRNT\",\"SPEEDING\",\"UNDERINFL\"]\n",
    "for col in cols :\n",
    "    df[col+\"_ENC\"] = np.where(df[col].str.strip()==\"Y\", 1, 0)\n",
    "df.drop(columns=cols, axis=1, inplace=True)"
   ]
  },
  {
   "cell_type": "markdown",
   "metadata": {},
   "source": [
    "### Transforming 1/2 of severity code into 1 or 0 (Label Encoding) for integration with Model"
   ]
  },
  {
   "cell_type": "markdown",
   "metadata": {},
   "source": [
    "Multiclass to single class, 1:Injury 0:Non-Injury"
   ]
  },
  {
   "cell_type": "code",
   "execution_count": 308,
   "metadata": {},
   "outputs": [],
   "source": [
    "df[\"SEVERITYCODE_INJURY\"] = np.where(df['SEVERITYCODE']==2,1,0)\n",
    "df.drop(columns=['SEVERITYCODE'], axis=1, inplace=True)"
   ]
  },
  {
   "cell_type": "markdown",
   "metadata": {},
   "source": [
    "### Transforming Accident Datetime column into Weekend/Weekday & Day/Evening"
   ]
  },
  {
   "cell_type": "code",
   "execution_count": 309,
   "metadata": {},
   "outputs": [],
   "source": [
    "df[\"INCDTTM_ENC\"] = pd.to_datetime(df[\"INCDTTM\"])\n",
    "df[\"isWeekend\"] = np.where(df[\"INCDTTM_ENC\"].dt.dayofweek >= 5, 1, 0)\n",
    "df[\"isNight\"] = np.where(df[\"INCDTTM_ENC\"].dt.hour >= 18, 1, 0)\n",
    "df.drop(columns=[\"INCDTTM_ENC\",\"INCDTTM\"],axis=1,inplace=True)"
   ]
  },
  {
   "cell_type": "markdown",
   "metadata": {},
   "source": [
    "# Exploratory Data Analysis (EDA)"
   ]
  },
  {
   "cell_type": "code",
   "execution_count": 347,
   "metadata": {},
   "outputs": [],
   "source": [
    "y = df[\"SEVERITYCODE_INJURY\"]\n",
    "x = df.drop([\"SEVERITYCODE_INJURY\"],axis = 1)"
   ]
  },
  {
   "cell_type": "code",
   "execution_count": 348,
   "metadata": {},
   "outputs": [
    {
     "name": "stdout",
     "output_type": "stream",
     "text": [
      "Number of Severity Involving Injury:  56961\n",
      "Number of Severity Not Involving Injury :  132627\n"
     ]
    },
    {
     "data": {
      "image/png": "[encoded data removed]",
      "text/plain": [
       "<Figure size 576x396 with 1 Axes>"
      ]
     },
     "metadata": {},
     "output_type": "display_data"
    }
   ],
   "source": [
    "ax = sns.countplot(y,label=\"Count\")\n",
    "non_injury, injury = y.value_counts()\n",
    "print('Number of Severity Involving Injury: ',injury)\n",
    "print('Number of Severity Not Involving Injury : ',non_injury)"
   ]
  },
  {
   "cell_type": "code",
   "execution_count": null,
   "metadata": {},
   "outputs": [],
   "source": [
    "output_filename = 'output/ibm_applied_ds_capstone_profiling_final.html'\n",
    "profile = ProfileReport(df, title='Data Profiling of Collisions Data FINAL', explorative=True)\n",
    "profile.to_file(output_file=output_filename)"
   ]
  },
  {
   "cell_type": "markdown",
   "metadata": {},
   "source": [
    "Kindly open the weblink below for the profiling information<br>\n",
    "<a href=\"https://zyron92.github.io/coursera/ibm_applied_ds_capstone_profiling_final.html\">Final Data Profiling</a>"
   ]
  },
  {
   "cell_type": "markdown",
   "metadata": {},
   "source": [
    "# Model Training, Prediction & Results"
   ]
  },
  {
   "cell_type": "code",
   "execution_count": null,
   "metadata": {},
   "outputs": [],
   "source": [
    "h2o.init()"
   ]
  },
  {
   "cell_type": "code",
   "execution_count": null,
   "metadata": {},
   "outputs": [],
   "source": []
  },
  {
   "cell_type": "code",
   "execution_count": 372,
   "metadata": {},
   "outputs": [
    {
     "name": "stdout",
     "output_type": "stream",
     "text": [
      "Parse progress: |█████████████████████████████████████████████████████████| 100%\n"
     ]
    }
   ],
   "source": [
    "h2o_df = h2o.H2OFrame(df)"
   ]
  },
  {
   "cell_type": "code",
   "execution_count": 373,
   "metadata": {},
   "outputs": [
    {
     "name": "stdout",
     "output_type": "stream",
     "text": [
      "Rows:189588\n",
      "Cols:18\n",
      "\n",
      "\n"
     ]
    },
    {
     "data": {
      "text/html": [
       "<table>\n",
       "<thead>\n",
       "<tr><th>       </th><th>COLLISIONTYPE  </th><th>PERSONCOUNT       </th><th>PEDCOUNT           </th><th>PEDCYLCOUNT        </th><th>VEHCOUNT          </th><th>JUNCTIONTYPE                           </th><th>SDOT_COLCODE      </th><th>WEATHER  </th><th>ROADCOND  </th><th>LIGHTCOND              </th><th>INATTENTIONIND_ENC  </th><th>HITPARKEDCAR_ENC   </th><th>PEDROWNOTGRNT_ENC   </th><th>SPEEDING_ENC       </th><th>UNDERINFL_ENC       </th><th>SEVERITYCODE_INJURY  </th><th>isWeekend         </th><th>isNight           </th></tr>\n",
       "</thead>\n",
       "<tbody>\n",
       "<tr><td>type   </td><td>enum           </td><td>int               </td><td>int                </td><td>int                </td><td>int               </td><td>enum                                   </td><td>int               </td><td>enum     </td><td>enum      </td><td>enum                   </td><td>int                 </td><td>int                </td><td>int                 </td><td>int                </td><td>int                 </td><td>int                  </td><td>int               </td><td>int               </td></tr>\n",
       "<tr><td>mins   </td><td>               </td><td>0.0               </td><td>0.0                </td><td>0.0                </td><td>1.0               </td><td>                                       </td><td>0.0               </td><td>         </td><td>          </td><td>                       </td><td>0.0                 </td><td>0.0                </td><td>0.0                 </td><td>0.0                </td><td>0.0                 </td><td>0.0                  </td><td>0.0               </td><td>0.0               </td></tr>\n",
       "<tr><td>mean   </td><td>               </td><td>2.460060763339465 </td><td>0.03770280819461147</td><td>0.02801865096947062</td><td>1.9722978247568423</td><td>                                       </td><td>13.88419625714708 </td><td>         </td><td>          </td><td>                       </td><td>0.15711964892292762 </td><td>0.0364896512437496 </td><td>0.024442475262147392</td><td>0.04919087705972952</td><td>0.048077937422199714</td><td>0.30044623077409965  </td><td>0.2548948245669557</td><td>0.2049496803595164</td></tr>\n",
       "<tr><td>maxs   </td><td>               </td><td>81.0              </td><td>6.0                </td><td>2.0                </td><td>12.0              </td><td>                                       </td><td>69.0              </td><td>         </td><td>          </td><td>                       </td><td>1.0                 </td><td>1.0                </td><td>1.0                 </td><td>1.0                </td><td>1.0                 </td><td>1.0                  </td><td>1.0               </td><td>1.0               </td></tr>\n",
       "<tr><td>sigma  </td><td>               </td><td>1.3551092025381661</td><td>0.1996703323879078 </td><td>0.16595082995699684</td><td>0.5543389597692029</td><td>                                       </td><td>6.7015853873363165</td><td>         </td><td>          </td><td>                       </td><td>0.36391450009554144 </td><td>0.18750557869538093</td><td>0.15441880208968348 </td><td>0.2162669215898237 </td><td>0.2139315094982622  </td><td>0.4584532711182788   </td><td>0.4358032293944129</td><td>0.403665911807233 </td></tr>\n",
       "<tr><td>zeros  </td><td>               </td><td>5536              </td><td>182730             </td><td>184305             </td><td>0                 </td><td>                                       </td><td>8972              </td><td>         </td><td>          </td><td>                       </td><td>159800              </td><td>182670             </td><td>184954              </td><td>180262             </td><td>180473              </td><td>132627               </td><td>141263            </td><td>150732            </td></tr>\n",
       "<tr><td>missing</td><td>0              </td><td>0                 </td><td>0                  </td><td>0                  </td><td>0                 </td><td>0                                      </td><td>0                 </td><td>0        </td><td>0         </td><td>0                      </td><td>0                   </td><td>0                  </td><td>0                   </td><td>0                  </td><td>0                   </td><td>0                    </td><td>0                 </td><td>0                 </td></tr>\n",
       "<tr><td>0      </td><td>Angles         </td><td>2.0               </td><td>0.0                </td><td>0.0                </td><td>2.0               </td><td>At Intersection (intersection related) </td><td>11.0              </td><td>Overcast </td><td>Wet       </td><td>Daylight               </td><td>0.0                 </td><td>0.0                </td><td>0.0                 </td><td>0.0                </td><td>0.0                 </td><td>1.0                  </td><td>0.0               </td><td>0.0               </td></tr>\n",
       "<tr><td>1      </td><td>Sideswipe      </td><td>2.0               </td><td>0.0                </td><td>0.0                </td><td>2.0               </td><td>Mid-Block (not related to intersection)</td><td>16.0              </td><td>Raining  </td><td>Wet       </td><td>Dark - Street Lights On</td><td>0.0                 </td><td>0.0                </td><td>0.0                 </td><td>0.0                </td><td>0.0                 </td><td>0.0                  </td><td>0.0               </td><td>1.0               </td></tr>\n",
       "<tr><td>2      </td><td>Parked Car     </td><td>4.0               </td><td>0.0                </td><td>0.0                </td><td>3.0               </td><td>Mid-Block (not related to intersection)</td><td>14.0              </td><td>Overcast </td><td>Dry       </td><td>Daylight               </td><td>0.0                 </td><td>0.0                </td><td>0.0                 </td><td>0.0                </td><td>0.0                 </td><td>0.0                  </td><td>0.0               </td><td>0.0               </td></tr>\n",
       "<tr><td>3      </td><td>Other          </td><td>3.0               </td><td>0.0                </td><td>0.0                </td><td>3.0               </td><td>Mid-Block (not related to intersection)</td><td>11.0              </td><td>Clear    </td><td>Dry       </td><td>Daylight               </td><td>0.0                 </td><td>0.0                </td><td>0.0                 </td><td>0.0                </td><td>0.0                 </td><td>0.0                  </td><td>0.0               </td><td>0.0               </td></tr>\n",
       "<tr><td>4      </td><td>Angles         </td><td>2.0               </td><td>0.0                </td><td>0.0                </td><td>2.0               </td><td>At Intersection (intersection related) </td><td>11.0              </td><td>Raining  </td><td>Wet       </td><td>Daylight               </td><td>0.0                 </td><td>0.0                </td><td>0.0                 </td><td>0.0                </td><td>0.0                 </td><td>1.0                  </td><td>0.0               </td><td>0.0               </td></tr>\n",
       "<tr><td>5      </td><td>Angles         </td><td>2.0               </td><td>0.0                </td><td>0.0                </td><td>2.0               </td><td>At Intersection (intersection related) </td><td>11.0              </td><td>Clear    </td><td>Dry       </td><td>Daylight               </td><td>0.0                 </td><td>0.0                </td><td>0.0                 </td><td>0.0                </td><td>0.0                 </td><td>0.0                  </td><td>1.0               </td><td>0.0               </td></tr>\n",
       "<tr><td>6      </td><td>Angles         </td><td>2.0               </td><td>0.0                </td><td>0.0                </td><td>2.0               </td><td>At Intersection (intersection related) </td><td>11.0              </td><td>Raining  </td><td>Wet       </td><td>Daylight               </td><td>0.0                 </td><td>0.0                </td><td>0.0                 </td><td>0.0                </td><td>0.0                 </td><td>0.0                  </td><td>0.0               </td><td>0.0               </td></tr>\n",
       "<tr><td>7      </td><td>Cycles         </td><td>3.0               </td><td>0.0                </td><td>1.0                </td><td>1.0               </td><td>At Intersection (intersection related) </td><td>51.0              </td><td>Clear    </td><td>Dry       </td><td>Daylight               </td><td>0.0                 </td><td>0.0                </td><td>0.0                 </td><td>0.0                </td><td>0.0                 </td><td>1.0                  </td><td>0.0               </td><td>0.0               </td></tr>\n",
       "<tr><td>8      </td><td>Parked Car     </td><td>2.0               </td><td>0.0                </td><td>0.0                </td><td>2.0               </td><td>Mid-Block (not related to intersection)</td><td>11.0              </td><td>Clear    </td><td>Dry       </td><td>Daylight               </td><td>0.0                 </td><td>0.0                </td><td>0.0                 </td><td>0.0                </td><td>0.0                 </td><td>0.0                  </td><td>0.0               </td><td>0.0               </td></tr>\n",
       "<tr><td>9      </td><td>Angles         </td><td>2.0               </td><td>0.0                </td><td>0.0                </td><td>2.0               </td><td>At Intersection (intersection related) </td><td>11.0              </td><td>Clear    </td><td>Dry       </td><td>Daylight               </td><td>0.0                 </td><td>0.0                </td><td>0.0                 </td><td>0.0                </td><td>0.0                 </td><td>1.0                  </td><td>0.0               </td><td>0.0               </td></tr>\n",
       "</tbody>\n",
       "</table>"
      ]
     },
     "metadata": {},
     "output_type": "display_data"
    }
   ],
   "source": [
    "h2o_df.describe()"
   ]
  },
  {
   "cell_type": "code",
   "execution_count": 374,
   "metadata": {},
   "outputs": [],
   "source": [
    "train, test = h2o_df.split_frame(ratios=[.70])\n",
    "\n",
    "# Identify predictors and response\n",
    "x = train.columns\n",
    "y = \"SEVERITYCODE_INJURY\"\n",
    "x.remove(y)"
   ]
  },
  {
   "cell_type": "code",
   "execution_count": 376,
   "metadata": {},
   "outputs": [
    {
     "name": "stdout",
     "output_type": "stream",
     "text": [
      "AutoML progress: |████████████████████████████████████████████████████████| 100%\n",
      "CPU times: user 55.6 s, sys: 565 ms, total: 56.2 s\n",
      "Wall time: 6min 10s\n"
     ]
    }
   ],
   "source": [
    "aml = H2OAutoML(max_runtime_secs=600,\n",
    "                exclude_algos=['DeepLearning'],\n",
    "                seed=1,\n",
    "                balance_classes=True,\n",
    "                nfolds=5,\n",
    "                project_name='Completed'\n",
    ")\n",
    "%time aml.train(x=x, y=y, training_frame=train)"
   ]
  },
  {
   "cell_type": "code",
   "execution_count": 377,
   "metadata": {},
   "outputs": [
    {
     "data": {
      "text/html": [
       "<table>\n",
       "<thead>\n",
       "<tr><th>model_id                                           </th><th style=\"text-align: right;\">  mean_residual_deviance</th><th style=\"text-align: right;\">    rmse</th><th style=\"text-align: right;\">     mse</th><th style=\"text-align: right;\">     mae</th><th style=\"text-align: right;\">   rmsle</th></tr>\n",
       "</thead>\n",
       "<tbody>\n",
       "<tr><td>StackedEnsemble_AllModels_AutoML_20200903_171504   </td><td style=\"text-align: right;\">                0.156319</td><td style=\"text-align: right;\">0.395372</td><td style=\"text-align: right;\">0.156319</td><td style=\"text-align: right;\">0.31345 </td><td style=\"text-align: right;\">0.27766 </td></tr>\n",
       "<tr><td>StackedEnsemble_BestOfFamily_AutoML_20200903_171504</td><td style=\"text-align: right;\">                0.156414</td><td style=\"text-align: right;\">0.395492</td><td style=\"text-align: right;\">0.156414</td><td style=\"text-align: right;\">0.313998</td><td style=\"text-align: right;\">0.277733</td></tr>\n",
       "<tr><td>GBM_2_AutoML_20200903_171504                       </td><td style=\"text-align: right;\">                0.156558</td><td style=\"text-align: right;\">0.395674</td><td style=\"text-align: right;\">0.156558</td><td style=\"text-align: right;\">0.314259</td><td style=\"text-align: right;\">0.277806</td></tr>\n",
       "<tr><td>GBM_1_AutoML_20200903_171504                       </td><td style=\"text-align: right;\">                0.156658</td><td style=\"text-align: right;\">0.3958  </td><td style=\"text-align: right;\">0.156658</td><td style=\"text-align: right;\">0.315016</td><td style=\"text-align: right;\">0.277857</td></tr>\n",
       "<tr><td>XGBoost_grid__1_AutoML_20200903_171504_model_2     </td><td style=\"text-align: right;\">                0.156661</td><td style=\"text-align: right;\">0.395804</td><td style=\"text-align: right;\">0.156661</td><td style=\"text-align: right;\">0.314807</td><td style=\"text-align: right;\">0.277985</td></tr>\n",
       "<tr><td>XGBoost_grid__1_AutoML_20200903_171504_model_10    </td><td style=\"text-align: right;\">                0.156698</td><td style=\"text-align: right;\">0.395851</td><td style=\"text-align: right;\">0.156698</td><td style=\"text-align: right;\">0.314235</td><td style=\"text-align: right;\">0.278095</td></tr>\n",
       "<tr><td>XGBoost_grid__1_AutoML_20200903_171504_model_6     </td><td style=\"text-align: right;\">                0.1567  </td><td style=\"text-align: right;\">0.395854</td><td style=\"text-align: right;\">0.1567  </td><td style=\"text-align: right;\">0.314386</td><td style=\"text-align: right;\">0.278091</td></tr>\n",
       "<tr><td>GBM_3_AutoML_20200903_171504                       </td><td style=\"text-align: right;\">                0.156704</td><td style=\"text-align: right;\">0.395858</td><td style=\"text-align: right;\">0.156704</td><td style=\"text-align: right;\">0.313938</td><td style=\"text-align: right;\">0.277935</td></tr>\n",
       "<tr><td>GBM_grid__1_AutoML_20200903_171504_model_2         </td><td style=\"text-align: right;\">                0.156743</td><td style=\"text-align: right;\">0.395908</td><td style=\"text-align: right;\">0.156743</td><td style=\"text-align: right;\">0.314546</td><td style=\"text-align: right;\">0.277973</td></tr>\n",
       "<tr><td>XGBoost_3_AutoML_20200903_171504                   </td><td style=\"text-align: right;\">                0.156786</td><td style=\"text-align: right;\">0.395962</td><td style=\"text-align: right;\">0.156786</td><td style=\"text-align: right;\">0.314245</td><td style=\"text-align: right;\">0.278102</td></tr>\n",
       "<tr><td>XGBoost_grid__1_AutoML_20200903_171504_model_1     </td><td style=\"text-align: right;\">                0.156791</td><td style=\"text-align: right;\">0.395969</td><td style=\"text-align: right;\">0.156791</td><td style=\"text-align: right;\">0.314351</td><td style=\"text-align: right;\">0.278135</td></tr>\n",
       "<tr><td>GBM_grid__1_AutoML_20200903_171504_model_9         </td><td style=\"text-align: right;\">                0.15684 </td><td style=\"text-align: right;\">0.39603 </td><td style=\"text-align: right;\">0.15684 </td><td style=\"text-align: right;\">0.315053</td><td style=\"text-align: right;\">0.278048</td></tr>\n",
       "<tr><td>XGBoost_grid__1_AutoML_20200903_171504_model_7     </td><td style=\"text-align: right;\">                0.156876</td><td style=\"text-align: right;\">0.396075</td><td style=\"text-align: right;\">0.156876</td><td style=\"text-align: right;\">0.314115</td><td style=\"text-align: right;\">0.278172</td></tr>\n",
       "<tr><td>GBM_grid__1_AutoML_20200903_171504_model_7         </td><td style=\"text-align: right;\">                0.156889</td><td style=\"text-align: right;\">0.396093</td><td style=\"text-align: right;\">0.156889</td><td style=\"text-align: right;\">0.3161  </td><td style=\"text-align: right;\">0.278144</td></tr>\n",
       "<tr><td>XGBoost_grid__1_AutoML_20200903_171504_model_5     </td><td style=\"text-align: right;\">                0.156955</td><td style=\"text-align: right;\">0.396176</td><td style=\"text-align: right;\">0.156955</td><td style=\"text-align: right;\">0.312393</td><td style=\"text-align: right;\">0.278274</td></tr>\n",
       "<tr><td>GBM_grid__1_AutoML_20200903_171504_model_3         </td><td style=\"text-align: right;\">                0.156968</td><td style=\"text-align: right;\">0.396192</td><td style=\"text-align: right;\">0.156968</td><td style=\"text-align: right;\">0.313927</td><td style=\"text-align: right;\">0.278187</td></tr>\n",
       "<tr><td>GBM_4_AutoML_20200903_171504                       </td><td style=\"text-align: right;\">                0.156993</td><td style=\"text-align: right;\">0.396223</td><td style=\"text-align: right;\">0.156993</td><td style=\"text-align: right;\">0.313403</td><td style=\"text-align: right;\">0.278192</td></tr>\n",
       "<tr><td>GBM_grid__1_AutoML_20200903_171504_model_6         </td><td style=\"text-align: right;\">                0.156994</td><td style=\"text-align: right;\">0.396225</td><td style=\"text-align: right;\">0.156994</td><td style=\"text-align: right;\">0.315314</td><td style=\"text-align: right;\">0.278208</td></tr>\n",
       "<tr><td>GBM_5_AutoML_20200903_171504                       </td><td style=\"text-align: right;\">                0.157037</td><td style=\"text-align: right;\">0.396279</td><td style=\"text-align: right;\">0.157037</td><td style=\"text-align: right;\">0.313444</td><td style=\"text-align: right;\">0.278293</td></tr>\n",
       "<tr><td>GBM_grid__1_AutoML_20200903_171504_model_8         </td><td style=\"text-align: right;\">                0.157418</td><td style=\"text-align: right;\">0.396759</td><td style=\"text-align: right;\">0.157418</td><td style=\"text-align: right;\">0.318004</td><td style=\"text-align: right;\">0.278535</td></tr>\n",
       "<tr><td>GBM_grid__1_AutoML_20200903_171504_model_1         </td><td style=\"text-align: right;\">                0.157845</td><td style=\"text-align: right;\">0.397298</td><td style=\"text-align: right;\">0.157845</td><td style=\"text-align: right;\">0.318706</td><td style=\"text-align: right;\">0.278942</td></tr>\n",
       "<tr><td>GBM_grid__1_AutoML_20200903_171504_model_5         </td><td style=\"text-align: right;\">                0.158024</td><td style=\"text-align: right;\">0.397522</td><td style=\"text-align: right;\">0.158024</td><td style=\"text-align: right;\">0.313151</td><td style=\"text-align: right;\">0.279277</td></tr>\n",
       "<tr><td>GBM_grid__1_AutoML_20200903_171504_model_4         </td><td style=\"text-align: right;\">                0.15818 </td><td style=\"text-align: right;\">0.397719</td><td style=\"text-align: right;\">0.15818 </td><td style=\"text-align: right;\">0.31325 </td><td style=\"text-align: right;\">0.279415</td></tr>\n",
       "<tr><td>XGBoost_grid__1_AutoML_20200903_171504_model_4     </td><td style=\"text-align: right;\">                0.159174</td><td style=\"text-align: right;\">0.398966</td><td style=\"text-align: right;\">0.159174</td><td style=\"text-align: right;\">0.312688</td><td style=\"text-align: right;\">0.280248</td></tr>\n",
       "<tr><td>XGBoost_1_AutoML_20200903_171504                   </td><td style=\"text-align: right;\">                0.159332</td><td style=\"text-align: right;\">0.399164</td><td style=\"text-align: right;\">0.159332</td><td style=\"text-align: right;\">0.31287 </td><td style=\"text-align: right;\">0.280473</td></tr>\n",
       "<tr><td>XGBoost_grid__1_AutoML_20200903_171504_model_8     </td><td style=\"text-align: right;\">                0.159949</td><td style=\"text-align: right;\">0.399936</td><td style=\"text-align: right;\">0.159949</td><td style=\"text-align: right;\">0.311979</td><td style=\"text-align: right;\">0.28105 </td></tr>\n",
       "<tr><td>XGBoost_grid__1_AutoML_20200903_171504_model_3     </td><td style=\"text-align: right;\">                0.160178</td><td style=\"text-align: right;\">0.400223</td><td style=\"text-align: right;\">0.160178</td><td style=\"text-align: right;\">0.313001</td><td style=\"text-align: right;\">0.281287</td></tr>\n",
       "<tr><td>GLM_1_AutoML_20200903_171504                       </td><td style=\"text-align: right;\">                0.160405</td><td style=\"text-align: right;\">0.400506</td><td style=\"text-align: right;\">0.160405</td><td style=\"text-align: right;\">0.324289</td><td style=\"text-align: right;\">0.281245</td></tr>\n",
       "<tr><td>XGBoost_grid__1_AutoML_20200903_171504_model_9     </td><td style=\"text-align: right;\">                0.161121</td><td style=\"text-align: right;\">0.401398</td><td style=\"text-align: right;\">0.161121</td><td style=\"text-align: right;\">0.311973</td><td style=\"text-align: right;\">0.282101</td></tr>\n",
       "<tr><td>DRF_1_AutoML_20200903_171504                       </td><td style=\"text-align: right;\">                0.161167</td><td style=\"text-align: right;\">0.401456</td><td style=\"text-align: right;\">0.161167</td><td style=\"text-align: right;\">0.312881</td><td style=\"text-align: right;\">0.281866</td></tr>\n",
       "<tr><td>XRT_1_AutoML_20200903_171504                       </td><td style=\"text-align: right;\">                0.162247</td><td style=\"text-align: right;\">0.402799</td><td style=\"text-align: right;\">0.162247</td><td style=\"text-align: right;\">0.344354</td><td style=\"text-align: right;\">0.28687 </td></tr>\n",
       "<tr><td>XGBoost_2_AutoML_20200903_171504                   </td><td style=\"text-align: right;\">                0.163265</td><td style=\"text-align: right;\">0.404061</td><td style=\"text-align: right;\">0.163265</td><td style=\"text-align: right;\">0.313878</td><td style=\"text-align: right;\">0.284225</td></tr>\n",
       "</tbody>\n",
       "</table>"
      ]
     },
     "metadata": {},
     "output_type": "display_data"
    },
    {
     "data": {
      "text/plain": []
     },
     "execution_count": 377,
     "metadata": {},
     "output_type": "execute_result"
    }
   ],
   "source": [
    "lb = aml.leaderboard\n",
    "lb.head(rows=lb.nrows)"
   ]
  },
  {
   "cell_type": "code",
   "execution_count": 378,
   "metadata": {},
   "outputs": [
    {
     "name": "stdout",
     "output_type": "stream",
     "text": [
      "\n",
      "ModelMetricsRegressionGLM: stackedensemble\n",
      "** Reported on test data. **\n",
      "\n",
      "MSE: 0.15627632388226553\n",
      "RMSE: 0.39531800348866675\n",
      "MAE: 0.3132304179022321\n",
      "RMSLE: 0.27753919696923146\n",
      "R^2: 0.2562270243364845\n",
      "Mean Residual Deviance: 0.15627632388226553\n",
      "Null degrees of freedom: 56982\n",
      "Residual degrees of freedom: 56969\n",
      "Null deviance: 11972.868572095695\n",
      "Residual deviance: 8905.093763783138\n",
      "AIC: 55972.91976982505\n"
     ]
    },
    {
     "data": {
      "text/plain": []
     },
     "execution_count": 378,
     "metadata": {},
     "output_type": "execute_result"
    }
   ],
   "source": [
    "model = h2o.get_model('StackedEnsemble_AllModels_AutoML_20200903_171504')\n",
    "model.model_performance(test)"
   ]
  },
  {
   "cell_type": "code",
   "execution_count": null,
   "metadata": {},
   "outputs": [],
   "source": []
  }
 ],
 "metadata": {
  "hide_input": false,
  "kernelspec": {
   "display_name": "Python 3",
   "language": "python",
   "name": "python3"
  },
  "language_info": {
   "codemirror_mode": {
    "name": "ipython",
    "version": 3
   },
   "file_extension": ".py",
   "mimetype": "text/x-python",
   "name": "python",
   "nbconvert_exporter": "python",
   "pygments_lexer": "ipython3",
   "version": "3.6.9"
  },
  "toc": {
   "base_numbering": 1,
   "nav_menu": {},
   "number_sections": true,
   "sideBar": true,
   "skip_h1_title": false,
   "title_cell": "Table of Contents",
   "title_sidebar": "Contents",
   "toc_cell": true,
   "toc_position": {
    "height": "calc(100% - 180px)",
    "left": "10px",
    "top": "150px",
    "width": "305.067px"
   },
   "toc_section_display": true,
   "toc_window_display": true
  }
 },
 "nbformat": 4,
 "nbformat_minor": 4
}
