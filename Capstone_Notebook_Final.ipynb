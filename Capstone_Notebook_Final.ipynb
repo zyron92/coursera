{
 "cells": [
  {
   "cell_type": "markdown",
   "metadata": {
    "toc": true
   },
   "source": [
    "<h1>Table of Contents<span class=\"tocSkip\"></span></h1>\n",
    "<div class=\"toc\"><ul class=\"toc-item\"><li><span><a href=\"#Library\" data-toc-modified-id=\"Library-1\"><span class=\"toc-item-num\">1&nbsp;&nbsp;</span>Library</a></span></li><li><span><a href=\"#Data-Ingestion\" data-toc-modified-id=\"Data-Ingestion-2\"><span class=\"toc-item-num\">2&nbsp;&nbsp;</span>Data Ingestion</a></span></li><li><span><a href=\"#Data-Description-&amp;-Preparation\" data-toc-modified-id=\"Data-Description-&amp;-Preparation-3\"><span class=\"toc-item-num\">3&nbsp;&nbsp;</span>Data Description &amp; Preparation</a></span><ul class=\"toc-item\"><li><span><a href=\"#Basic-Info\" data-toc-modified-id=\"Basic-Info-3.1\"><span class=\"toc-item-num\">3.1&nbsp;&nbsp;</span>Basic Info</a></span></li><li><span><a href=\"#Missing-Data\" data-toc-modified-id=\"Missing-Data-3.2\"><span class=\"toc-item-num\">3.2&nbsp;&nbsp;</span>Missing Data</a></span></li><li><span><a href=\"#Balancity-of-Data\" data-toc-modified-id=\"Balancity-of-Data-3.3\"><span class=\"toc-item-num\">3.3&nbsp;&nbsp;</span>Balancity of Data</a></span></li><li><span><a href=\"#Overall-Statistical-Description\" data-toc-modified-id=\"Overall-Statistical-Description-3.4\"><span class=\"toc-item-num\">3.4&nbsp;&nbsp;</span>Overall Statistical Description</a></span></li><li><span><a href=\"#Overall-Pandas-Profiling\" data-toc-modified-id=\"Overall-Pandas-Profiling-3.5\"><span class=\"toc-item-num\">3.5&nbsp;&nbsp;</span>Overall Pandas Profiling</a></span></li><li><span><a href=\"#Data-Processing\" data-toc-modified-id=\"Data-Processing-3.6\"><span class=\"toc-item-num\">3.6&nbsp;&nbsp;</span>Data Processing</a></span><ul class=\"toc-item\"><li><span><a href=\"#Removing-duplicate-column\" data-toc-modified-id=\"Removing-duplicate-column-3.6.1\"><span class=\"toc-item-num\">3.6.1&nbsp;&nbsp;</span>Removing duplicate column</a></span></li><li><span><a href=\"#Removing-high-cardinality-&amp;-unique-columns\" data-toc-modified-id=\"Removing-high-cardinality-&amp;-unique-columns-3.6.2\"><span class=\"toc-item-num\">3.6.2&nbsp;&nbsp;</span>Removing high cardinality &amp; unique columns</a></span></li><li><span><a href=\"#Removing-high-missing-values-columns-(>20%)\" data-toc-modified-id=\"Removing-high-missing-values-columns-(>20%)-3.6.3\"><span class=\"toc-item-num\">3.6.3&nbsp;&nbsp;</span>Removing high missing values columns (&gt;20%)</a></span></li><li><span><a href=\"#Removing-geospatial-related-columns\" data-toc-modified-id=\"Removing-geospatial-related-columns-3.6.4\"><span class=\"toc-item-num\">3.6.4&nbsp;&nbsp;</span>Removing geospatial related columns</a></span></li><li><span><a href=\"#Removing-no-info-/-not-enough-info-columns\" data-toc-modified-id=\"Removing-no-info-/-not-enough-info-columns-3.6.5\"><span class=\"toc-item-num\">3.6.5&nbsp;&nbsp;</span>Removing no-info / not enough info columns</a></span></li><li><span><a href=\"#Removing-unnessary-columns-(description)\" data-toc-modified-id=\"Removing-unnessary-columns-(description)-3.6.6\"><span class=\"toc-item-num\">3.6.6&nbsp;&nbsp;</span>Removing unnessary columns (description)</a></span></li><li><span><a href=\"#Removing-Unsupported-Type-Colums\" data-toc-modified-id=\"Removing-Unsupported-Type-Colums-3.6.7\"><span class=\"toc-item-num\">3.6.7&nbsp;&nbsp;</span>Removing Unsupported Type Colums</a></span></li><li><span><a href=\"#Data-Imputation-for-missing-N-value\" data-toc-modified-id=\"Data-Imputation-for-missing-N-value-3.6.8\"><span class=\"toc-item-num\">3.6.8&nbsp;&nbsp;</span>Data Imputation for missing N value</a></span></li><li><span><a href=\"#Data-Imputation-for-missing-value,-replaced-by-Other-/-Unknown\" data-toc-modified-id=\"Data-Imputation-for-missing-value,-replaced-by-Other-/-Unknown-3.6.9\"><span class=\"toc-item-num\">3.6.9&nbsp;&nbsp;</span>Data Imputation for missing value, replaced by Other / Unknown</a></span></li><li><span><a href=\"#Data-Cleanup-for-Y/N-columns,-making-sure-only-&quot;Y&quot;-or-&quot;N&quot;\" data-toc-modified-id=\"Data-Cleanup-for-Y/N-columns,-making-sure-only-&quot;Y&quot;-or-&quot;N&quot;-3.6.10\"><span class=\"toc-item-num\">3.6.10&nbsp;&nbsp;</span>Data Cleanup for Y/N columns, making sure only \"Y\" or \"N\"</a></span></li><li><span><a href=\"#Transforming-Y/N-into-1-or-0-(Label-Encoding)-for-integration-with-Model\" data-toc-modified-id=\"Transforming-Y/N-into-1-or-0-(Label-Encoding)-for-integration-with-Model-3.6.11\"><span class=\"toc-item-num\">3.6.11&nbsp;&nbsp;</span>Transforming Y/N into 1 or 0 (Label Encoding) for integration with Model</a></span></li><li><span><a href=\"#Transforming-1/2-of-severity-code-into-1-or-0-(Label-Encoding)-for-integration-with-Model\" data-toc-modified-id=\"Transforming-1/2-of-severity-code-into-1-or-0-(Label-Encoding)-for-integration-with-Model-3.6.12\"><span class=\"toc-item-num\">3.6.12&nbsp;&nbsp;</span>Transforming 1/2 of severity code into 1 or 0 (Label Encoding) for integration with Model</a></span></li><li><span><a href=\"#Transforming-Accident-Datetime-column-into-Weekend/Weekday-&amp;-Day/Evening\" data-toc-modified-id=\"Transforming-Accident-Datetime-column-into-Weekend/Weekday-&amp;-Day/Evening-3.6.13\"><span class=\"toc-item-num\">3.6.13&nbsp;&nbsp;</span>Transforming Accident Datetime column into Weekend/Weekday &amp; Day/Evening</a></span></li></ul></li></ul></li><li><span><a href=\"#Exploratory-Data-Analysis-(EDA)\" data-toc-modified-id=\"Exploratory-Data-Analysis-(EDA)-4\"><span class=\"toc-item-num\">4&nbsp;&nbsp;</span>Exploratory Data Analysis (EDA)</a></span></li><li><span><a href=\"#Model-Training,-Prediction-&amp;-Results\" data-toc-modified-id=\"Model-Training,-Prediction-&amp;-Results-5\"><span class=\"toc-item-num\">5&nbsp;&nbsp;</span>Model Training, Prediction &amp; Results</a></span></li></ul></div>"
   ]
  },
  {
   "cell_type": "markdown",
   "metadata": {},
   "source": [
    "# Library"
   ]
  },
  {
   "cell_type": "code",
   "execution_count": 375,
   "metadata": {},
   "outputs": [],
   "source": [
    "import pandas as pd\n",
    "import numpy as np \n",
    "from pandas_profiling import ProfileReport\n",
    "import seaborn as sns # data visualization library  \n",
    "import matplotlib.pyplot as plt\n",
    "import time\n",
    "import h2o\n",
    "from h2o.automl import H2OAutoML"
   ]
  },
  {
   "cell_type": "markdown",
   "metadata": {},
   "source": [
    "# Data Ingestion"
   ]
  },
  {
   "cell_type": "code",
   "execution_count": 283,
   "metadata": {},
   "outputs": [
    {
     "name": "stderr",
     "output_type": "stream",
     "text": [
      "/home2/azizi/pyvenv/ds1/lib/python3.6/site-packages/IPython/core/interactiveshell.py:3072: DtypeWarning: Columns (33) have mixed types.Specify dtype option on import or set low_memory=False.\n",
      "  interactivity=interactivity, compiler=compiler, result=result)\n"
     ]
    }
   ],
   "source": [
    "df = pd.read_csv(\"data/Data-Collisions.csv\")"
   ]
  },
  {
   "cell_type": "code",
   "execution_count": 284,
   "metadata": {},
   "outputs": [
    {
     "data": {
      "text/plain": [
       "Index(['SEVERITYCODE', 'X', 'Y', 'OBJECTID', 'INCKEY', 'COLDETKEY', 'REPORTNO',\n",
       "       'STATUS', 'ADDRTYPE', 'INTKEY', 'LOCATION', 'EXCEPTRSNCODE',\n",
       "       'EXCEPTRSNDESC', 'SEVERITYCODE.1', 'SEVERITYDESC', 'COLLISIONTYPE',\n",
       "       'PERSONCOUNT', 'PEDCOUNT', 'PEDCYLCOUNT', 'VEHCOUNT', 'INCDATE',\n",
       "       'INCDTTM', 'JUNCTIONTYPE', 'SDOT_COLCODE', 'SDOT_COLDESC',\n",
       "       'INATTENTIONIND', 'UNDERINFL', 'WEATHER', 'ROADCOND', 'LIGHTCOND',\n",
       "       'PEDROWNOTGRNT', 'SDOTCOLNUM', 'SPEEDING', 'ST_COLCODE', 'ST_COLDESC',\n",
       "       'SEGLANEKEY', 'CROSSWALKKEY', 'HITPARKEDCAR'],\n",
       "      dtype='object')"
      ]
     },
     "execution_count": 284,
     "metadata": {},
     "output_type": "execute_result"
    }
   ],
   "source": [
    "df.columns"
   ]
  },
  {
   "cell_type": "code",
   "execution_count": 285,
   "metadata": {},
   "outputs": [
    {
     "data": {
      "text/html": [
       "<div>\n",
       "<style scoped>\n",
       "    .dataframe tbody tr th:only-of-type {\n",
       "        vertical-align: middle;\n",
       "    }\n",
       "\n",
       "    .dataframe tbody tr th {\n",
       "        vertical-align: top;\n",
       "    }\n",
       "\n",
       "    .dataframe thead th {\n",
       "        text-align: right;\n",
       "    }\n",
       "</style>\n",
       "<table border=\"1\" class=\"dataframe\">\n",
       "  <thead>\n",
       "    <tr style=\"text-align: right;\">\n",
       "      <th></th>\n",
       "      <th>SEVERITYCODE</th>\n",
       "      <th>X</th>\n",
       "      <th>Y</th>\n",
       "      <th>OBJECTID</th>\n",
       "      <th>INCKEY</th>\n",
       "      <th>COLDETKEY</th>\n",
       "      <th>REPORTNO</th>\n",
       "      <th>STATUS</th>\n",
       "      <th>ADDRTYPE</th>\n",
       "      <th>INTKEY</th>\n",
       "      <th>...</th>\n",
       "      <th>ROADCOND</th>\n",
       "      <th>LIGHTCOND</th>\n",
       "      <th>PEDROWNOTGRNT</th>\n",
       "      <th>SDOTCOLNUM</th>\n",
       "      <th>SPEEDING</th>\n",
       "      <th>ST_COLCODE</th>\n",
       "      <th>ST_COLDESC</th>\n",
       "      <th>SEGLANEKEY</th>\n",
       "      <th>CROSSWALKKEY</th>\n",
       "      <th>HITPARKEDCAR</th>\n",
       "    </tr>\n",
       "  </thead>\n",
       "  <tbody>\n",
       "    <tr>\n",
       "      <th>0</th>\n",
       "      <td>2</td>\n",
       "      <td>-122.323148</td>\n",
       "      <td>47.703140</td>\n",
       "      <td>1</td>\n",
       "      <td>1307</td>\n",
       "      <td>1307</td>\n",
       "      <td>3502005</td>\n",
       "      <td>Matched</td>\n",
       "      <td>Intersection</td>\n",
       "      <td>37475.0</td>\n",
       "      <td>...</td>\n",
       "      <td>Wet</td>\n",
       "      <td>Daylight</td>\n",
       "      <td>NaN</td>\n",
       "      <td>NaN</td>\n",
       "      <td>NaN</td>\n",
       "      <td>10</td>\n",
       "      <td>Entering at angle</td>\n",
       "      <td>0</td>\n",
       "      <td>0</td>\n",
       "      <td>N</td>\n",
       "    </tr>\n",
       "    <tr>\n",
       "      <th>1</th>\n",
       "      <td>1</td>\n",
       "      <td>-122.347294</td>\n",
       "      <td>47.647172</td>\n",
       "      <td>2</td>\n",
       "      <td>52200</td>\n",
       "      <td>52200</td>\n",
       "      <td>2607959</td>\n",
       "      <td>Matched</td>\n",
       "      <td>Block</td>\n",
       "      <td>NaN</td>\n",
       "      <td>...</td>\n",
       "      <td>Wet</td>\n",
       "      <td>Dark - Street Lights On</td>\n",
       "      <td>NaN</td>\n",
       "      <td>6354039.0</td>\n",
       "      <td>NaN</td>\n",
       "      <td>11</td>\n",
       "      <td>From same direction - both going straight - bo...</td>\n",
       "      <td>0</td>\n",
       "      <td>0</td>\n",
       "      <td>N</td>\n",
       "    </tr>\n",
       "    <tr>\n",
       "      <th>2</th>\n",
       "      <td>1</td>\n",
       "      <td>-122.334540</td>\n",
       "      <td>47.607871</td>\n",
       "      <td>3</td>\n",
       "      <td>26700</td>\n",
       "      <td>26700</td>\n",
       "      <td>1482393</td>\n",
       "      <td>Matched</td>\n",
       "      <td>Block</td>\n",
       "      <td>NaN</td>\n",
       "      <td>...</td>\n",
       "      <td>Dry</td>\n",
       "      <td>Daylight</td>\n",
       "      <td>NaN</td>\n",
       "      <td>4323031.0</td>\n",
       "      <td>NaN</td>\n",
       "      <td>32</td>\n",
       "      <td>One parked--one moving</td>\n",
       "      <td>0</td>\n",
       "      <td>0</td>\n",
       "      <td>N</td>\n",
       "    </tr>\n",
       "    <tr>\n",
       "      <th>3</th>\n",
       "      <td>1</td>\n",
       "      <td>-122.334803</td>\n",
       "      <td>47.604803</td>\n",
       "      <td>4</td>\n",
       "      <td>1144</td>\n",
       "      <td>1144</td>\n",
       "      <td>3503937</td>\n",
       "      <td>Matched</td>\n",
       "      <td>Block</td>\n",
       "      <td>NaN</td>\n",
       "      <td>...</td>\n",
       "      <td>Dry</td>\n",
       "      <td>Daylight</td>\n",
       "      <td>NaN</td>\n",
       "      <td>NaN</td>\n",
       "      <td>NaN</td>\n",
       "      <td>23</td>\n",
       "      <td>From same direction - all others</td>\n",
       "      <td>0</td>\n",
       "      <td>0</td>\n",
       "      <td>N</td>\n",
       "    </tr>\n",
       "    <tr>\n",
       "      <th>4</th>\n",
       "      <td>2</td>\n",
       "      <td>-122.306426</td>\n",
       "      <td>47.545739</td>\n",
       "      <td>5</td>\n",
       "      <td>17700</td>\n",
       "      <td>17700</td>\n",
       "      <td>1807429</td>\n",
       "      <td>Matched</td>\n",
       "      <td>Intersection</td>\n",
       "      <td>34387.0</td>\n",
       "      <td>...</td>\n",
       "      <td>Wet</td>\n",
       "      <td>Daylight</td>\n",
       "      <td>NaN</td>\n",
       "      <td>4028032.0</td>\n",
       "      <td>NaN</td>\n",
       "      <td>10</td>\n",
       "      <td>Entering at angle</td>\n",
       "      <td>0</td>\n",
       "      <td>0</td>\n",
       "      <td>N</td>\n",
       "    </tr>\n",
       "  </tbody>\n",
       "</table>\n",
       "<p>5 rows × 38 columns</p>\n",
       "</div>"
      ],
      "text/plain": [
       "   SEVERITYCODE           X          Y  OBJECTID  INCKEY  COLDETKEY REPORTNO  \\\n",
       "0             2 -122.323148  47.703140         1    1307       1307  3502005   \n",
       "1             1 -122.347294  47.647172         2   52200      52200  2607959   \n",
       "2             1 -122.334540  47.607871         3   26700      26700  1482393   \n",
       "3             1 -122.334803  47.604803         4    1144       1144  3503937   \n",
       "4             2 -122.306426  47.545739         5   17700      17700  1807429   \n",
       "\n",
       "    STATUS      ADDRTYPE   INTKEY  ... ROADCOND                LIGHTCOND  \\\n",
       "0  Matched  Intersection  37475.0  ...      Wet                 Daylight   \n",
       "1  Matched         Block      NaN  ...      Wet  Dark - Street Lights On   \n",
       "2  Matched         Block      NaN  ...      Dry                 Daylight   \n",
       "3  Matched         Block      NaN  ...      Dry                 Daylight   \n",
       "4  Matched  Intersection  34387.0  ...      Wet                 Daylight   \n",
       "\n",
       "  PEDROWNOTGRNT  SDOTCOLNUM SPEEDING ST_COLCODE  \\\n",
       "0           NaN         NaN      NaN         10   \n",
       "1           NaN   6354039.0      NaN         11   \n",
       "2           NaN   4323031.0      NaN         32   \n",
       "3           NaN         NaN      NaN         23   \n",
       "4           NaN   4028032.0      NaN         10   \n",
       "\n",
       "                                          ST_COLDESC  SEGLANEKEY  \\\n",
       "0                                  Entering at angle           0   \n",
       "1  From same direction - both going straight - bo...           0   \n",
       "2                             One parked--one moving           0   \n",
       "3                   From same direction - all others           0   \n",
       "4                                  Entering at angle           0   \n",
       "\n",
       "   CROSSWALKKEY  HITPARKEDCAR  \n",
       "0             0             N  \n",
       "1             0             N  \n",
       "2             0             N  \n",
       "3             0             N  \n",
       "4             0             N  \n",
       "\n",
       "[5 rows x 38 columns]"
      ]
     },
     "execution_count": 285,
     "metadata": {},
     "output_type": "execute_result"
    }
   ],
   "source": [
    "df.head()"
   ]
  },
  {
   "cell_type": "code",
   "execution_count": 286,
   "metadata": {},
   "outputs": [],
   "source": [
    "# We are going to use data involving car (vehicle)\n",
    "df = df[df[\"VEHCOUNT\"] > 0]"
   ]
  },
  {
   "cell_type": "markdown",
   "metadata": {},
   "source": [
    "# Data Description & Preparation"
   ]
  },
  {
   "cell_type": "markdown",
   "metadata": {},
   "source": [
    "## Basic Info"
   ]
  },
  {
   "cell_type": "code",
   "execution_count": 287,
   "metadata": {},
   "outputs": [
    {
     "data": {
      "text/plain": [
       "Index(['SEVERITYCODE', 'X', 'Y', 'OBJECTID', 'INCKEY', 'COLDETKEY', 'REPORTNO',\n",
       "       'STATUS', 'ADDRTYPE', 'INTKEY', 'LOCATION', 'EXCEPTRSNCODE',\n",
       "       'EXCEPTRSNDESC', 'SEVERITYCODE.1', 'SEVERITYDESC', 'COLLISIONTYPE',\n",
       "       'PERSONCOUNT', 'PEDCOUNT', 'PEDCYLCOUNT', 'VEHCOUNT', 'INCDATE',\n",
       "       'INCDTTM', 'JUNCTIONTYPE', 'SDOT_COLCODE', 'SDOT_COLDESC',\n",
       "       'INATTENTIONIND', 'UNDERINFL', 'WEATHER', 'ROADCOND', 'LIGHTCOND',\n",
       "       'PEDROWNOTGRNT', 'SDOTCOLNUM', 'SPEEDING', 'ST_COLCODE', 'ST_COLDESC',\n",
       "       'SEGLANEKEY', 'CROSSWALKKEY', 'HITPARKEDCAR'],\n",
       "      dtype='object')"
      ]
     },
     "execution_count": 287,
     "metadata": {},
     "output_type": "execute_result"
    }
   ],
   "source": [
    "df.columns"
   ]
  },
  {
   "cell_type": "code",
   "execution_count": 288,
   "metadata": {},
   "outputs": [
    {
     "name": "stdout",
     "output_type": "stream",
     "text": [
      "Number of attributes :  38\n"
     ]
    }
   ],
   "source": [
    "print(\"Number of attributes : \", len(df.columns))"
   ]
  },
  {
   "cell_type": "code",
   "execution_count": 289,
   "metadata": {},
   "outputs": [
    {
     "name": "stdout",
     "output_type": "stream",
     "text": [
      "Number of observations :  189588\n"
     ]
    }
   ],
   "source": [
    "print(\"Number of observations : \", len(df))"
   ]
  },
  {
   "cell_type": "markdown",
   "metadata": {},
   "source": [
    "## Missing Data"
   ]
  },
  {
   "cell_type": "code",
   "execution_count": 290,
   "metadata": {},
   "outputs": [
    {
     "name": "stdout",
     "output_type": "stream",
     "text": [
      "Number of missing data for column 'ROADCOND' :  126\n"
     ]
    }
   ],
   "source": [
    "print(\"Number of missing data for column 'ROADCOND' : \", df[\"ROADCOND\"].isna().sum())"
   ]
  },
  {
   "cell_type": "code",
   "execution_count": 291,
   "metadata": {},
   "outputs": [
    {
     "data": {
      "text/plain": [
       "SEVERITYCODE           0\n",
       "X                   5186\n",
       "Y                   5186\n",
       "OBJECTID               0\n",
       "INCKEY                 0\n",
       "COLDETKEY              0\n",
       "REPORTNO               0\n",
       "STATUS                 0\n",
       "ADDRTYPE            1818\n",
       "INTKEY            126118\n",
       "LOCATION            2565\n",
       "EXCEPTRSNCODE     109777\n",
       "EXCEPTRSNDESC     184725\n",
       "SEVERITYCODE.1         0\n",
       "SEVERITYDESC           0\n",
       "COLLISIONTYPE         20\n",
       "PERSONCOUNT            0\n",
       "PEDCOUNT               0\n",
       "PEDCYLCOUNT            0\n",
       "VEHCOUNT               0\n",
       "INCDATE                0\n",
       "INCDTTM                0\n",
       "JUNCTIONTYPE        6176\n",
       "SDOT_COLCODE           0\n",
       "SDOT_COLDESC           0\n",
       "INATTENTIONIND    159800\n",
       "UNDERINFL              0\n",
       "WEATHER              194\n",
       "ROADCOND             126\n",
       "LIGHTCOND            284\n",
       "PEDROWNOTGRNT     184954\n",
       "SDOTCOLNUM         74837\n",
       "SPEEDING          180262\n",
       "ST_COLCODE            17\n",
       "ST_COLDESC            20\n",
       "SEGLANEKEY             0\n",
       "CROSSWALKKEY           0\n",
       "HITPARKEDCAR           0\n",
       "dtype: int64"
      ]
     },
     "execution_count": 291,
     "metadata": {},
     "output_type": "execute_result"
    }
   ],
   "source": [
    "df.isna().sum()"
   ]
  },
  {
   "cell_type": "markdown",
   "metadata": {},
   "source": [
    "## Balancity of Data"
   ]
  },
  {
   "cell_type": "code",
   "execution_count": 292,
   "metadata": {},
   "outputs": [],
   "source": [
    "targetCol = \"SEVERITYCODE\""
   ]
  },
  {
   "cell_type": "code",
   "execution_count": 293,
   "metadata": {},
   "outputs": [
    {
     "data": {
      "text/plain": [
       "1    132627\n",
       "2     56961\n",
       "Name: SEVERITYCODE, dtype: int64"
      ]
     },
     "execution_count": 293,
     "metadata": {},
     "output_type": "execute_result"
    }
   ],
   "source": [
    "df[targetCol].value_counts()"
   ]
  },
  {
   "cell_type": "markdown",
   "metadata": {},
   "source": [
    "We could see that the dataset is imbalanced."
   ]
  },
  {
   "cell_type": "markdown",
   "metadata": {},
   "source": [
    "## Overall Statistical Description"
   ]
  },
  {
   "cell_type": "code",
   "execution_count": 294,
   "metadata": {},
   "outputs": [
    {
     "data": {
      "text/html": [
       "<div>\n",
       "<style scoped>\n",
       "    .dataframe tbody tr th:only-of-type {\n",
       "        vertical-align: middle;\n",
       "    }\n",
       "\n",
       "    .dataframe tbody tr th {\n",
       "        vertical-align: top;\n",
       "    }\n",
       "\n",
       "    .dataframe thead th {\n",
       "        text-align: right;\n",
       "    }\n",
       "</style>\n",
       "<table border=\"1\" class=\"dataframe\">\n",
       "  <thead>\n",
       "    <tr style=\"text-align: right;\">\n",
       "      <th></th>\n",
       "      <th>SEVERITYCODE</th>\n",
       "      <th>X</th>\n",
       "      <th>Y</th>\n",
       "      <th>OBJECTID</th>\n",
       "      <th>INCKEY</th>\n",
       "      <th>COLDETKEY</th>\n",
       "      <th>INTKEY</th>\n",
       "      <th>SEVERITYCODE.1</th>\n",
       "      <th>PERSONCOUNT</th>\n",
       "      <th>PEDCOUNT</th>\n",
       "      <th>PEDCYLCOUNT</th>\n",
       "      <th>VEHCOUNT</th>\n",
       "      <th>SDOT_COLCODE</th>\n",
       "      <th>SDOTCOLNUM</th>\n",
       "      <th>SEGLANEKEY</th>\n",
       "      <th>CROSSWALKKEY</th>\n",
       "    </tr>\n",
       "  </thead>\n",
       "  <tbody>\n",
       "    <tr>\n",
       "      <th>count</th>\n",
       "      <td>189588.000000</td>\n",
       "      <td>184402.000000</td>\n",
       "      <td>184402.000000</td>\n",
       "      <td>189588.000000</td>\n",
       "      <td>189588.000000</td>\n",
       "      <td>189588.000000</td>\n",
       "      <td>63470.000000</td>\n",
       "      <td>189588.000000</td>\n",
       "      <td>189588.000000</td>\n",
       "      <td>189588.000000</td>\n",
       "      <td>189588.000000</td>\n",
       "      <td>189588.000000</td>\n",
       "      <td>189588.000000</td>\n",
       "      <td>1.147510e+05</td>\n",
       "      <td>189588.000000</td>\n",
       "      <td>1.895880e+05</td>\n",
       "    </tr>\n",
       "    <tr>\n",
       "      <th>mean</th>\n",
       "      <td>1.300446</td>\n",
       "      <td>-122.330505</td>\n",
       "      <td>47.619521</td>\n",
       "      <td>106817.220979</td>\n",
       "      <td>138402.592210</td>\n",
       "      <td>138596.750928</td>\n",
       "      <td>37502.213818</td>\n",
       "      <td>1.300446</td>\n",
       "      <td>2.460061</td>\n",
       "      <td>0.037703</td>\n",
       "      <td>0.028019</td>\n",
       "      <td>1.972298</td>\n",
       "      <td>13.884196</td>\n",
       "      <td>7.968383e+06</td>\n",
       "      <td>260.714275</td>\n",
       "      <td>9.800749e+03</td>\n",
       "    </tr>\n",
       "    <tr>\n",
       "      <th>std</th>\n",
       "      <td>0.458453</td>\n",
       "      <td>0.030026</td>\n",
       "      <td>0.056230</td>\n",
       "      <td>62222.443268</td>\n",
       "      <td>85301.472291</td>\n",
       "      <td>85638.254616</td>\n",
       "      <td>51365.581899</td>\n",
       "      <td>0.458453</td>\n",
       "      <td>1.355109</td>\n",
       "      <td>0.199670</td>\n",
       "      <td>0.165951</td>\n",
       "      <td>0.554339</td>\n",
       "      <td>6.701585</td>\n",
       "      <td>2.550992e+06</td>\n",
       "      <td>3293.690652</td>\n",
       "      <td>7.235521e+04</td>\n",
       "    </tr>\n",
       "    <tr>\n",
       "      <th>min</th>\n",
       "      <td>1.000000</td>\n",
       "      <td>-122.419091</td>\n",
       "      <td>47.495573</td>\n",
       "      <td>1.000000</td>\n",
       "      <td>1001.000000</td>\n",
       "      <td>1001.000000</td>\n",
       "      <td>23807.000000</td>\n",
       "      <td>1.000000</td>\n",
       "      <td>0.000000</td>\n",
       "      <td>0.000000</td>\n",
       "      <td>0.000000</td>\n",
       "      <td>1.000000</td>\n",
       "      <td>0.000000</td>\n",
       "      <td>1.007024e+06</td>\n",
       "      <td>0.000000</td>\n",
       "      <td>0.000000e+00</td>\n",
       "    </tr>\n",
       "    <tr>\n",
       "      <th>25%</th>\n",
       "      <td>1.000000</td>\n",
       "      <td>-122.348859</td>\n",
       "      <td>47.575873</td>\n",
       "      <td>53116.750000</td>\n",
       "      <td>69096.750000</td>\n",
       "      <td>69096.750000</td>\n",
       "      <td>28667.000000</td>\n",
       "      <td>1.000000</td>\n",
       "      <td>2.000000</td>\n",
       "      <td>0.000000</td>\n",
       "      <td>0.000000</td>\n",
       "      <td>2.000000</td>\n",
       "      <td>11.000000</td>\n",
       "      <td>6.039024e+06</td>\n",
       "      <td>0.000000</td>\n",
       "      <td>0.000000e+00</td>\n",
       "    </tr>\n",
       "    <tr>\n",
       "      <th>50%</th>\n",
       "      <td>1.000000</td>\n",
       "      <td>-122.330168</td>\n",
       "      <td>47.615357</td>\n",
       "      <td>104253.500000</td>\n",
       "      <td>120591.500000</td>\n",
       "      <td>120591.500000</td>\n",
       "      <td>29973.000000</td>\n",
       "      <td>1.000000</td>\n",
       "      <td>2.000000</td>\n",
       "      <td>0.000000</td>\n",
       "      <td>0.000000</td>\n",
       "      <td>2.000000</td>\n",
       "      <td>13.000000</td>\n",
       "      <td>8.022004e+06</td>\n",
       "      <td>0.000000</td>\n",
       "      <td>0.000000e+00</td>\n",
       "    </tr>\n",
       "    <tr>\n",
       "      <th>75%</th>\n",
       "      <td>2.000000</td>\n",
       "      <td>-122.311918</td>\n",
       "      <td>47.663835</td>\n",
       "      <td>160018.250000</td>\n",
       "      <td>199153.250000</td>\n",
       "      <td>199293.250000</td>\n",
       "      <td>33984.000000</td>\n",
       "      <td>2.000000</td>\n",
       "      <td>3.000000</td>\n",
       "      <td>0.000000</td>\n",
       "      <td>0.000000</td>\n",
       "      <td>2.000000</td>\n",
       "      <td>14.000000</td>\n",
       "      <td>1.015301e+07</td>\n",
       "      <td>0.000000</td>\n",
       "      <td>0.000000e+00</td>\n",
       "    </tr>\n",
       "    <tr>\n",
       "      <th>max</th>\n",
       "      <td>2.000000</td>\n",
       "      <td>-122.238949</td>\n",
       "      <td>47.734142</td>\n",
       "      <td>219547.000000</td>\n",
       "      <td>331342.000000</td>\n",
       "      <td>332842.000000</td>\n",
       "      <td>757580.000000</td>\n",
       "      <td>2.000000</td>\n",
       "      <td>81.000000</td>\n",
       "      <td>6.000000</td>\n",
       "      <td>2.000000</td>\n",
       "      <td>12.000000</td>\n",
       "      <td>69.000000</td>\n",
       "      <td>1.307202e+07</td>\n",
       "      <td>525241.000000</td>\n",
       "      <td>5.239700e+06</td>\n",
       "    </tr>\n",
       "  </tbody>\n",
       "</table>\n",
       "</div>"
      ],
      "text/plain": [
       "        SEVERITYCODE              X              Y       OBJECTID  \\\n",
       "count  189588.000000  184402.000000  184402.000000  189588.000000   \n",
       "mean        1.300446    -122.330505      47.619521  106817.220979   \n",
       "std         0.458453       0.030026       0.056230   62222.443268   \n",
       "min         1.000000    -122.419091      47.495573       1.000000   \n",
       "25%         1.000000    -122.348859      47.575873   53116.750000   \n",
       "50%         1.000000    -122.330168      47.615357  104253.500000   \n",
       "75%         2.000000    -122.311918      47.663835  160018.250000   \n",
       "max         2.000000    -122.238949      47.734142  219547.000000   \n",
       "\n",
       "              INCKEY      COLDETKEY         INTKEY  SEVERITYCODE.1  \\\n",
       "count  189588.000000  189588.000000   63470.000000   189588.000000   \n",
       "mean   138402.592210  138596.750928   37502.213818        1.300446   \n",
       "std     85301.472291   85638.254616   51365.581899        0.458453   \n",
       "min      1001.000000    1001.000000   23807.000000        1.000000   \n",
       "25%     69096.750000   69096.750000   28667.000000        1.000000   \n",
       "50%    120591.500000  120591.500000   29973.000000        1.000000   \n",
       "75%    199153.250000  199293.250000   33984.000000        2.000000   \n",
       "max    331342.000000  332842.000000  757580.000000        2.000000   \n",
       "\n",
       "         PERSONCOUNT       PEDCOUNT    PEDCYLCOUNT       VEHCOUNT  \\\n",
       "count  189588.000000  189588.000000  189588.000000  189588.000000   \n",
       "mean        2.460061       0.037703       0.028019       1.972298   \n",
       "std         1.355109       0.199670       0.165951       0.554339   \n",
       "min         0.000000       0.000000       0.000000       1.000000   \n",
       "25%         2.000000       0.000000       0.000000       2.000000   \n",
       "50%         2.000000       0.000000       0.000000       2.000000   \n",
       "75%         3.000000       0.000000       0.000000       2.000000   \n",
       "max        81.000000       6.000000       2.000000      12.000000   \n",
       "\n",
       "        SDOT_COLCODE    SDOTCOLNUM     SEGLANEKEY  CROSSWALKKEY  \n",
       "count  189588.000000  1.147510e+05  189588.000000  1.895880e+05  \n",
       "mean       13.884196  7.968383e+06     260.714275  9.800749e+03  \n",
       "std         6.701585  2.550992e+06    3293.690652  7.235521e+04  \n",
       "min         0.000000  1.007024e+06       0.000000  0.000000e+00  \n",
       "25%        11.000000  6.039024e+06       0.000000  0.000000e+00  \n",
       "50%        13.000000  8.022004e+06       0.000000  0.000000e+00  \n",
       "75%        14.000000  1.015301e+07       0.000000  0.000000e+00  \n",
       "max        69.000000  1.307202e+07  525241.000000  5.239700e+06  "
      ]
     },
     "execution_count": 294,
     "metadata": {},
     "output_type": "execute_result"
    }
   ],
   "source": [
    "df.describe()"
   ]
  },
  {
   "cell_type": "markdown",
   "metadata": {},
   "source": [
    "## Overall Pandas Profiling"
   ]
  },
  {
   "cell_type": "code",
   "execution_count": null,
   "metadata": {},
   "outputs": [],
   "source": [
    "output_filename = 'output/ibm_applied_ds_capstone_profiling_overall.html'\n",
    "profile = ProfileReport(df, title='Data Profiling of Collisions Data', explorative=True)\n",
    "profile.to_file(output_file=output_filename)"
   ]
  },
  {
   "cell_type": "markdown",
   "metadata": {},
   "source": [
    "Kindly open the weblink below for the profiling information<br>\n",
    "<a href=\"https://zyron92.github.io/coursera/ibm_applied_ds_capstone_profiling_overall.html\">Overall Data Profiling</a>"
   ]
  },
  {
   "cell_type": "markdown",
   "metadata": {},
   "source": [
    "## Data Processing"
   ]
  },
  {
   "cell_type": "markdown",
   "metadata": {},
   "source": [
    "### Removing duplicate column"
   ]
  },
  {
   "cell_type": "code",
   "execution_count": 296,
   "metadata": {},
   "outputs": [],
   "source": [
    "df.drop(columns=[\"SEVERITYCODE.1\",\"INCDATE\"], inplace=True, axis=1)"
   ]
  },
  {
   "cell_type": "markdown",
   "metadata": {},
   "source": [
    "### Removing high cardinality & unique columns"
   ]
  },
  {
   "cell_type": "code",
   "execution_count": 297,
   "metadata": {},
   "outputs": [],
   "source": [
    "df.drop(columns=[\"REPORTNO\",'OBJECTID', 'INCKEY', 'COLDETKEY'], inplace=True, axis=1)"
   ]
  },
  {
   "cell_type": "markdown",
   "metadata": {},
   "source": [
    "### Removing high missing values columns (>20%)\n"
   ]
  },
  {
   "cell_type": "code",
   "execution_count": 298,
   "metadata": {},
   "outputs": [],
   "source": [
    "df.drop(columns=[\"INTKEY\",\"EXCEPTRSNCODE\",\"EXCEPTRSNDESC\",\"SDOTCOLNUM\"], inplace=True, axis=1)"
   ]
  },
  {
   "cell_type": "markdown",
   "metadata": {},
   "source": [
    "### Removing geospatial related columns"
   ]
  },
  {
   "cell_type": "code",
   "execution_count": 299,
   "metadata": {},
   "outputs": [],
   "source": [
    "df.drop(columns=['ADDRTYPE', 'LOCATION'], inplace=True, axis=1)"
   ]
  },
  {
   "cell_type": "markdown",
   "metadata": {},
   "source": [
    "### Removing no-info / not enough info columns"
   ]
  },
  {
   "cell_type": "code",
   "execution_count": 300,
   "metadata": {},
   "outputs": [],
   "source": [
    "df.drop(columns=['X', 'Y', 'STATUS','SEGLANEKEY','CROSSWALKKEY'], inplace=True, axis=1)"
   ]
  },
  {
   "cell_type": "markdown",
   "metadata": {},
   "source": [
    "### Removing unnessary columns (description)"
   ]
  },
  {
   "cell_type": "code",
   "execution_count": 301,
   "metadata": {},
   "outputs": [],
   "source": [
    "df.drop(columns=['SEVERITYDESC','SDOT_COLDESC','ST_COLDESC'], inplace=True, axis=1)"
   ]
  },
  {
   "cell_type": "markdown",
   "metadata": {},
   "source": [
    "### Removing Unsupported Type Colums"
   ]
  },
  {
   "cell_type": "code",
   "execution_count": 302,
   "metadata": {},
   "outputs": [],
   "source": [
    "df.drop(columns=[\"ST_COLCODE\"], inplace=True, axis=1)"
   ]
  },
  {
   "cell_type": "markdown",
   "metadata": {},
   "source": [
    "### Data Imputation for missing N value"
   ]
  },
  {
   "cell_type": "code",
   "execution_count": 303,
   "metadata": {},
   "outputs": [],
   "source": [
    "df[\"INATTENTIONIND\"] = np.where(df[\"INATTENTIONIND\"].isnull(), \"N\", df[\"INATTENTIONIND\"])\n",
    "df[\"PEDROWNOTGRNT\"] = np.where(df[\"PEDROWNOTGRNT\"].isnull(), \"N\", df[\"PEDROWNOTGRNT\"])\n",
    "df[\"SPEEDING\"] = np.where(df[\"SPEEDING\"].isnull(), \"N\", df[\"SPEEDING\"])\n",
    "df[\"UNDERINFL\"] = np.where(df[\"UNDERINFL\"].isnull(), \"N\", df[\"UNDERINFL\"])"
   ]
  },
  {
   "cell_type": "markdown",
   "metadata": {},
   "source": [
    "### Data Imputation for missing value, replaced by Other / Unknown"
   ]
  },
  {
   "cell_type": "code",
   "execution_count": 304,
   "metadata": {},
   "outputs": [],
   "source": [
    "df[\"COLLISIONTYPE\"] = np.where(df[\"COLLISIONTYPE\"].isnull(), \"Other\", df[\"COLLISIONTYPE\"])\n",
    "df[\"JUNCTIONTYPE\"] = np.where(df[\"JUNCTIONTYPE\"].isnull(), \"Unknown\", df[\"JUNCTIONTYPE\"])\n",
    "df[\"WEATHER\"] = np.where(df[\"WEATHER\"].isnull(), \"Unknown\", df[\"WEATHER\"])\n",
    "df[\"ROADCOND\"] = np.where(df[\"ROADCOND\"].isnull(), \"Unknown\", df[\"ROADCOND\"])\n",
    "df[\"LIGHTCOND\"] = np.where(df[\"LIGHTCOND\"].isnull(), \"Unknown\", df[\"LIGHTCOND\"])"
   ]
  },
  {
   "cell_type": "markdown",
   "metadata": {},
   "source": [
    "### Data Cleanup for Y/N columns, making sure only \"Y\" or \"N\""
   ]
  },
  {
   "cell_type": "code",
   "execution_count": 305,
   "metadata": {},
   "outputs": [],
   "source": [
    "df[\"UNDERINFL\"] = np.where(df[\"UNDERINFL\"]==\"0\", \"N\", df[\"UNDERINFL\"])\n",
    "df[\"UNDERINFL\"] = np.where(df[\"UNDERINFL\"]==\"1\", \"Y\", df[\"UNDERINFL\"])"
   ]
  },
  {
   "cell_type": "code",
   "execution_count": 306,
   "metadata": {},
   "outputs": [
    {
     "data": {
      "text/plain": [
       "UNDERINFL         object\n",
       "INATTENTIONIND    object\n",
       "PEDROWNOTGRNT     object\n",
       "SPEEDING          object\n",
       "UNDERINFL         object\n",
       "dtype: object"
      ]
     },
     "execution_count": 306,
     "metadata": {},
     "output_type": "execute_result"
    }
   ],
   "source": [
    "df[[\"UNDERINFL\",\"INATTENTIONIND\",\"PEDROWNOTGRNT\",\"SPEEDING\",\"UNDERINFL\"]].dtypes"
   ]
  },
  {
   "cell_type": "markdown",
   "metadata": {},
   "source": [
    "### Transforming Y/N into 1 or 0 (Label Encoding) for integration with Model"
   ]
  },
  {
   "cell_type": "code",
   "execution_count": 307,
   "metadata": {},
   "outputs": [],
   "source": [
    "cols = [\"INATTENTIONIND\",\"HITPARKEDCAR\",\"PEDROWNOTGRNT\",\"SPEEDING\",\"UNDERINFL\"]\n",
    "for col in cols :\n",
    "    df[col+\"_ENC\"] = np.where(df[col].str.strip()==\"Y\", 1, 0)\n",
    "df.drop(columns=cols, axis=1, inplace=True)"
   ]
  },
  {
   "cell_type": "markdown",
   "metadata": {},
   "source": [
    "### Transforming 1/2 of severity code into 1 or 0 (Label Encoding) for integration with Model"
   ]
  },
  {
   "cell_type": "markdown",
   "metadata": {},
   "source": [
    "Multiclass to single class, 1:Injury 0:Non-Injury"
   ]
  },
  {
   "cell_type": "code",
   "execution_count": 308,
   "metadata": {},
   "outputs": [],
   "source": [
    "df[\"SEVERITYCODE_INJURY\"] = np.where(df['SEVERITYCODE']==2,1,0)\n",
    "df.drop(columns=['SEVERITYCODE'], axis=1, inplace=True)"
   ]
  },
  {
   "cell_type": "markdown",
   "metadata": {},
   "source": [
    "### Transforming Accident Datetime column into Weekend/Weekday & Day/Evening"
   ]
  },
  {
   "cell_type": "code",
   "execution_count": 309,
   "metadata": {},
   "outputs": [],
   "source": [
    "df[\"INCDTTM_ENC\"] = pd.to_datetime(df[\"INCDTTM\"])\n",
    "df[\"isWeekend\"] = np.where(df[\"INCDTTM_ENC\"].dt.dayofweek >= 5, 1, 0)\n",
    "df[\"isNight\"] = np.where(df[\"INCDTTM_ENC\"].dt.hour >= 18, 1, 0)\n",
    "df.drop(columns=[\"INCDTTM_ENC\",\"INCDTTM\"],axis=1,inplace=True)"
   ]
  },
  {
   "cell_type": "markdown",
   "metadata": {},
   "source": [
    "# Exploratory Data Analysis (EDA)"
   ]
  },
  {
   "cell_type": "code",
   "execution_count": 347,
   "metadata": {},
   "outputs": [],
   "source": [
    "y = df[\"SEVERITYCODE_INJURY\"]\n",
    "x = df.drop([\"SEVERITYCODE_INJURY\"],axis = 1)"
   ]
  },
  {
   "cell_type": "code",
   "execution_count": 348,
   "metadata": {},
   "outputs": [
    {
     "name": "stdout",
     "output_type": "stream",
     "text": [
      "Number of Severity Involving Injury:  56961\n",
      "Number of Severity Not Involving Injury :  132627\n"
     ]
    },
    {
     "data": {
      "image/png": "[encoded data removed]",
      "text/plain": [
       "<Figure size 576x396 with 1 Axes>"
      ]
     },
     "metadata": {},
     "output_type": "display_data"
    }
   ],
   "source": [
    "ax = sns.countplot(y,label=\"Count\")\n",
    "non_injury, injury = y.value_counts()\n",
    "print('Number of Severity Involving Injury: ',injury)\n",
    "print('Number of Severity Not Involving Injury : ',non_injury)"
   ]
  },
  {
   "cell_type": "code",
   "execution_count": null,
   "metadata": {},
   "outputs": [],
   "source": [
    "output_filename = 'output/ibm_applied_ds_capstone_profiling_final.html'\n",
    "profile = ProfileReport(df, title='Data Profiling of Collisions Data FINAL', explorative=True)\n",
    "profile.to_file(output_file=output_filename)"
   ]
  },
  {
   "cell_type": "markdown",
   "metadata": {},
   "source": [
    "Kindly open the weblink below for the profiling information<br>\n",
    "<a href=\"https://zyron92.github.io/coursera/ibm_applied_ds_capstone_profiling_final.html\">Final Data Profiling</a>"
   ]
  },
  {
   "cell_type": "markdown",
   "metadata": {},
   "source": [
    "# Model Training, Prediction & Results"
   ]
  },
  {
   "cell_type": "code",
   "execution_count": 393,
   "metadata": {},
   "outputs": [
    {
     "name": "stderr",
     "output_type": "stream",
     "text": [
      "/home2/azizi/pyvenv/ds1/lib/python3.6/site-packages/ipykernel_launcher.py:1: DeprecationWarning: Deprecated, use ``h2o.cluster().shutdown()``.\n",
      "  \"\"\"Entry point for launching an IPython kernel.\n"
     ]
    },
    {
     "name": "stdout",
     "output_type": "stream",
     "text": [
      "H2O session _sid_a775 closed.\n"
     ]
    }
   ],
   "source": [
    "h2o.shutdown()"
   ]
  },
  {
   "cell_type": "code",
   "execution_count": 394,
   "metadata": {},
   "outputs": [
    {
     "name": "stdout",
     "output_type": "stream",
     "text": [
      "Checking whether there is an H2O instance running at http://localhost:54321 ..... not found.\n",
      "Attempting to start a local H2O server...\n",
      "  Java Version: openjdk version \"1.8.0_265\"; OpenJDK Runtime Environment (build 1.8.0_265-8u265-b01-0ubuntu2~18.04-b01); OpenJDK 64-Bit Server VM (build 25.265-b01, mixed mode)\n",
      "  Starting server from /home2/azizi/pyvenv/ds1/lib/python3.6/site-packages/h2o/backend/bin/h2o.jar\n",
      "  Ice root: /tmp/tmpw57ndoc1\n",
      "  JVM stdout: /tmp/tmpw57ndoc1/h2o_azizi_started_from_python.out\n",
      "  JVM stderr: /tmp/tmpw57ndoc1/h2o_azizi_started_from_python.err\n",
      "  Server is running at http://127.0.0.1:54321\n",
      "Connecting to H2O server at http://127.0.0.1:54321 ... successful.\n"
     ]
    },
    {
     "data": {
      "text/html": [
       "<div style=\"overflow:auto\"><table style=\"width:50%\"><tr><td>H2O_cluster_uptime:</td>\n",
       "<td>01 secs</td></tr>\n",
       "<tr><td>H2O_cluster_timezone:</td>\n",
       "<td>Asia/Kuala_Lumpur</td></tr>\n",
       "<tr><td>H2O_data_parsing_timezone:</td>\n",
       "<td>UTC</td></tr>\n",
       "<tr><td>H2O_cluster_version:</td>\n",
       "<td>3.30.1.1</td></tr>\n",
       "<tr><td>H2O_cluster_version_age:</td>\n",
       "<td>24 days </td></tr>\n",
       "<tr><td>H2O_cluster_name:</td>\n",
       "<td>H2O_from_python_azizi_dftm4w</td></tr>\n",
       "<tr><td>H2O_cluster_total_nodes:</td>\n",
       "<td>1</td></tr>\n",
       "<tr><td>H2O_cluster_free_memory:</td>\n",
       "<td>13.89 Gb</td></tr>\n",
       "<tr><td>H2O_cluster_total_cores:</td>\n",
       "<td>36</td></tr>\n",
       "<tr><td>H2O_cluster_allowed_cores:</td>\n",
       "<td>36</td></tr>\n",
       "<tr><td>H2O_cluster_status:</td>\n",
       "<td>accepting new members, healthy</td></tr>\n",
       "<tr><td>H2O_connection_url:</td>\n",
       "<td>http://127.0.0.1:54321</td></tr>\n",
       "<tr><td>H2O_connection_proxy:</td>\n",
       "<td>{\"http\": null, \"https\": null}</td></tr>\n",
       "<tr><td>H2O_internal_security:</td>\n",
       "<td>False</td></tr>\n",
       "<tr><td>H2O_API_Extensions:</td>\n",
       "<td>Amazon S3, XGBoost, Algos, AutoML, Core V3, TargetEncoder, Core V4</td></tr>\n",
       "<tr><td>Python_version:</td>\n",
       "<td>3.6.9 final</td></tr></table></div>"
      ],
      "text/plain": [
       "--------------------------  ------------------------------------------------------------------\n",
       "H2O_cluster_uptime:         01 secs\n",
       "H2O_cluster_timezone:       Asia/Kuala_Lumpur\n",
       "H2O_data_parsing_timezone:  UTC\n",
       "H2O_cluster_version:        3.30.1.1\n",
       "H2O_cluster_version_age:    24 days\n",
       "H2O_cluster_name:           H2O_from_python_azizi_dftm4w\n",
       "H2O_cluster_total_nodes:    1\n",
       "H2O_cluster_free_memory:    13.89 Gb\n",
       "H2O_cluster_total_cores:    36\n",
       "H2O_cluster_allowed_cores:  36\n",
       "H2O_cluster_status:         accepting new members, healthy\n",
       "H2O_connection_url:         http://127.0.0.1:54321\n",
       "H2O_connection_proxy:       {\"http\": null, \"https\": null}\n",
       "H2O_internal_security:      False\n",
       "H2O_API_Extensions:         Amazon S3, XGBoost, Algos, AutoML, Core V3, TargetEncoder, Core V4\n",
       "Python_version:             3.6.9 final\n",
       "--------------------------  ------------------------------------------------------------------"
      ]
     },
     "metadata": {},
     "output_type": "display_data"
    }
   ],
   "source": [
    "h2o.init()"
   ]
  },
  {
   "cell_type": "code",
   "execution_count": 395,
   "metadata": {},
   "outputs": [
    {
     "name": "stdout",
     "output_type": "stream",
     "text": [
      "Parse progress: |█████████████████████████████████████████████████████████| 100%\n"
     ]
    }
   ],
   "source": [
    "h2o_df = h2o.H2OFrame(df)"
   ]
  },
  {
   "cell_type": "code",
   "execution_count": 396,
   "metadata": {},
   "outputs": [],
   "source": [
    "cols_num = ['SDOT_COLCODE','HITPARKEDCAR_ENC','PEDROWNOTGRNT_ENC','SPEEDING_ENC','UNDERINFL_ENC','SEVERITYCODE_INJURY','isWeekend','isNight']\n",
    "for col in cols_num :\n",
    "    h2o_df[col] = h2o_df[col].asfactor()"
   ]
  },
  {
   "cell_type": "code",
   "execution_count": 397,
   "metadata": {},
   "outputs": [
    {
     "name": "stdout",
     "output_type": "stream",
     "text": [
      "Rows:189588\n",
      "Cols:18\n",
      "\n",
      "\n"
     ]
    },
    {
     "data": {
      "text/html": [
       "<table>\n",
       "<thead>\n",
       "<tr><th>       </th><th>COLLISIONTYPE  </th><th>PERSONCOUNT       </th><th>PEDCOUNT           </th><th>PEDCYLCOUNT        </th><th>VEHCOUNT          </th><th>JUNCTIONTYPE                           </th><th>SDOT_COLCODE  </th><th>WEATHER  </th><th>ROADCOND  </th><th>LIGHTCOND              </th><th>INATTENTIONIND_ENC  </th><th>HITPARKEDCAR_ENC  </th><th>PEDROWNOTGRNT_ENC  </th><th>SPEEDING_ENC  </th><th>UNDERINFL_ENC  </th><th>SEVERITYCODE_INJURY  </th><th>isWeekend  </th><th>isNight  </th></tr>\n",
       "</thead>\n",
       "<tbody>\n",
       "<tr><td>type   </td><td>enum           </td><td>int               </td><td>int                </td><td>int                </td><td>int               </td><td>enum                                   </td><td>enum          </td><td>enum     </td><td>enum      </td><td>enum                   </td><td>int                 </td><td>enum              </td><td>enum               </td><td>enum          </td><td>enum           </td><td>enum                 </td><td>enum       </td><td>enum     </td></tr>\n",
       "<tr><td>mins   </td><td>               </td><td>0.0               </td><td>0.0                </td><td>0.0                </td><td>1.0               </td><td>                                       </td><td>              </td><td>         </td><td>          </td><td>                       </td><td>0.0                 </td><td>                  </td><td>                   </td><td>              </td><td>               </td><td>                     </td><td>           </td><td>         </td></tr>\n",
       "<tr><td>mean   </td><td>               </td><td>2.460060763339465 </td><td>0.03770280819461147</td><td>0.02801865096947062</td><td>1.9722978247568423</td><td>                                       </td><td>              </td><td>         </td><td>          </td><td>                       </td><td>0.15711964892292762 </td><td>                  </td><td>                   </td><td>              </td><td>               </td><td>                     </td><td>           </td><td>         </td></tr>\n",
       "<tr><td>maxs   </td><td>               </td><td>81.0              </td><td>6.0                </td><td>2.0                </td><td>12.0              </td><td>                                       </td><td>              </td><td>         </td><td>          </td><td>                       </td><td>1.0                 </td><td>                  </td><td>                   </td><td>              </td><td>               </td><td>                     </td><td>           </td><td>         </td></tr>\n",
       "<tr><td>sigma  </td><td>               </td><td>1.3551092025381661</td><td>0.1996703323879078 </td><td>0.16595082995699684</td><td>0.5543389597692029</td><td>                                       </td><td>              </td><td>         </td><td>          </td><td>                       </td><td>0.36391450009554144 </td><td>                  </td><td>                   </td><td>              </td><td>               </td><td>                     </td><td>           </td><td>         </td></tr>\n",
       "<tr><td>zeros  </td><td>               </td><td>5536              </td><td>182730             </td><td>184305             </td><td>0                 </td><td>                                       </td><td>              </td><td>         </td><td>          </td><td>                       </td><td>159800              </td><td>                  </td><td>                   </td><td>              </td><td>               </td><td>                     </td><td>           </td><td>         </td></tr>\n",
       "<tr><td>missing</td><td>0              </td><td>0                 </td><td>0                  </td><td>0                  </td><td>0                 </td><td>0                                      </td><td>0             </td><td>0        </td><td>0         </td><td>0                      </td><td>0                   </td><td>0                 </td><td>0                  </td><td>0             </td><td>0              </td><td>0                    </td><td>0          </td><td>0        </td></tr>\n",
       "<tr><td>0      </td><td>Angles         </td><td>2.0               </td><td>0.0                </td><td>0.0                </td><td>2.0               </td><td>At Intersection (intersection related) </td><td>11            </td><td>Overcast </td><td>Wet       </td><td>Daylight               </td><td>0.0                 </td><td>0                 </td><td>0                  </td><td>0             </td><td>0              </td><td>1                    </td><td>0          </td><td>0        </td></tr>\n",
       "<tr><td>1      </td><td>Sideswipe      </td><td>2.0               </td><td>0.0                </td><td>0.0                </td><td>2.0               </td><td>Mid-Block (not related to intersection)</td><td>16            </td><td>Raining  </td><td>Wet       </td><td>Dark - Street Lights On</td><td>0.0                 </td><td>0                 </td><td>0                  </td><td>0             </td><td>0              </td><td>0                    </td><td>0          </td><td>1        </td></tr>\n",
       "<tr><td>2      </td><td>Parked Car     </td><td>4.0               </td><td>0.0                </td><td>0.0                </td><td>3.0               </td><td>Mid-Block (not related to intersection)</td><td>14            </td><td>Overcast </td><td>Dry       </td><td>Daylight               </td><td>0.0                 </td><td>0                 </td><td>0                  </td><td>0             </td><td>0              </td><td>0                    </td><td>0          </td><td>0        </td></tr>\n",
       "<tr><td>3      </td><td>Other          </td><td>3.0               </td><td>0.0                </td><td>0.0                </td><td>3.0               </td><td>Mid-Block (not related to intersection)</td><td>11            </td><td>Clear    </td><td>Dry       </td><td>Daylight               </td><td>0.0                 </td><td>0                 </td><td>0                  </td><td>0             </td><td>0              </td><td>0                    </td><td>0          </td><td>0        </td></tr>\n",
       "<tr><td>4      </td><td>Angles         </td><td>2.0               </td><td>0.0                </td><td>0.0                </td><td>2.0               </td><td>At Intersection (intersection related) </td><td>11            </td><td>Raining  </td><td>Wet       </td><td>Daylight               </td><td>0.0                 </td><td>0                 </td><td>0                  </td><td>0             </td><td>0              </td><td>1                    </td><td>0          </td><td>0        </td></tr>\n",
       "<tr><td>5      </td><td>Angles         </td><td>2.0               </td><td>0.0                </td><td>0.0                </td><td>2.0               </td><td>At Intersection (intersection related) </td><td>11            </td><td>Clear    </td><td>Dry       </td><td>Daylight               </td><td>0.0                 </td><td>0                 </td><td>0                  </td><td>0             </td><td>0              </td><td>0                    </td><td>1          </td><td>0        </td></tr>\n",
       "<tr><td>6      </td><td>Angles         </td><td>2.0               </td><td>0.0                </td><td>0.0                </td><td>2.0               </td><td>At Intersection (intersection related) </td><td>11            </td><td>Raining  </td><td>Wet       </td><td>Daylight               </td><td>0.0                 </td><td>0                 </td><td>0                  </td><td>0             </td><td>0              </td><td>0                    </td><td>0          </td><td>0        </td></tr>\n",
       "<tr><td>7      </td><td>Cycles         </td><td>3.0               </td><td>0.0                </td><td>1.0                </td><td>1.0               </td><td>At Intersection (intersection related) </td><td>51            </td><td>Clear    </td><td>Dry       </td><td>Daylight               </td><td>0.0                 </td><td>0                 </td><td>0                  </td><td>0             </td><td>0              </td><td>1                    </td><td>0          </td><td>0        </td></tr>\n",
       "<tr><td>8      </td><td>Parked Car     </td><td>2.0               </td><td>0.0                </td><td>0.0                </td><td>2.0               </td><td>Mid-Block (not related to intersection)</td><td>11            </td><td>Clear    </td><td>Dry       </td><td>Daylight               </td><td>0.0                 </td><td>0                 </td><td>0                  </td><td>0             </td><td>0              </td><td>0                    </td><td>0          </td><td>0        </td></tr>\n",
       "<tr><td>9      </td><td>Angles         </td><td>2.0               </td><td>0.0                </td><td>0.0                </td><td>2.0               </td><td>At Intersection (intersection related) </td><td>11            </td><td>Clear    </td><td>Dry       </td><td>Daylight               </td><td>0.0                 </td><td>0                 </td><td>0                  </td><td>0             </td><td>0              </td><td>1                    </td><td>0          </td><td>0        </td></tr>\n",
       "</tbody>\n",
       "</table>"
      ]
     },
     "metadata": {},
     "output_type": "display_data"
    }
   ],
   "source": [
    "h2o_df.describe()"
   ]
  },
  {
   "cell_type": "code",
   "execution_count": 398,
   "metadata": {},
   "outputs": [],
   "source": [
    "train, test = h2o_df.split_frame(ratios=[.70])\n",
    "\n",
    "# Identify predictors and response\n",
    "x = train.columns\n",
    "y = \"SEVERITYCODE_INJURY\"\n",
    "x.remove(y)"
   ]
  },
  {
   "cell_type": "code",
   "execution_count": 399,
   "metadata": {},
   "outputs": [
    {
     "name": "stdout",
     "output_type": "stream",
     "text": [
      "AutoML progress: |████████████████████████████████████████████████████████| 100%\n",
      "CPU times: user 1min 59s, sys: 436 ms, total: 2min\n",
      "Wall time: 7min 3s\n"
     ]
    }
   ],
   "source": [
    "aml = H2OAutoML(max_runtime_secs=600,\n",
    "                exclude_algos=['DeepLearning'],\n",
    "                seed=1,\n",
    "                balance_classes=True,\n",
    "                nfolds=5,\n",
    "                project_name='Completed'\n",
    ")\n",
    "%time aml.train(x=x, y=y, training_frame=train)"
   ]
  },
  {
   "cell_type": "code",
   "execution_count": 403,
   "metadata": {},
   "outputs": [
    {
     "data": {
      "text/html": [
       "<table>\n",
       "<thead>\n",
       "<tr><th>model_id                                           </th><th style=\"text-align: right;\">     auc</th><th style=\"text-align: right;\">  logloss</th><th style=\"text-align: right;\">   aucpr</th><th style=\"text-align: right;\">  mean_per_class_error</th><th style=\"text-align: right;\">    rmse</th><th style=\"text-align: right;\">     mse</th></tr>\n",
       "</thead>\n",
       "<tbody>\n",
       "<tr><td>StackedEnsemble_AllModels_AutoML_20200903_203339   </td><td style=\"text-align: right;\">0.804365</td><td style=\"text-align: right;\"> 0.47488 </td><td style=\"text-align: right;\">0.645334</td><td style=\"text-align: right;\">              0.279253</td><td style=\"text-align: right;\">0.396746</td><td style=\"text-align: right;\">0.157407</td></tr>\n",
       "<tr><td>StackedEnsemble_BestOfFamily_AutoML_20200903_203339</td><td style=\"text-align: right;\">0.804048</td><td style=\"text-align: right;\"> 0.475144</td><td style=\"text-align: right;\">0.644897</td><td style=\"text-align: right;\">              0.279192</td><td style=\"text-align: right;\">0.396852</td><td style=\"text-align: right;\">0.157492</td></tr>\n",
       "<tr><td>GBM_grid__1_AutoML_20200903_203339_model_9         </td><td style=\"text-align: right;\">0.80371 </td><td style=\"text-align: right;\"> 0.468319</td><td style=\"text-align: right;\">0.644527</td><td style=\"text-align: right;\">              0.279049</td><td style=\"text-align: right;\">0.395708</td><td style=\"text-align: right;\">0.156585</td></tr>\n",
       "<tr><td>GBM_grid__1_AutoML_20200903_203339_model_3         </td><td style=\"text-align: right;\">0.803666</td><td style=\"text-align: right;\"> 0.468211</td><td style=\"text-align: right;\">0.644678</td><td style=\"text-align: right;\">              0.279621</td><td style=\"text-align: right;\">0.395691</td><td style=\"text-align: right;\">0.156571</td></tr>\n",
       "<tr><td>GBM_2_AutoML_20200903_203339                       </td><td style=\"text-align: right;\">0.803657</td><td style=\"text-align: right;\"> 0.468246</td><td style=\"text-align: right;\">0.644045</td><td style=\"text-align: right;\">              0.279613</td><td style=\"text-align: right;\">0.395678</td><td style=\"text-align: right;\">0.156561</td></tr>\n",
       "<tr><td>XGBoost_3_AutoML_20200903_203339                   </td><td style=\"text-align: right;\">0.803577</td><td style=\"text-align: right;\"> 0.467994</td><td style=\"text-align: right;\">0.644261</td><td style=\"text-align: right;\">              0.279822</td><td style=\"text-align: right;\">0.39564 </td><td style=\"text-align: right;\">0.156531</td></tr>\n",
       "<tr><td>GBM_1_AutoML_20200903_203339                       </td><td style=\"text-align: right;\">0.803518</td><td style=\"text-align: right;\"> 0.468503</td><td style=\"text-align: right;\">0.644202</td><td style=\"text-align: right;\">              0.279767</td><td style=\"text-align: right;\">0.395763</td><td style=\"text-align: right;\">0.156628</td></tr>\n",
       "<tr><td>XGBoost_grid__1_AutoML_20200903_203339_model_7     </td><td style=\"text-align: right;\">0.8034  </td><td style=\"text-align: right;\"> 0.468211</td><td style=\"text-align: right;\">0.644409</td><td style=\"text-align: right;\">              0.279846</td><td style=\"text-align: right;\">0.395708</td><td style=\"text-align: right;\">0.156585</td></tr>\n",
       "<tr><td>GBM_3_AutoML_20200903_203339                       </td><td style=\"text-align: right;\">0.803369</td><td style=\"text-align: right;\"> 0.468656</td><td style=\"text-align: right;\">0.64335 </td><td style=\"text-align: right;\">              0.279969</td><td style=\"text-align: right;\">0.395849</td><td style=\"text-align: right;\">0.156696</td></tr>\n",
       "<tr><td>XGBoost_grid__1_AutoML_20200903_203339_model_2     </td><td style=\"text-align: right;\">0.803295</td><td style=\"text-align: right;\"> 0.468315</td><td style=\"text-align: right;\">0.644855</td><td style=\"text-align: right;\">              0.280122</td><td style=\"text-align: right;\">0.395766</td><td style=\"text-align: right;\">0.15663 </td></tr>\n",
       "</tbody>\n",
       "</table>"
      ]
     },
     "metadata": {},
     "output_type": "display_data"
    },
    {
     "data": {
      "text/plain": []
     },
     "execution_count": 403,
     "metadata": {},
     "output_type": "execute_result"
    }
   ],
   "source": [
    "lb = aml.leaderboard\n",
    "lb.head(rows=10)"
   ]
  },
  {
   "cell_type": "code",
   "execution_count": 404,
   "metadata": {},
   "outputs": [
    {
     "name": "stdout",
     "output_type": "stream",
     "text": [
      "\n",
      "ModelMetricsBinomialGLM: stackedensemble\n",
      "** Reported on test data. **\n",
      "\n",
      "MSE: 0.15739187478933359\n",
      "RMSE: 0.39672644831084\n",
      "LogLoss: 0.47465206831907275\n",
      "Null degrees of freedom: 56931\n",
      "Residual degrees of freedom: 56916\n",
      "Null deviance: 69499.01435493777\n",
      "Residual deviance: 54045.78310708288\n",
      "AIC: 54077.78310708288\n",
      "AUC: 0.8026484891773773\n",
      "AUCPR: 0.6453493489311062\n",
      "Gini: 0.6052969783547546\n",
      "\n",
      "Confusion Matrix (Act/Pred) for max f1 @ threshold = 0.24861837387201838: \n"
     ]
    },
    {
     "data": {
      "text/html": [
       "<div>\n",
       "<style scoped>\n",
       "    .dataframe tbody tr th:only-of-type {\n",
       "        vertical-align: middle;\n",
       "    }\n",
       "\n",
       "    .dataframe tbody tr th {\n",
       "        vertical-align: top;\n",
       "    }\n",
       "\n",
       "    .dataframe thead th {\n",
       "        text-align: right;\n",
       "    }\n",
       "</style>\n",
       "<table border=\"1\" class=\"dataframe\">\n",
       "  <thead>\n",
       "    <tr style=\"text-align: right;\">\n",
       "      <th></th>\n",
       "      <th></th>\n",
       "      <th>0</th>\n",
       "      <th>1</th>\n",
       "      <th>Error</th>\n",
       "      <th>Rate</th>\n",
       "    </tr>\n",
       "  </thead>\n",
       "  <tbody>\n",
       "    <tr>\n",
       "      <th>0</th>\n",
       "      <td>0</td>\n",
       "      <td>24367.0</td>\n",
       "      <td>15519.0</td>\n",
       "      <td>0.3891</td>\n",
       "      <td>(15519.0/39886.0)</td>\n",
       "    </tr>\n",
       "    <tr>\n",
       "      <th>1</th>\n",
       "      <td>1</td>\n",
       "      <td>2996.0</td>\n",
       "      <td>14050.0</td>\n",
       "      <td>0.1758</td>\n",
       "      <td>(2996.0/17046.0)</td>\n",
       "    </tr>\n",
       "    <tr>\n",
       "      <th>2</th>\n",
       "      <td>Total</td>\n",
       "      <td>27363.0</td>\n",
       "      <td>29569.0</td>\n",
       "      <td>0.3252</td>\n",
       "      <td>(18515.0/56932.0)</td>\n",
       "    </tr>\n",
       "  </tbody>\n",
       "</table>\n",
       "</div>"
      ],
      "text/plain": [
       "                0        1   Error                Rate\n",
       "0      0  24367.0  15519.0  0.3891   (15519.0/39886.0)\n",
       "1      1   2996.0  14050.0  0.1758    (2996.0/17046.0)\n",
       "2  Total  27363.0  29569.0  0.3252   (18515.0/56932.0)"
      ]
     },
     "metadata": {},
     "output_type": "display_data"
    },
    {
     "name": "stdout",
     "output_type": "stream",
     "text": [
      "\n",
      "Maximum Metrics: Maximum metrics at their respective thresholds\n"
     ]
    },
    {
     "data": {
      "text/html": [
       "<div>\n",
       "<style scoped>\n",
       "    .dataframe tbody tr th:only-of-type {\n",
       "        vertical-align: middle;\n",
       "    }\n",
       "\n",
       "    .dataframe tbody tr th {\n",
       "        vertical-align: top;\n",
       "    }\n",
       "\n",
       "    .dataframe thead th {\n",
       "        text-align: right;\n",
       "    }\n",
       "</style>\n",
       "<table border=\"1\" class=\"dataframe\">\n",
       "  <thead>\n",
       "    <tr style=\"text-align: right;\">\n",
       "      <th></th>\n",
       "      <th>metric</th>\n",
       "      <th>threshold</th>\n",
       "      <th>value</th>\n",
       "      <th>idx</th>\n",
       "    </tr>\n",
       "  </thead>\n",
       "  <tbody>\n",
       "    <tr>\n",
       "      <th>0</th>\n",
       "      <td>max f1</td>\n",
       "      <td>0.248618</td>\n",
       "      <td>0.602810</td>\n",
       "      <td>270.0</td>\n",
       "    </tr>\n",
       "    <tr>\n",
       "      <th>1</th>\n",
       "      <td>max f2</td>\n",
       "      <td>0.122424</td>\n",
       "      <td>0.751970</td>\n",
       "      <td>344.0</td>\n",
       "    </tr>\n",
       "    <tr>\n",
       "      <th>2</th>\n",
       "      <td>max f0point5</td>\n",
       "      <td>0.496561</td>\n",
       "      <td>0.584121</td>\n",
       "      <td>142.0</td>\n",
       "    </tr>\n",
       "    <tr>\n",
       "      <th>3</th>\n",
       "      <td>max accuracy</td>\n",
       "      <td>0.532300</td>\n",
       "      <td>0.760223</td>\n",
       "      <td>126.0</td>\n",
       "    </tr>\n",
       "    <tr>\n",
       "      <th>4</th>\n",
       "      <td>max precision</td>\n",
       "      <td>0.934696</td>\n",
       "      <td>0.954545</td>\n",
       "      <td>0.0</td>\n",
       "    </tr>\n",
       "    <tr>\n",
       "      <th>5</th>\n",
       "      <td>max recall</td>\n",
       "      <td>0.055488</td>\n",
       "      <td>1.000000</td>\n",
       "      <td>397.0</td>\n",
       "    </tr>\n",
       "    <tr>\n",
       "      <th>6</th>\n",
       "      <td>max specificity</td>\n",
       "      <td>0.934696</td>\n",
       "      <td>0.999950</td>\n",
       "      <td>0.0</td>\n",
       "    </tr>\n",
       "    <tr>\n",
       "      <th>7</th>\n",
       "      <td>max absolute_mcc</td>\n",
       "      <td>0.238622</td>\n",
       "      <td>0.398934</td>\n",
       "      <td>275.0</td>\n",
       "    </tr>\n",
       "    <tr>\n",
       "      <th>8</th>\n",
       "      <td>max min_per_class_accuracy</td>\n",
       "      <td>0.316180</td>\n",
       "      <td>0.706911</td>\n",
       "      <td>232.0</td>\n",
       "    </tr>\n",
       "    <tr>\n",
       "      <th>9</th>\n",
       "      <td>max mean_per_class_accuracy</td>\n",
       "      <td>0.248618</td>\n",
       "      <td>0.717578</td>\n",
       "      <td>270.0</td>\n",
       "    </tr>\n",
       "    <tr>\n",
       "      <th>10</th>\n",
       "      <td>max tns</td>\n",
       "      <td>0.934696</td>\n",
       "      <td>39884.000000</td>\n",
       "      <td>0.0</td>\n",
       "    </tr>\n",
       "    <tr>\n",
       "      <th>11</th>\n",
       "      <td>max fns</td>\n",
       "      <td>0.934696</td>\n",
       "      <td>17004.000000</td>\n",
       "      <td>0.0</td>\n",
       "    </tr>\n",
       "    <tr>\n",
       "      <th>12</th>\n",
       "      <td>max fps</td>\n",
       "      <td>0.054451</td>\n",
       "      <td>39886.000000</td>\n",
       "      <td>399.0</td>\n",
       "    </tr>\n",
       "    <tr>\n",
       "      <th>13</th>\n",
       "      <td>max tps</td>\n",
       "      <td>0.055488</td>\n",
       "      <td>17046.000000</td>\n",
       "      <td>397.0</td>\n",
       "    </tr>\n",
       "    <tr>\n",
       "      <th>14</th>\n",
       "      <td>max tnr</td>\n",
       "      <td>0.934696</td>\n",
       "      <td>0.999950</td>\n",
       "      <td>0.0</td>\n",
       "    </tr>\n",
       "    <tr>\n",
       "      <th>15</th>\n",
       "      <td>max fnr</td>\n",
       "      <td>0.934696</td>\n",
       "      <td>0.997536</td>\n",
       "      <td>0.0</td>\n",
       "    </tr>\n",
       "    <tr>\n",
       "      <th>16</th>\n",
       "      <td>max fpr</td>\n",
       "      <td>0.054451</td>\n",
       "      <td>1.000000</td>\n",
       "      <td>399.0</td>\n",
       "    </tr>\n",
       "    <tr>\n",
       "      <th>17</th>\n",
       "      <td>max tpr</td>\n",
       "      <td>0.055488</td>\n",
       "      <td>1.000000</td>\n",
       "      <td>397.0</td>\n",
       "    </tr>\n",
       "  </tbody>\n",
       "</table>\n",
       "</div>"
      ],
      "text/plain": [
       "                         metric  threshold         value    idx\n",
       "0                        max f1   0.248618      0.602810  270.0\n",
       "1                        max f2   0.122424      0.751970  344.0\n",
       "2                  max f0point5   0.496561      0.584121  142.0\n",
       "3                  max accuracy   0.532300      0.760223  126.0\n",
       "4                 max precision   0.934696      0.954545    0.0\n",
       "5                    max recall   0.055488      1.000000  397.0\n",
       "6               max specificity   0.934696      0.999950    0.0\n",
       "7              max absolute_mcc   0.238622      0.398934  275.0\n",
       "8    max min_per_class_accuracy   0.316180      0.706911  232.0\n",
       "9   max mean_per_class_accuracy   0.248618      0.717578  270.0\n",
       "10                      max tns   0.934696  39884.000000    0.0\n",
       "11                      max fns   0.934696  17004.000000    0.0\n",
       "12                      max fps   0.054451  39886.000000  399.0\n",
       "13                      max tps   0.055488  17046.000000  397.0\n",
       "14                      max tnr   0.934696      0.999950    0.0\n",
       "15                      max fnr   0.934696      0.997536    0.0\n",
       "16                      max fpr   0.054451      1.000000  399.0\n",
       "17                      max tpr   0.055488      1.000000  397.0"
      ]
     },
     "metadata": {},
     "output_type": "display_data"
    },
    {
     "name": "stdout",
     "output_type": "stream",
     "text": [
      "\n",
      "Gains/Lift Table: Avg response rate: 29.94 %, avg score: 29.87 %\n"
     ]
    },
    {
     "data": {
      "text/html": [
       "<div>\n",
       "<style scoped>\n",
       "    .dataframe tbody tr th:only-of-type {\n",
       "        vertical-align: middle;\n",
       "    }\n",
       "\n",
       "    .dataframe tbody tr th {\n",
       "        vertical-align: top;\n",
       "    }\n",
       "\n",
       "    .dataframe thead th {\n",
       "        text-align: right;\n",
       "    }\n",
       "</style>\n",
       "<table border=\"1\" class=\"dataframe\">\n",
       "  <thead>\n",
       "    <tr style=\"text-align: right;\">\n",
       "      <th></th>\n",
       "      <th>group</th>\n",
       "      <th>cumulative_data_fraction</th>\n",
       "      <th>lower_threshold</th>\n",
       "      <th>lift</th>\n",
       "      <th>cumulative_lift</th>\n",
       "      <th>response_rate</th>\n",
       "      <th>score</th>\n",
       "      <th>cumulative_response_rate</th>\n",
       "      <th>cumulative_score</th>\n",
       "      <th>capture_rate</th>\n",
       "      <th>cumulative_capture_rate</th>\n",
       "      <th>gain</th>\n",
       "      <th>cumulative_gain</th>\n",
       "      <th>kolmogorov_smirnov</th>\n",
       "    </tr>\n",
       "  </thead>\n",
       "  <tbody>\n",
       "    <tr>\n",
       "      <th>0</th>\n",
       "      <td>1</td>\n",
       "      <td>0.010240</td>\n",
       "      <td>0.925937</td>\n",
       "      <td>3.087836</td>\n",
       "      <td>3.087836</td>\n",
       "      <td>0.924528</td>\n",
       "      <td>0.929214</td>\n",
       "      <td>0.924528</td>\n",
       "      <td>0.929214</td>\n",
       "      <td>0.031620</td>\n",
       "      <td>0.031620</td>\n",
       "      <td>208.783558</td>\n",
       "      <td>208.783558</td>\n",
       "      <td>0.030517</td>\n",
       "    </tr>\n",
       "    <tr>\n",
       "      <th>1</th>\n",
       "      <td>2</td>\n",
       "      <td>0.020077</td>\n",
       "      <td>0.923690</td>\n",
       "      <td>3.005913</td>\n",
       "      <td>3.047699</td>\n",
       "      <td>0.900000</td>\n",
       "      <td>0.924616</td>\n",
       "      <td>0.912511</td>\n",
       "      <td>0.926961</td>\n",
       "      <td>0.029567</td>\n",
       "      <td>0.061187</td>\n",
       "      <td>200.591341</td>\n",
       "      <td>204.769873</td>\n",
       "      <td>0.058680</td>\n",
       "    </tr>\n",
       "    <tr>\n",
       "      <th>2</th>\n",
       "      <td>3</td>\n",
       "      <td>0.030124</td>\n",
       "      <td>0.921812</td>\n",
       "      <td>2.983725</td>\n",
       "      <td>3.026362</td>\n",
       "      <td>0.893357</td>\n",
       "      <td>0.922717</td>\n",
       "      <td>0.906122</td>\n",
       "      <td>0.925546</td>\n",
       "      <td>0.029978</td>\n",
       "      <td>0.091165</td>\n",
       "      <td>198.372524</td>\n",
       "      <td>202.636180</td>\n",
       "      <td>0.087129</td>\n",
       "    </tr>\n",
       "    <tr>\n",
       "      <th>3</th>\n",
       "      <td>4</td>\n",
       "      <td>0.040013</td>\n",
       "      <td>0.918513</td>\n",
       "      <td>3.019558</td>\n",
       "      <td>3.024680</td>\n",
       "      <td>0.904085</td>\n",
       "      <td>0.920461</td>\n",
       "      <td>0.905619</td>\n",
       "      <td>0.924289</td>\n",
       "      <td>0.029860</td>\n",
       "      <td>0.121025</td>\n",
       "      <td>201.955778</td>\n",
       "      <td>202.468021</td>\n",
       "      <td>0.115635</td>\n",
       "    </tr>\n",
       "    <tr>\n",
       "      <th>4</th>\n",
       "      <td>5</td>\n",
       "      <td>0.050007</td>\n",
       "      <td>0.910371</td>\n",
       "      <td>2.964238</td>\n",
       "      <td>3.012600</td>\n",
       "      <td>0.887522</td>\n",
       "      <td>0.915022</td>\n",
       "      <td>0.902002</td>\n",
       "      <td>0.922437</td>\n",
       "      <td>0.029626</td>\n",
       "      <td>0.150651</td>\n",
       "      <td>196.423799</td>\n",
       "      <td>201.260026</td>\n",
       "      <td>0.143656</td>\n",
       "    </tr>\n",
       "    <tr>\n",
       "      <th>5</th>\n",
       "      <td>6</td>\n",
       "      <td>0.100014</td>\n",
       "      <td>0.601797</td>\n",
       "      <td>2.273528</td>\n",
       "      <td>2.643064</td>\n",
       "      <td>0.680717</td>\n",
       "      <td>0.731276</td>\n",
       "      <td>0.791359</td>\n",
       "      <td>0.826857</td>\n",
       "      <td>0.113692</td>\n",
       "      <td>0.264344</td>\n",
       "      <td>127.352776</td>\n",
       "      <td>164.306401</td>\n",
       "      <td>0.234559</td>\n",
       "    </tr>\n",
       "    <tr>\n",
       "      <th>6</th>\n",
       "      <td>7</td>\n",
       "      <td>0.150689</td>\n",
       "      <td>0.520450</td>\n",
       "      <td>1.704103</td>\n",
       "      <td>2.327304</td>\n",
       "      <td>0.510225</td>\n",
       "      <td>0.549626</td>\n",
       "      <td>0.696818</td>\n",
       "      <td>0.733628</td>\n",
       "      <td>0.086355</td>\n",
       "      <td>0.350698</td>\n",
       "      <td>70.410342</td>\n",
       "      <td>132.730445</td>\n",
       "      <td>0.285487</td>\n",
       "    </tr>\n",
       "    <tr>\n",
       "      <th>7</th>\n",
       "      <td>8</td>\n",
       "      <td>0.206422</td>\n",
       "      <td>0.470470</td>\n",
       "      <td>1.591533</td>\n",
       "      <td>2.128649</td>\n",
       "      <td>0.476521</td>\n",
       "      <td>0.489219</td>\n",
       "      <td>0.637338</td>\n",
       "      <td>0.667638</td>\n",
       "      <td>0.088701</td>\n",
       "      <td>0.439399</td>\n",
       "      <td>59.153310</td>\n",
       "      <td>112.864869</td>\n",
       "      <td>0.332545</td>\n",
       "    </tr>\n",
       "    <tr>\n",
       "      <th>8</th>\n",
       "      <td>9</td>\n",
       "      <td>0.300007</td>\n",
       "      <td>0.361832</td>\n",
       "      <td>1.440522</td>\n",
       "      <td>1.913992</td>\n",
       "      <td>0.431306</td>\n",
       "      <td>0.419688</td>\n",
       "      <td>0.573068</td>\n",
       "      <td>0.590292</td>\n",
       "      <td>0.134812</td>\n",
       "      <td>0.574211</td>\n",
       "      <td>44.052157</td>\n",
       "      <td>91.399170</td>\n",
       "      <td>0.391390</td>\n",
       "    </tr>\n",
       "    <tr>\n",
       "      <th>9</th>\n",
       "      <td>10</td>\n",
       "      <td>0.401865</td>\n",
       "      <td>0.320520</td>\n",
       "      <td>1.196237</td>\n",
       "      <td>1.732067</td>\n",
       "      <td>0.358165</td>\n",
       "      <td>0.331934</td>\n",
       "      <td>0.518598</td>\n",
       "      <td>0.524807</td>\n",
       "      <td>0.121847</td>\n",
       "      <td>0.696058</td>\n",
       "      <td>19.623731</td>\n",
       "      <td>73.206689</td>\n",
       "      <td>0.419921</td>\n",
       "    </tr>\n",
       "    <tr>\n",
       "      <th>10</th>\n",
       "      <td>11</td>\n",
       "      <td>0.500000</td>\n",
       "      <td>0.270175</td>\n",
       "      <td>1.099950</td>\n",
       "      <td>1.608002</td>\n",
       "      <td>0.329336</td>\n",
       "      <td>0.299337</td>\n",
       "      <td>0.481452</td>\n",
       "      <td>0.480554</td>\n",
       "      <td>0.107943</td>\n",
       "      <td>0.804001</td>\n",
       "      <td>9.995042</td>\n",
       "      <td>60.800188</td>\n",
       "      <td>0.433921</td>\n",
       "    </tr>\n",
       "    <tr>\n",
       "      <th>11</th>\n",
       "      <td>12</td>\n",
       "      <td>0.599996</td>\n",
       "      <td>0.173373</td>\n",
       "      <td>0.904643</td>\n",
       "      <td>1.490779</td>\n",
       "      <td>0.270859</td>\n",
       "      <td>0.216657</td>\n",
       "      <td>0.446354</td>\n",
       "      <td>0.436573</td>\n",
       "      <td>0.090461</td>\n",
       "      <td>0.894462</td>\n",
       "      <td>-9.535717</td>\n",
       "      <td>49.077880</td>\n",
       "      <td>0.420311</td>\n",
       "    </tr>\n",
       "    <tr>\n",
       "      <th>12</th>\n",
       "      <td>13</td>\n",
       "      <td>0.700379</td>\n",
       "      <td>0.112400</td>\n",
       "      <td>0.586163</td>\n",
       "      <td>1.361123</td>\n",
       "      <td>0.175503</td>\n",
       "      <td>0.144428</td>\n",
       "      <td>0.407534</td>\n",
       "      <td>0.394701</td>\n",
       "      <td>0.058841</td>\n",
       "      <td>0.953303</td>\n",
       "      <td>-41.383666</td>\n",
       "      <td>36.112345</td>\n",
       "      <td>0.361015</td>\n",
       "    </tr>\n",
       "    <tr>\n",
       "      <th>13</th>\n",
       "      <td>14</td>\n",
       "      <td>0.799989</td>\n",
       "      <td>0.077960</td>\n",
       "      <td>0.334520</td>\n",
       "      <td>1.233297</td>\n",
       "      <td>0.100159</td>\n",
       "      <td>0.097115</td>\n",
       "      <td>0.369261</td>\n",
       "      <td>0.357647</td>\n",
       "      <td>0.033322</td>\n",
       "      <td>0.986624</td>\n",
       "      <td>-66.547957</td>\n",
       "      <td>23.329678</td>\n",
       "      <td>0.266397</td>\n",
       "    </tr>\n",
       "    <tr>\n",
       "      <th>14</th>\n",
       "      <td>15</td>\n",
       "      <td>0.900004</td>\n",
       "      <td>0.061834</td>\n",
       "      <td>0.117900</td>\n",
       "      <td>1.109347</td>\n",
       "      <td>0.035300</td>\n",
       "      <td>0.068573</td>\n",
       "      <td>0.332149</td>\n",
       "      <td>0.325523</td>\n",
       "      <td>0.011792</td>\n",
       "      <td>0.998416</td>\n",
       "      <td>-88.210034</td>\n",
       "      <td>10.934684</td>\n",
       "      <td>0.140471</td>\n",
       "    </tr>\n",
       "    <tr>\n",
       "      <th>15</th>\n",
       "      <td>16</td>\n",
       "      <td>1.000000</td>\n",
       "      <td>0.053936</td>\n",
       "      <td>0.015840</td>\n",
       "      <td>1.000000</td>\n",
       "      <td>0.004743</td>\n",
       "      <td>0.057050</td>\n",
       "      <td>0.299410</td>\n",
       "      <td>0.298677</td>\n",
       "      <td>0.001584</td>\n",
       "      <td>1.000000</td>\n",
       "      <td>-98.415995</td>\n",
       "      <td>0.000000</td>\n",
       "      <td>0.000000</td>\n",
       "    </tr>\n",
       "  </tbody>\n",
       "</table>\n",
       "</div>"
      ],
      "text/plain": [
       "    group  cumulative_data_fraction  lower_threshold      lift  \\\n",
       "0       1                  0.010240         0.925937  3.087836   \n",
       "1       2                  0.020077         0.923690  3.005913   \n",
       "2       3                  0.030124         0.921812  2.983725   \n",
       "3       4                  0.040013         0.918513  3.019558   \n",
       "4       5                  0.050007         0.910371  2.964238   \n",
       "5       6                  0.100014         0.601797  2.273528   \n",
       "6       7                  0.150689         0.520450  1.704103   \n",
       "7       8                  0.206422         0.470470  1.591533   \n",
       "8       9                  0.300007         0.361832  1.440522   \n",
       "9      10                  0.401865         0.320520  1.196237   \n",
       "10     11                  0.500000         0.270175  1.099950   \n",
       "11     12                  0.599996         0.173373  0.904643   \n",
       "12     13                  0.700379         0.112400  0.586163   \n",
       "13     14                  0.799989         0.077960  0.334520   \n",
       "14     15                  0.900004         0.061834  0.117900   \n",
       "15     16                  1.000000         0.053936  0.015840   \n",
       "\n",
       "    cumulative_lift  response_rate     score  cumulative_response_rate  \\\n",
       "0          3.087836       0.924528  0.929214                  0.924528   \n",
       "1          3.047699       0.900000  0.924616                  0.912511   \n",
       "2          3.026362       0.893357  0.922717                  0.906122   \n",
       "3          3.024680       0.904085  0.920461                  0.905619   \n",
       "4          3.012600       0.887522  0.915022                  0.902002   \n",
       "5          2.643064       0.680717  0.731276                  0.791359   \n",
       "6          2.327304       0.510225  0.549626                  0.696818   \n",
       "7          2.128649       0.476521  0.489219                  0.637338   \n",
       "8          1.913992       0.431306  0.419688                  0.573068   \n",
       "9          1.732067       0.358165  0.331934                  0.518598   \n",
       "10         1.608002       0.329336  0.299337                  0.481452   \n",
       "11         1.490779       0.270859  0.216657                  0.446354   \n",
       "12         1.361123       0.175503  0.144428                  0.407534   \n",
       "13         1.233297       0.100159  0.097115                  0.369261   \n",
       "14         1.109347       0.035300  0.068573                  0.332149   \n",
       "15         1.000000       0.004743  0.057050                  0.299410   \n",
       "\n",
       "    cumulative_score  capture_rate  cumulative_capture_rate        gain  \\\n",
       "0           0.929214      0.031620                 0.031620  208.783558   \n",
       "1           0.926961      0.029567                 0.061187  200.591341   \n",
       "2           0.925546      0.029978                 0.091165  198.372524   \n",
       "3           0.924289      0.029860                 0.121025  201.955778   \n",
       "4           0.922437      0.029626                 0.150651  196.423799   \n",
       "5           0.826857      0.113692                 0.264344  127.352776   \n",
       "6           0.733628      0.086355                 0.350698   70.410342   \n",
       "7           0.667638      0.088701                 0.439399   59.153310   \n",
       "8           0.590292      0.134812                 0.574211   44.052157   \n",
       "9           0.524807      0.121847                 0.696058   19.623731   \n",
       "10          0.480554      0.107943                 0.804001    9.995042   \n",
       "11          0.436573      0.090461                 0.894462   -9.535717   \n",
       "12          0.394701      0.058841                 0.953303  -41.383666   \n",
       "13          0.357647      0.033322                 0.986624  -66.547957   \n",
       "14          0.325523      0.011792                 0.998416  -88.210034   \n",
       "15          0.298677      0.001584                 1.000000  -98.415995   \n",
       "\n",
       "    cumulative_gain  kolmogorov_smirnov  \n",
       "0        208.783558            0.030517  \n",
       "1        204.769873            0.058680  \n",
       "2        202.636180            0.087129  \n",
       "3        202.468021            0.115635  \n",
       "4        201.260026            0.143656  \n",
       "5        164.306401            0.234559  \n",
       "6        132.730445            0.285487  \n",
       "7        112.864869            0.332545  \n",
       "8         91.399170            0.391390  \n",
       "9         73.206689            0.419921  \n",
       "10        60.800188            0.433921  \n",
       "11        49.077880            0.420311  \n",
       "12        36.112345            0.361015  \n",
       "13        23.329678            0.266397  \n",
       "14        10.934684            0.140471  \n",
       "15         0.000000            0.000000  "
      ]
     },
     "metadata": {},
     "output_type": "display_data"
    },
    {
     "name": "stdout",
     "output_type": "stream",
     "text": [
      "\n"
     ]
    },
    {
     "data": {
      "text/plain": []
     },
     "execution_count": 404,
     "metadata": {},
     "output_type": "execute_result"
    }
   ],
   "source": [
    "model = h2o.get_model('StackedEnsemble_AllModels_AutoML_20200903_203339')\n",
    "model.model_performance(test)"
   ]
  },
  {
   "cell_type": "code",
   "execution_count": 407,
   "metadata": {},
   "outputs": [
    {
     "data": {
      "image/png": "[encoded data removed]",
      "text/plain": [
       "<Figure size 1008x720 with 1 Axes>"
      ]
     },
     "metadata": {},
     "output_type": "display_data"
    }
   ],
   "source": [
    "model = h2o.get_model('GBM_grid__1_AutoML_20200903_203339_model_9')\n",
    "model.varimp_plot(num_of_features=20)"
   ]
  },
  {
   "cell_type": "code",
   "execution_count": null,
   "metadata": {},
   "outputs": [],
   "source": []
  }
 ],
 "metadata": {
  "hide_input": false,
  "kernelspec": {
   "display_name": "Python 3",
   "language": "python",
   "name": "python3"
  },
  "language_info": {
   "codemirror_mode": {
    "name": "ipython",
    "version": 3
   },
   "file_extension": ".py",
   "mimetype": "text/x-python",
   "name": "python",
   "nbconvert_exporter": "python",
   "pygments_lexer": "ipython3",
   "version": "3.6.9"
  },
  "toc": {
   "base_numbering": 1,
   "nav_menu": {},
   "number_sections": true,
   "sideBar": true,
   "skip_h1_title": false,
   "title_cell": "Table of Contents",
   "title_sidebar": "Contents",
   "toc_cell": true,
   "toc_position": {
    "height": "calc(100% - 180px)",
    "left": "10px",
    "top": "150px",
    "width": "305.067px"
   },
   "toc_section_display": true,
   "toc_window_display": true
  }
 },
 "nbformat": 4,
 "nbformat_minor": 4
}
