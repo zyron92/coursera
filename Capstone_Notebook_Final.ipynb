{
 "cells": [
  {
   "cell_type": "markdown",
   "metadata": {
    "toc": true
   },
   "source": [
    "<h1>Table of Contents<span class=\"tocSkip\"></span></h1>\n",
    "<div class=\"toc\"><ul class=\"toc-item\"><li><span><a href=\"#Library\" data-toc-modified-id=\"Library-1\"><span class=\"toc-item-num\">1&nbsp;&nbsp;</span>Library</a></span></li><li><span><a href=\"#Data-Ingestion\" data-toc-modified-id=\"Data-Ingestion-2\"><span class=\"toc-item-num\">2&nbsp;&nbsp;</span>Data Ingestion</a></span></li><li><span><a href=\"#Data-Description-&amp;-Preparation\" data-toc-modified-id=\"Data-Description-&amp;-Preparation-3\"><span class=\"toc-item-num\">3&nbsp;&nbsp;</span>Data Description &amp; Preparation</a></span><ul class=\"toc-item\"><li><span><a href=\"#Basic-Info\" data-toc-modified-id=\"Basic-Info-3.1\"><span class=\"toc-item-num\">3.1&nbsp;&nbsp;</span>Basic Info</a></span></li><li><span><a href=\"#Missing-Data\" data-toc-modified-id=\"Missing-Data-3.2\"><span class=\"toc-item-num\">3.2&nbsp;&nbsp;</span>Missing Data</a></span></li><li><span><a href=\"#Balancity-of-Data\" data-toc-modified-id=\"Balancity-of-Data-3.3\"><span class=\"toc-item-num\">3.3&nbsp;&nbsp;</span>Balancity of Data</a></span></li><li><span><a href=\"#Overall-Statistical-Description\" data-toc-modified-id=\"Overall-Statistical-Description-3.4\"><span class=\"toc-item-num\">3.4&nbsp;&nbsp;</span>Overall Statistical Description</a></span></li><li><span><a href=\"#Overall-Pandas-Profiling\" data-toc-modified-id=\"Overall-Pandas-Profiling-3.5\"><span class=\"toc-item-num\">3.5&nbsp;&nbsp;</span>Overall Pandas Profiling</a></span></li><li><span><a href=\"#Data-Processing\" data-toc-modified-id=\"Data-Processing-3.6\"><span class=\"toc-item-num\">3.6&nbsp;&nbsp;</span>Data Processing</a></span><ul class=\"toc-item\"><li><span><a href=\"#Removing-duplicate-column\" data-toc-modified-id=\"Removing-duplicate-column-3.6.1\"><span class=\"toc-item-num\">3.6.1&nbsp;&nbsp;</span>Removing duplicate column</a></span></li><li><span><a href=\"#Removing-high-cardinality-&amp;-unique-columns\" data-toc-modified-id=\"Removing-high-cardinality-&amp;-unique-columns-3.6.2\"><span class=\"toc-item-num\">3.6.2&nbsp;&nbsp;</span>Removing high cardinality &amp; unique columns</a></span></li><li><span><a href=\"#Removing-high-missing-values-columns-(>20%)\" data-toc-modified-id=\"Removing-high-missing-values-columns-(>20%)-3.6.3\"><span class=\"toc-item-num\">3.6.3&nbsp;&nbsp;</span>Removing high missing values columns (&gt;20%)</a></span></li><li><span><a href=\"#Removing-geospatial-related-columns\" data-toc-modified-id=\"Removing-geospatial-related-columns-3.6.4\"><span class=\"toc-item-num\">3.6.4&nbsp;&nbsp;</span>Removing geospatial related columns</a></span></li><li><span><a href=\"#Removing-no-info-/-not-enough-info-columns\" data-toc-modified-id=\"Removing-no-info-/-not-enough-info-columns-3.6.5\"><span class=\"toc-item-num\">3.6.5&nbsp;&nbsp;</span>Removing no-info / not enough info columns</a></span></li><li><span><a href=\"#Removing-unnessary-columns-(description)\" data-toc-modified-id=\"Removing-unnessary-columns-(description)-3.6.6\"><span class=\"toc-item-num\">3.6.6&nbsp;&nbsp;</span>Removing unnessary columns (description)</a></span></li><li><span><a href=\"#Removing-Unsupported-Type-Colums\" data-toc-modified-id=\"Removing-Unsupported-Type-Colums-3.6.7\"><span class=\"toc-item-num\">3.6.7&nbsp;&nbsp;</span>Removing Unsupported Type Colums</a></span></li><li><span><a href=\"#Data-Imputation-for-missing-N-value\" data-toc-modified-id=\"Data-Imputation-for-missing-N-value-3.6.8\"><span class=\"toc-item-num\">3.6.8&nbsp;&nbsp;</span>Data Imputation for missing N value</a></span></li><li><span><a href=\"#Data-Imputation-for-missing-value,-replaced-by-Other-/-Unknown\" data-toc-modified-id=\"Data-Imputation-for-missing-value,-replaced-by-Other-/-Unknown-3.6.9\"><span class=\"toc-item-num\">3.6.9&nbsp;&nbsp;</span>Data Imputation for missing value, replaced by Other / Unknown</a></span></li><li><span><a href=\"#Data-Cleanup-for-Y/N-columns,-making-sure-only-&quot;Y&quot;-or-&quot;N&quot;\" data-toc-modified-id=\"Data-Cleanup-for-Y/N-columns,-making-sure-only-&quot;Y&quot;-or-&quot;N&quot;-3.6.10\"><span class=\"toc-item-num\">3.6.10&nbsp;&nbsp;</span>Data Cleanup for Y/N columns, making sure only \"Y\" or \"N\"</a></span></li><li><span><a href=\"#Transforming-Y/N-into-1-or-0-(Label-Encoding)-for-integration-with-Model\" data-toc-modified-id=\"Transforming-Y/N-into-1-or-0-(Label-Encoding)-for-integration-with-Model-3.6.11\"><span class=\"toc-item-num\">3.6.11&nbsp;&nbsp;</span>Transforming Y/N into 1 or 0 (Label Encoding) for integration with Model</a></span></li><li><span><a href=\"#Transforming-1/2-of-severity-code-into-1-or-0-(Label-Encoding)-for-integration-with-Model\" data-toc-modified-id=\"Transforming-1/2-of-severity-code-into-1-or-0-(Label-Encoding)-for-integration-with-Model-3.6.12\"><span class=\"toc-item-num\">3.6.12&nbsp;&nbsp;</span>Transforming 1/2 of severity code into 1 or 0 (Label Encoding) for integration with Model</a></span></li><li><span><a href=\"#Transforming-Accident-Datetime-column-into-Weekend/Weekday-&amp;-Day/Evening\" data-toc-modified-id=\"Transforming-Accident-Datetime-column-into-Weekend/Weekday-&amp;-Day/Evening-3.6.13\"><span class=\"toc-item-num\">3.6.13&nbsp;&nbsp;</span>Transforming Accident Datetime column into Weekend/Weekday &amp; Day/Evening</a></span></li></ul></li></ul></li><li><span><a href=\"#Exploratory-Data-Analysis-(EDA)\" data-toc-modified-id=\"Exploratory-Data-Analysis-(EDA)-4\"><span class=\"toc-item-num\">4&nbsp;&nbsp;</span>Exploratory Data Analysis (EDA)</a></span></li><li><span><a href=\"#Model-Training,-Prediction-&amp;-Results\" data-toc-modified-id=\"Model-Training,-Prediction-&amp;-Results-5\"><span class=\"toc-item-num\">5&nbsp;&nbsp;</span>Model Training, Prediction &amp; Results</a></span></li></ul></div>"
   ]
  },
  {
   "cell_type": "markdown",
   "metadata": {},
   "source": [
    "# Library"
   ]
  },
  {
   "cell_type": "code",
   "execution_count": 250,
   "metadata": {},
   "outputs": [],
   "source": [
    "import pandas as pd\n",
    "import numpy as np \n",
    "from pandas_profiling import ProfileReport"
   ]
  },
  {
   "cell_type": "markdown",
   "metadata": {},
   "source": [
    "# Data Ingestion"
   ]
  },
  {
   "cell_type": "code",
   "execution_count": 251,
   "metadata": {},
   "outputs": [
    {
     "name": "stderr",
     "output_type": "stream",
     "text": [
      "/home2/azizi/pyvenv/ds1/lib/python3.6/site-packages/IPython/core/interactiveshell.py:3072: DtypeWarning: Columns (33) have mixed types.Specify dtype option on import or set low_memory=False.\n",
      "  interactivity=interactivity, compiler=compiler, result=result)\n"
     ]
    }
   ],
   "source": [
    "df = pd.read_csv(\"data/Data-Collisions.csv\")"
   ]
  },
  {
   "cell_type": "code",
   "execution_count": 252,
   "metadata": {},
   "outputs": [
    {
     "data": {
      "text/plain": [
       "Index(['SEVERITYCODE', 'X', 'Y', 'OBJECTID', 'INCKEY', 'COLDETKEY', 'REPORTNO',\n",
       "       'STATUS', 'ADDRTYPE', 'INTKEY', 'LOCATION', 'EXCEPTRSNCODE',\n",
       "       'EXCEPTRSNDESC', 'SEVERITYCODE.1', 'SEVERITYDESC', 'COLLISIONTYPE',\n",
       "       'PERSONCOUNT', 'PEDCOUNT', 'PEDCYLCOUNT', 'VEHCOUNT', 'INCDATE',\n",
       "       'INCDTTM', 'JUNCTIONTYPE', 'SDOT_COLCODE', 'SDOT_COLDESC',\n",
       "       'INATTENTIONIND', 'UNDERINFL', 'WEATHER', 'ROADCOND', 'LIGHTCOND',\n",
       "       'PEDROWNOTGRNT', 'SDOTCOLNUM', 'SPEEDING', 'ST_COLCODE', 'ST_COLDESC',\n",
       "       'SEGLANEKEY', 'CROSSWALKKEY', 'HITPARKEDCAR'],\n",
       "      dtype='object')"
      ]
     },
     "execution_count": 252,
     "metadata": {},
     "output_type": "execute_result"
    }
   ],
   "source": [
    "df.columns"
   ]
  },
  {
   "cell_type": "code",
   "execution_count": 253,
   "metadata": {},
   "outputs": [
    {
     "data": {
      "text/html": [
       "<div>\n",
       "<style scoped>\n",
       "    .dataframe tbody tr th:only-of-type {\n",
       "        vertical-align: middle;\n",
       "    }\n",
       "\n",
       "    .dataframe tbody tr th {\n",
       "        vertical-align: top;\n",
       "    }\n",
       "\n",
       "    .dataframe thead th {\n",
       "        text-align: right;\n",
       "    }\n",
       "</style>\n",
       "<table border=\"1\" class=\"dataframe\">\n",
       "  <thead>\n",
       "    <tr style=\"text-align: right;\">\n",
       "      <th></th>\n",
       "      <th>SEVERITYCODE</th>\n",
       "      <th>X</th>\n",
       "      <th>Y</th>\n",
       "      <th>OBJECTID</th>\n",
       "      <th>INCKEY</th>\n",
       "      <th>COLDETKEY</th>\n",
       "      <th>REPORTNO</th>\n",
       "      <th>STATUS</th>\n",
       "      <th>ADDRTYPE</th>\n",
       "      <th>INTKEY</th>\n",
       "      <th>...</th>\n",
       "      <th>ROADCOND</th>\n",
       "      <th>LIGHTCOND</th>\n",
       "      <th>PEDROWNOTGRNT</th>\n",
       "      <th>SDOTCOLNUM</th>\n",
       "      <th>SPEEDING</th>\n",
       "      <th>ST_COLCODE</th>\n",
       "      <th>ST_COLDESC</th>\n",
       "      <th>SEGLANEKEY</th>\n",
       "      <th>CROSSWALKKEY</th>\n",
       "      <th>HITPARKEDCAR</th>\n",
       "    </tr>\n",
       "  </thead>\n",
       "  <tbody>\n",
       "    <tr>\n",
       "      <th>0</th>\n",
       "      <td>2</td>\n",
       "      <td>-122.323148</td>\n",
       "      <td>47.703140</td>\n",
       "      <td>1</td>\n",
       "      <td>1307</td>\n",
       "      <td>1307</td>\n",
       "      <td>3502005</td>\n",
       "      <td>Matched</td>\n",
       "      <td>Intersection</td>\n",
       "      <td>37475.0</td>\n",
       "      <td>...</td>\n",
       "      <td>Wet</td>\n",
       "      <td>Daylight</td>\n",
       "      <td>NaN</td>\n",
       "      <td>NaN</td>\n",
       "      <td>NaN</td>\n",
       "      <td>10</td>\n",
       "      <td>Entering at angle</td>\n",
       "      <td>0</td>\n",
       "      <td>0</td>\n",
       "      <td>N</td>\n",
       "    </tr>\n",
       "    <tr>\n",
       "      <th>1</th>\n",
       "      <td>1</td>\n",
       "      <td>-122.347294</td>\n",
       "      <td>47.647172</td>\n",
       "      <td>2</td>\n",
       "      <td>52200</td>\n",
       "      <td>52200</td>\n",
       "      <td>2607959</td>\n",
       "      <td>Matched</td>\n",
       "      <td>Block</td>\n",
       "      <td>NaN</td>\n",
       "      <td>...</td>\n",
       "      <td>Wet</td>\n",
       "      <td>Dark - Street Lights On</td>\n",
       "      <td>NaN</td>\n",
       "      <td>6354039.0</td>\n",
       "      <td>NaN</td>\n",
       "      <td>11</td>\n",
       "      <td>From same direction - both going straight - bo...</td>\n",
       "      <td>0</td>\n",
       "      <td>0</td>\n",
       "      <td>N</td>\n",
       "    </tr>\n",
       "    <tr>\n",
       "      <th>2</th>\n",
       "      <td>1</td>\n",
       "      <td>-122.334540</td>\n",
       "      <td>47.607871</td>\n",
       "      <td>3</td>\n",
       "      <td>26700</td>\n",
       "      <td>26700</td>\n",
       "      <td>1482393</td>\n",
       "      <td>Matched</td>\n",
       "      <td>Block</td>\n",
       "      <td>NaN</td>\n",
       "      <td>...</td>\n",
       "      <td>Dry</td>\n",
       "      <td>Daylight</td>\n",
       "      <td>NaN</td>\n",
       "      <td>4323031.0</td>\n",
       "      <td>NaN</td>\n",
       "      <td>32</td>\n",
       "      <td>One parked--one moving</td>\n",
       "      <td>0</td>\n",
       "      <td>0</td>\n",
       "      <td>N</td>\n",
       "    </tr>\n",
       "    <tr>\n",
       "      <th>3</th>\n",
       "      <td>1</td>\n",
       "      <td>-122.334803</td>\n",
       "      <td>47.604803</td>\n",
       "      <td>4</td>\n",
       "      <td>1144</td>\n",
       "      <td>1144</td>\n",
       "      <td>3503937</td>\n",
       "      <td>Matched</td>\n",
       "      <td>Block</td>\n",
       "      <td>NaN</td>\n",
       "      <td>...</td>\n",
       "      <td>Dry</td>\n",
       "      <td>Daylight</td>\n",
       "      <td>NaN</td>\n",
       "      <td>NaN</td>\n",
       "      <td>NaN</td>\n",
       "      <td>23</td>\n",
       "      <td>From same direction - all others</td>\n",
       "      <td>0</td>\n",
       "      <td>0</td>\n",
       "      <td>N</td>\n",
       "    </tr>\n",
       "    <tr>\n",
       "      <th>4</th>\n",
       "      <td>2</td>\n",
       "      <td>-122.306426</td>\n",
       "      <td>47.545739</td>\n",
       "      <td>5</td>\n",
       "      <td>17700</td>\n",
       "      <td>17700</td>\n",
       "      <td>1807429</td>\n",
       "      <td>Matched</td>\n",
       "      <td>Intersection</td>\n",
       "      <td>34387.0</td>\n",
       "      <td>...</td>\n",
       "      <td>Wet</td>\n",
       "      <td>Daylight</td>\n",
       "      <td>NaN</td>\n",
       "      <td>4028032.0</td>\n",
       "      <td>NaN</td>\n",
       "      <td>10</td>\n",
       "      <td>Entering at angle</td>\n",
       "      <td>0</td>\n",
       "      <td>0</td>\n",
       "      <td>N</td>\n",
       "    </tr>\n",
       "  </tbody>\n",
       "</table>\n",
       "<p>5 rows × 38 columns</p>\n",
       "</div>"
      ],
      "text/plain": [
       "   SEVERITYCODE           X          Y  OBJECTID  INCKEY  COLDETKEY REPORTNO  \\\n",
       "0             2 -122.323148  47.703140         1    1307       1307  3502005   \n",
       "1             1 -122.347294  47.647172         2   52200      52200  2607959   \n",
       "2             1 -122.334540  47.607871         3   26700      26700  1482393   \n",
       "3             1 -122.334803  47.604803         4    1144       1144  3503937   \n",
       "4             2 -122.306426  47.545739         5   17700      17700  1807429   \n",
       "\n",
       "    STATUS      ADDRTYPE   INTKEY  ... ROADCOND                LIGHTCOND  \\\n",
       "0  Matched  Intersection  37475.0  ...      Wet                 Daylight   \n",
       "1  Matched         Block      NaN  ...      Wet  Dark - Street Lights On   \n",
       "2  Matched         Block      NaN  ...      Dry                 Daylight   \n",
       "3  Matched         Block      NaN  ...      Dry                 Daylight   \n",
       "4  Matched  Intersection  34387.0  ...      Wet                 Daylight   \n",
       "\n",
       "  PEDROWNOTGRNT  SDOTCOLNUM SPEEDING ST_COLCODE  \\\n",
       "0           NaN         NaN      NaN         10   \n",
       "1           NaN   6354039.0      NaN         11   \n",
       "2           NaN   4323031.0      NaN         32   \n",
       "3           NaN         NaN      NaN         23   \n",
       "4           NaN   4028032.0      NaN         10   \n",
       "\n",
       "                                          ST_COLDESC  SEGLANEKEY  \\\n",
       "0                                  Entering at angle           0   \n",
       "1  From same direction - both going straight - bo...           0   \n",
       "2                             One parked--one moving           0   \n",
       "3                   From same direction - all others           0   \n",
       "4                                  Entering at angle           0   \n",
       "\n",
       "   CROSSWALKKEY  HITPARKEDCAR  \n",
       "0             0             N  \n",
       "1             0             N  \n",
       "2             0             N  \n",
       "3             0             N  \n",
       "4             0             N  \n",
       "\n",
       "[5 rows x 38 columns]"
      ]
     },
     "execution_count": 253,
     "metadata": {},
     "output_type": "execute_result"
    }
   ],
   "source": [
    "df.head()"
   ]
  },
  {
   "cell_type": "code",
   "execution_count": 254,
   "metadata": {},
   "outputs": [],
   "source": [
    "# We are going to use data involving car (vehicle)\n",
    "df = df[df[\"VEHCOUNT\"] > 0]"
   ]
  },
  {
   "cell_type": "markdown",
   "metadata": {},
   "source": [
    "# Data Description & Preparation"
   ]
  },
  {
   "cell_type": "markdown",
   "metadata": {},
   "source": [
    "## Basic Info"
   ]
  },
  {
   "cell_type": "code",
   "execution_count": 255,
   "metadata": {},
   "outputs": [
    {
     "data": {
      "text/plain": [
       "Index(['SEVERITYCODE', 'X', 'Y', 'OBJECTID', 'INCKEY', 'COLDETKEY', 'REPORTNO',\n",
       "       'STATUS', 'ADDRTYPE', 'INTKEY', 'LOCATION', 'EXCEPTRSNCODE',\n",
       "       'EXCEPTRSNDESC', 'SEVERITYCODE.1', 'SEVERITYDESC', 'COLLISIONTYPE',\n",
       "       'PERSONCOUNT', 'PEDCOUNT', 'PEDCYLCOUNT', 'VEHCOUNT', 'INCDATE',\n",
       "       'INCDTTM', 'JUNCTIONTYPE', 'SDOT_COLCODE', 'SDOT_COLDESC',\n",
       "       'INATTENTIONIND', 'UNDERINFL', 'WEATHER', 'ROADCOND', 'LIGHTCOND',\n",
       "       'PEDROWNOTGRNT', 'SDOTCOLNUM', 'SPEEDING', 'ST_COLCODE', 'ST_COLDESC',\n",
       "       'SEGLANEKEY', 'CROSSWALKKEY', 'HITPARKEDCAR'],\n",
       "      dtype='object')"
      ]
     },
     "execution_count": 255,
     "metadata": {},
     "output_type": "execute_result"
    }
   ],
   "source": [
    "df.columns"
   ]
  },
  {
   "cell_type": "code",
   "execution_count": 256,
   "metadata": {},
   "outputs": [
    {
     "name": "stdout",
     "output_type": "stream",
     "text": [
      "Number of attributes :  38\n"
     ]
    }
   ],
   "source": [
    "print(\"Number of attributes : \", len(df.columns))"
   ]
  },
  {
   "cell_type": "code",
   "execution_count": 257,
   "metadata": {},
   "outputs": [
    {
     "name": "stdout",
     "output_type": "stream",
     "text": [
      "Number of observations :  189588\n"
     ]
    }
   ],
   "source": [
    "print(\"Number of observations : \", len(df))"
   ]
  },
  {
   "cell_type": "markdown",
   "metadata": {},
   "source": [
    "## Missing Data"
   ]
  },
  {
   "cell_type": "code",
   "execution_count": 258,
   "metadata": {},
   "outputs": [
    {
     "name": "stdout",
     "output_type": "stream",
     "text": [
      "Number of missing data for column 'ROADCOND' :  126\n"
     ]
    }
   ],
   "source": [
    "print(\"Number of missing data for column 'ROADCOND' : \", df[\"ROADCOND\"].isna().sum())"
   ]
  },
  {
   "cell_type": "code",
   "execution_count": 259,
   "metadata": {},
   "outputs": [
    {
     "data": {
      "text/plain": [
       "SEVERITYCODE           0\n",
       "X                   5186\n",
       "Y                   5186\n",
       "OBJECTID               0\n",
       "INCKEY                 0\n",
       "COLDETKEY              0\n",
       "REPORTNO               0\n",
       "STATUS                 0\n",
       "ADDRTYPE            1818\n",
       "INTKEY            126118\n",
       "LOCATION            2565\n",
       "EXCEPTRSNCODE     109777\n",
       "EXCEPTRSNDESC     184725\n",
       "SEVERITYCODE.1         0\n",
       "SEVERITYDESC           0\n",
       "COLLISIONTYPE         20\n",
       "PERSONCOUNT            0\n",
       "PEDCOUNT               0\n",
       "PEDCYLCOUNT            0\n",
       "VEHCOUNT               0\n",
       "INCDATE                0\n",
       "INCDTTM                0\n",
       "JUNCTIONTYPE        6176\n",
       "SDOT_COLCODE           0\n",
       "SDOT_COLDESC           0\n",
       "INATTENTIONIND    159800\n",
       "UNDERINFL              0\n",
       "WEATHER              194\n",
       "ROADCOND             126\n",
       "LIGHTCOND            284\n",
       "PEDROWNOTGRNT     184954\n",
       "SDOTCOLNUM         74837\n",
       "SPEEDING          180262\n",
       "ST_COLCODE            17\n",
       "ST_COLDESC            20\n",
       "SEGLANEKEY             0\n",
       "CROSSWALKKEY           0\n",
       "HITPARKEDCAR           0\n",
       "dtype: int64"
      ]
     },
     "execution_count": 259,
     "metadata": {},
     "output_type": "execute_result"
    }
   ],
   "source": [
    "df.isna().sum()"
   ]
  },
  {
   "cell_type": "markdown",
   "metadata": {},
   "source": [
    "## Balancity of Data"
   ]
  },
  {
   "cell_type": "code",
   "execution_count": 260,
   "metadata": {},
   "outputs": [],
   "source": [
    "targetCol = \"SEVERITYCODE\""
   ]
  },
  {
   "cell_type": "code",
   "execution_count": 261,
   "metadata": {},
   "outputs": [
    {
     "data": {
      "text/plain": [
       "1    132627\n",
       "2     56961\n",
       "Name: SEVERITYCODE, dtype: int64"
      ]
     },
     "execution_count": 261,
     "metadata": {},
     "output_type": "execute_result"
    }
   ],
   "source": [
    "df[targetCol].value_counts()"
   ]
  },
  {
   "cell_type": "markdown",
   "metadata": {},
   "source": [
    "We could see that the dataset is imbalanced."
   ]
  },
  {
   "cell_type": "markdown",
   "metadata": {},
   "source": [
    "## Overall Statistical Description"
   ]
  },
  {
   "cell_type": "code",
   "execution_count": 262,
   "metadata": {},
   "outputs": [
    {
     "data": {
      "text/html": [
       "<div>\n",
       "<style scoped>\n",
       "    .dataframe tbody tr th:only-of-type {\n",
       "        vertical-align: middle;\n",
       "    }\n",
       "\n",
       "    .dataframe tbody tr th {\n",
       "        vertical-align: top;\n",
       "    }\n",
       "\n",
       "    .dataframe thead th {\n",
       "        text-align: right;\n",
       "    }\n",
       "</style>\n",
       "<table border=\"1\" class=\"dataframe\">\n",
       "  <thead>\n",
       "    <tr style=\"text-align: right;\">\n",
       "      <th></th>\n",
       "      <th>SEVERITYCODE</th>\n",
       "      <th>X</th>\n",
       "      <th>Y</th>\n",
       "      <th>OBJECTID</th>\n",
       "      <th>INCKEY</th>\n",
       "      <th>COLDETKEY</th>\n",
       "      <th>INTKEY</th>\n",
       "      <th>SEVERITYCODE.1</th>\n",
       "      <th>PERSONCOUNT</th>\n",
       "      <th>PEDCOUNT</th>\n",
       "      <th>PEDCYLCOUNT</th>\n",
       "      <th>VEHCOUNT</th>\n",
       "      <th>SDOT_COLCODE</th>\n",
       "      <th>SDOTCOLNUM</th>\n",
       "      <th>SEGLANEKEY</th>\n",
       "      <th>CROSSWALKKEY</th>\n",
       "    </tr>\n",
       "  </thead>\n",
       "  <tbody>\n",
       "    <tr>\n",
       "      <th>count</th>\n",
       "      <td>189588.000000</td>\n",
       "      <td>184402.000000</td>\n",
       "      <td>184402.000000</td>\n",
       "      <td>189588.000000</td>\n",
       "      <td>189588.000000</td>\n",
       "      <td>189588.000000</td>\n",
       "      <td>63470.000000</td>\n",
       "      <td>189588.000000</td>\n",
       "      <td>189588.000000</td>\n",
       "      <td>189588.000000</td>\n",
       "      <td>189588.000000</td>\n",
       "      <td>189588.000000</td>\n",
       "      <td>189588.000000</td>\n",
       "      <td>1.147510e+05</td>\n",
       "      <td>189588.000000</td>\n",
       "      <td>1.895880e+05</td>\n",
       "    </tr>\n",
       "    <tr>\n",
       "      <th>mean</th>\n",
       "      <td>1.300446</td>\n",
       "      <td>-122.330505</td>\n",
       "      <td>47.619521</td>\n",
       "      <td>106817.220979</td>\n",
       "      <td>138402.592210</td>\n",
       "      <td>138596.750928</td>\n",
       "      <td>37502.213818</td>\n",
       "      <td>1.300446</td>\n",
       "      <td>2.460061</td>\n",
       "      <td>0.037703</td>\n",
       "      <td>0.028019</td>\n",
       "      <td>1.972298</td>\n",
       "      <td>13.884196</td>\n",
       "      <td>7.968383e+06</td>\n",
       "      <td>260.714275</td>\n",
       "      <td>9.800749e+03</td>\n",
       "    </tr>\n",
       "    <tr>\n",
       "      <th>std</th>\n",
       "      <td>0.458453</td>\n",
       "      <td>0.030026</td>\n",
       "      <td>0.056230</td>\n",
       "      <td>62222.443268</td>\n",
       "      <td>85301.472291</td>\n",
       "      <td>85638.254616</td>\n",
       "      <td>51365.581899</td>\n",
       "      <td>0.458453</td>\n",
       "      <td>1.355109</td>\n",
       "      <td>0.199670</td>\n",
       "      <td>0.165951</td>\n",
       "      <td>0.554339</td>\n",
       "      <td>6.701585</td>\n",
       "      <td>2.550992e+06</td>\n",
       "      <td>3293.690652</td>\n",
       "      <td>7.235521e+04</td>\n",
       "    </tr>\n",
       "    <tr>\n",
       "      <th>min</th>\n",
       "      <td>1.000000</td>\n",
       "      <td>-122.419091</td>\n",
       "      <td>47.495573</td>\n",
       "      <td>1.000000</td>\n",
       "      <td>1001.000000</td>\n",
       "      <td>1001.000000</td>\n",
       "      <td>23807.000000</td>\n",
       "      <td>1.000000</td>\n",
       "      <td>0.000000</td>\n",
       "      <td>0.000000</td>\n",
       "      <td>0.000000</td>\n",
       "      <td>1.000000</td>\n",
       "      <td>0.000000</td>\n",
       "      <td>1.007024e+06</td>\n",
       "      <td>0.000000</td>\n",
       "      <td>0.000000e+00</td>\n",
       "    </tr>\n",
       "    <tr>\n",
       "      <th>25%</th>\n",
       "      <td>1.000000</td>\n",
       "      <td>-122.348859</td>\n",
       "      <td>47.575873</td>\n",
       "      <td>53116.750000</td>\n",
       "      <td>69096.750000</td>\n",
       "      <td>69096.750000</td>\n",
       "      <td>28667.000000</td>\n",
       "      <td>1.000000</td>\n",
       "      <td>2.000000</td>\n",
       "      <td>0.000000</td>\n",
       "      <td>0.000000</td>\n",
       "      <td>2.000000</td>\n",
       "      <td>11.000000</td>\n",
       "      <td>6.039024e+06</td>\n",
       "      <td>0.000000</td>\n",
       "      <td>0.000000e+00</td>\n",
       "    </tr>\n",
       "    <tr>\n",
       "      <th>50%</th>\n",
       "      <td>1.000000</td>\n",
       "      <td>-122.330168</td>\n",
       "      <td>47.615357</td>\n",
       "      <td>104253.500000</td>\n",
       "      <td>120591.500000</td>\n",
       "      <td>120591.500000</td>\n",
       "      <td>29973.000000</td>\n",
       "      <td>1.000000</td>\n",
       "      <td>2.000000</td>\n",
       "      <td>0.000000</td>\n",
       "      <td>0.000000</td>\n",
       "      <td>2.000000</td>\n",
       "      <td>13.000000</td>\n",
       "      <td>8.022004e+06</td>\n",
       "      <td>0.000000</td>\n",
       "      <td>0.000000e+00</td>\n",
       "    </tr>\n",
       "    <tr>\n",
       "      <th>75%</th>\n",
       "      <td>2.000000</td>\n",
       "      <td>-122.311918</td>\n",
       "      <td>47.663835</td>\n",
       "      <td>160018.250000</td>\n",
       "      <td>199153.250000</td>\n",
       "      <td>199293.250000</td>\n",
       "      <td>33984.000000</td>\n",
       "      <td>2.000000</td>\n",
       "      <td>3.000000</td>\n",
       "      <td>0.000000</td>\n",
       "      <td>0.000000</td>\n",
       "      <td>2.000000</td>\n",
       "      <td>14.000000</td>\n",
       "      <td>1.015301e+07</td>\n",
       "      <td>0.000000</td>\n",
       "      <td>0.000000e+00</td>\n",
       "    </tr>\n",
       "    <tr>\n",
       "      <th>max</th>\n",
       "      <td>2.000000</td>\n",
       "      <td>-122.238949</td>\n",
       "      <td>47.734142</td>\n",
       "      <td>219547.000000</td>\n",
       "      <td>331342.000000</td>\n",
       "      <td>332842.000000</td>\n",
       "      <td>757580.000000</td>\n",
       "      <td>2.000000</td>\n",
       "      <td>81.000000</td>\n",
       "      <td>6.000000</td>\n",
       "      <td>2.000000</td>\n",
       "      <td>12.000000</td>\n",
       "      <td>69.000000</td>\n",
       "      <td>1.307202e+07</td>\n",
       "      <td>525241.000000</td>\n",
       "      <td>5.239700e+06</td>\n",
       "    </tr>\n",
       "  </tbody>\n",
       "</table>\n",
       "</div>"
      ],
      "text/plain": [
       "        SEVERITYCODE              X              Y       OBJECTID  \\\n",
       "count  189588.000000  184402.000000  184402.000000  189588.000000   \n",
       "mean        1.300446    -122.330505      47.619521  106817.220979   \n",
       "std         0.458453       0.030026       0.056230   62222.443268   \n",
       "min         1.000000    -122.419091      47.495573       1.000000   \n",
       "25%         1.000000    -122.348859      47.575873   53116.750000   \n",
       "50%         1.000000    -122.330168      47.615357  104253.500000   \n",
       "75%         2.000000    -122.311918      47.663835  160018.250000   \n",
       "max         2.000000    -122.238949      47.734142  219547.000000   \n",
       "\n",
       "              INCKEY      COLDETKEY         INTKEY  SEVERITYCODE.1  \\\n",
       "count  189588.000000  189588.000000   63470.000000   189588.000000   \n",
       "mean   138402.592210  138596.750928   37502.213818        1.300446   \n",
       "std     85301.472291   85638.254616   51365.581899        0.458453   \n",
       "min      1001.000000    1001.000000   23807.000000        1.000000   \n",
       "25%     69096.750000   69096.750000   28667.000000        1.000000   \n",
       "50%    120591.500000  120591.500000   29973.000000        1.000000   \n",
       "75%    199153.250000  199293.250000   33984.000000        2.000000   \n",
       "max    331342.000000  332842.000000  757580.000000        2.000000   \n",
       "\n",
       "         PERSONCOUNT       PEDCOUNT    PEDCYLCOUNT       VEHCOUNT  \\\n",
       "count  189588.000000  189588.000000  189588.000000  189588.000000   \n",
       "mean        2.460061       0.037703       0.028019       1.972298   \n",
       "std         1.355109       0.199670       0.165951       0.554339   \n",
       "min         0.000000       0.000000       0.000000       1.000000   \n",
       "25%         2.000000       0.000000       0.000000       2.000000   \n",
       "50%         2.000000       0.000000       0.000000       2.000000   \n",
       "75%         3.000000       0.000000       0.000000       2.000000   \n",
       "max        81.000000       6.000000       2.000000      12.000000   \n",
       "\n",
       "        SDOT_COLCODE    SDOTCOLNUM     SEGLANEKEY  CROSSWALKKEY  \n",
       "count  189588.000000  1.147510e+05  189588.000000  1.895880e+05  \n",
       "mean       13.884196  7.968383e+06     260.714275  9.800749e+03  \n",
       "std         6.701585  2.550992e+06    3293.690652  7.235521e+04  \n",
       "min         0.000000  1.007024e+06       0.000000  0.000000e+00  \n",
       "25%        11.000000  6.039024e+06       0.000000  0.000000e+00  \n",
       "50%        13.000000  8.022004e+06       0.000000  0.000000e+00  \n",
       "75%        14.000000  1.015301e+07       0.000000  0.000000e+00  \n",
       "max        69.000000  1.307202e+07  525241.000000  5.239700e+06  "
      ]
     },
     "execution_count": 262,
     "metadata": {},
     "output_type": "execute_result"
    }
   ],
   "source": [
    "df.describe()"
   ]
  },
  {
   "cell_type": "markdown",
   "metadata": {},
   "source": [
    "## Overall Pandas Profiling"
   ]
  },
  {
   "cell_type": "code",
   "execution_count": 263,
   "metadata": {},
   "outputs": [
    {
     "data": {
      "application/vnd.jupyter.widget-view+json": {
       "model_id": "ec3f40a5904c452baa4e4a26cfcb10a8",
       "version_major": 2,
       "version_minor": 0
      },
      "text/plain": [
       "HBox(children=(FloatProgress(value=0.0, description='Summarize dataset', max=53.0, style=ProgressStyle(descrip…"
      ]
     },
     "metadata": {},
     "output_type": "display_data"
    },
    {
     "name": "stdout",
     "output_type": "stream",
     "text": [
      "\n"
     ]
    },
    {
     "data": {
      "application/vnd.jupyter.widget-view+json": {
       "model_id": "6cb3dc6ad84742e2a89d7f95c3ab7262",
       "version_major": 2,
       "version_minor": 0
      },
      "text/plain": [
       "HBox(children=(FloatProgress(value=0.0, description='Generate report structure', max=1.0, style=ProgressStyle(…"
      ]
     },
     "metadata": {},
     "output_type": "display_data"
    },
    {
     "name": "stderr",
     "output_type": "stream",
     "text": [
      "/home2/azizi/pyvenv/ds1/lib/python3.6/site-packages/pandas_profiling/visualisation/plot.py:154: MatplotlibDeprecationWarning: You are modifying the state of a globally registered colormap. In future versions, you will not be able to modify a registered colormap in-place. To remove this warning, you can make a copy of the colormap first. cmap = copy.copy(mpl.cm.get_cmap(\"RdBu\"))\n",
      "  cmap.set_bad(cmap_bad)\n"
     ]
    },
    {
     "name": "stdout",
     "output_type": "stream",
     "text": [
      "\n"
     ]
    },
    {
     "data": {
      "application/vnd.jupyter.widget-view+json": {
       "model_id": "ac4cecaeb122426db81837b6104509a3",
       "version_major": 2,
       "version_minor": 0
      },
      "text/plain": [
       "HBox(children=(FloatProgress(value=0.0, description='Render HTML', max=1.0, style=ProgressStyle(description_wi…"
      ]
     },
     "metadata": {},
     "output_type": "display_data"
    },
    {
     "name": "stdout",
     "output_type": "stream",
     "text": [
      "\n"
     ]
    },
    {
     "data": {
      "application/vnd.jupyter.widget-view+json": {
       "model_id": "fd5a9b619b424eec8ee55590b92b2ced",
       "version_major": 2,
       "version_minor": 0
      },
      "text/plain": [
       "HBox(children=(FloatProgress(value=0.0, description='Export report to file', max=1.0, style=ProgressStyle(desc…"
      ]
     },
     "metadata": {},
     "output_type": "display_data"
    },
    {
     "name": "stdout",
     "output_type": "stream",
     "text": [
      "\n"
     ]
    }
   ],
   "source": [
    "output_filename = 'output/ibm_applied_ds_capstone_profiling_overall.html'\n",
    "profile = ProfileReport(df, title='Data Profiling of Collisions Data', explorative=True)\n",
    "profile.to_file(output_file=output_filename)"
   ]
  },
  {
   "cell_type": "markdown",
   "metadata": {},
   "source": [
    "Kindly open the weblink below for the profiling information<br>\n",
    "<a href=\"https://zyron92.github.io/coursera/ibm_applied_ds_capstone_profiling_overall.html\">Overall Data Profiling</a>"
   ]
  },
  {
   "cell_type": "markdown",
   "metadata": {},
   "source": [
    "## Data Processing"
   ]
  },
  {
   "cell_type": "markdown",
   "metadata": {},
   "source": [
    "### Removing duplicate column"
   ]
  },
  {
   "cell_type": "code",
   "execution_count": 264,
   "metadata": {},
   "outputs": [],
   "source": [
    "df.drop(columns=[\"SEVERITYCODE.1\",\"INCDATE\"], inplace=True, axis=1)"
   ]
  },
  {
   "cell_type": "markdown",
   "metadata": {},
   "source": [
    "### Removing high cardinality & unique columns"
   ]
  },
  {
   "cell_type": "code",
   "execution_count": 265,
   "metadata": {},
   "outputs": [],
   "source": [
    "df.drop(columns=[\"REPORTNO\",'OBJECTID', 'INCKEY', 'COLDETKEY'], inplace=True, axis=1)"
   ]
  },
  {
   "cell_type": "markdown",
   "metadata": {},
   "source": [
    "### Removing high missing values columns (>20%)\n"
   ]
  },
  {
   "cell_type": "code",
   "execution_count": 266,
   "metadata": {},
   "outputs": [],
   "source": [
    "df.drop(columns=[\"INTKEY\",\"EXCEPTRSNCODE\",\"EXCEPTRSNDESC\",\"SDOTCOLNUM\"], inplace=True, axis=1)"
   ]
  },
  {
   "cell_type": "markdown",
   "metadata": {},
   "source": [
    "### Removing geospatial related columns"
   ]
  },
  {
   "cell_type": "code",
   "execution_count": 267,
   "metadata": {},
   "outputs": [],
   "source": [
    "df.drop(columns=['ADDRTYPE', 'LOCATION'], inplace=True, axis=1)"
   ]
  },
  {
   "cell_type": "markdown",
   "metadata": {},
   "source": [
    "### Removing no-info / not enough info columns"
   ]
  },
  {
   "cell_type": "code",
   "execution_count": 268,
   "metadata": {},
   "outputs": [],
   "source": [
    "df.drop(columns=['X', 'Y', 'STATUS','SEGLANEKEY','CROSSWALKKEY'], inplace=True, axis=1)"
   ]
  },
  {
   "cell_type": "markdown",
   "metadata": {},
   "source": [
    "### Removing unnessary columns (description)"
   ]
  },
  {
   "cell_type": "code",
   "execution_count": 269,
   "metadata": {},
   "outputs": [],
   "source": [
    "df.drop(columns=['SEVERITYDESC','SDOT_COLDESC','ST_COLDESC'], inplace=True, axis=1)"
   ]
  },
  {
   "cell_type": "markdown",
   "metadata": {},
   "source": [
    "### Removing Unsupported Type Colums"
   ]
  },
  {
   "cell_type": "code",
   "execution_count": 270,
   "metadata": {},
   "outputs": [],
   "source": [
    "df.drop(columns=[\"ST_COLCODE\"], inplace=True, axis=1)"
   ]
  },
  {
   "cell_type": "markdown",
   "metadata": {},
   "source": [
    "### Data Imputation for missing N value"
   ]
  },
  {
   "cell_type": "code",
   "execution_count": 271,
   "metadata": {},
   "outputs": [],
   "source": [
    "df[\"INATTENTIONIND\"] = np.where(df[\"INATTENTIONIND\"].isnull(), \"N\", df[\"INATTENTIONIND\"])\n",
    "df[\"PEDROWNOTGRNT\"] = np.where(df[\"PEDROWNOTGRNT\"].isnull(), \"N\", df[\"PEDROWNOTGRNT\"])\n",
    "df[\"SPEEDING\"] = np.where(df[\"SPEEDING\"].isnull(), \"N\", df[\"SPEEDING\"])\n",
    "df[\"UNDERINFL\"] = np.where(df[\"UNDERINFL\"].isnull(), \"N\", df[\"UNDERINFL\"])"
   ]
  },
  {
   "cell_type": "markdown",
   "metadata": {},
   "source": [
    "### Data Imputation for missing value, replaced by Other / Unknown"
   ]
  },
  {
   "cell_type": "code",
   "execution_count": 272,
   "metadata": {},
   "outputs": [],
   "source": [
    "df[\"COLLISIONTYPE\"] = np.where(df[\"COLLISIONTYPE\"].isnull(), \"Other\", df[\"COLLISIONTYPE\"])\n",
    "df[\"JUNCTIONTYPE\"] = np.where(df[\"JUNCTIONTYPE\"].isnull(), \"Unknown\", df[\"JUNCTIONTYPE\"])\n",
    "df[\"WEATHER\"] = np.where(df[\"WEATHER\"].isnull(), \"Unknown\", df[\"WEATHER\"])\n",
    "df[\"ROADCOND\"] = np.where(df[\"ROADCOND\"].isnull(), \"Unknown\", df[\"ROADCOND\"])\n",
    "df[\"LIGHTCOND\"] = np.where(df[\"LIGHTCOND\"].isnull(), \"Unknown\", df[\"LIGHTCOND\"])"
   ]
  },
  {
   "cell_type": "markdown",
   "metadata": {},
   "source": [
    "### Data Cleanup for Y/N columns, making sure only \"Y\" or \"N\""
   ]
  },
  {
   "cell_type": "code",
   "execution_count": 273,
   "metadata": {},
   "outputs": [],
   "source": [
    "df[\"UNDERINFL\"] = np.where(df[\"UNDERINFL\"]==\"0\", \"N\", df[\"UNDERINFL\"])\n",
    "df[\"UNDERINFL\"] = np.where(df[\"UNDERINFL\"]==\"1\", \"Y\", df[\"UNDERINFL\"])"
   ]
  },
  {
   "cell_type": "code",
   "execution_count": 274,
   "metadata": {},
   "outputs": [
    {
     "data": {
      "text/plain": [
       "UNDERINFL         object\n",
       "INATTENTIONIND    object\n",
       "PEDROWNOTGRNT     object\n",
       "SPEEDING          object\n",
       "UNDERINFL         object\n",
       "dtype: object"
      ]
     },
     "execution_count": 274,
     "metadata": {},
     "output_type": "execute_result"
    }
   ],
   "source": [
    "df[[\"UNDERINFL\",\"INATTENTIONIND\",\"PEDROWNOTGRNT\",\"SPEEDING\",\"UNDERINFL\"]].dtypes"
   ]
  },
  {
   "cell_type": "markdown",
   "metadata": {},
   "source": [
    "### Transforming Y/N into 1 or 0 (Label Encoding) for integration with Model"
   ]
  },
  {
   "cell_type": "code",
   "execution_count": 275,
   "metadata": {},
   "outputs": [],
   "source": [
    "cols = [\"INATTENTIONIND\",\"HITPARKEDCAR\",\"PEDROWNOTGRNT\",\"SPEEDING\",\"UNDERINFL\"]\n",
    "for col in cols :\n",
    "    df[col+\"_ENC\"] = np.where(df[col].str.strip()==\"Y\", 1, 0)\n",
    "df.drop(columns=cols, axis=1, inplace=True)"
   ]
  },
  {
   "cell_type": "markdown",
   "metadata": {},
   "source": [
    "### Transforming 1/2 of severity code into 1 or 0 (Label Encoding) for integration with Model"
   ]
  },
  {
   "cell_type": "markdown",
   "metadata": {},
   "source": [
    "Multiclass to single class, 1:Injury 0:Non-Injury"
   ]
  },
  {
   "cell_type": "code",
   "execution_count": 276,
   "metadata": {},
   "outputs": [],
   "source": [
    "df[\"SEVERITYCODE_INJURY\"] = np.where(df['SEVERITYCODE']==2,1,0)\n",
    "df.drop(columns=['SEVERITYCODE'], axis=1, inplace=True)"
   ]
  },
  {
   "cell_type": "markdown",
   "metadata": {},
   "source": [
    "### Transforming Accident Datetime column into Weekend/Weekday & Day/Evening"
   ]
  },
  {
   "cell_type": "code",
   "execution_count": 277,
   "metadata": {},
   "outputs": [],
   "source": [
    "df[\"INCDTTM_ENC\"] = pd.to_datetime(df[\"INCDTTM\"])\n",
    "df[\"isWeekend\"] = np.where(df[\"INCDTTM_ENC\"].dt.dayofweek >= 5, 1, 0)\n",
    "df[\"isNight\"] = np.where(df[\"INCDTTM_ENC\"].dt.hour >= 18, 1, 0)\n",
    "df.drop(columns=[\"INCDTTM_ENC\",\"INCDTTM\"],axis=1,inplace=True)"
   ]
  },
  {
   "cell_type": "code",
   "execution_count": 278,
   "metadata": {},
   "outputs": [
    {
     "data": {
      "application/vnd.jupyter.widget-view+json": {
       "model_id": "3a4d8fdfd6e640af9a185a66dccd6118",
       "version_major": 2,
       "version_minor": 0
      },
      "text/plain": [
       "HBox(children=(FloatProgress(value=0.0, description='Summarize dataset', max=33.0, style=ProgressStyle(descrip…"
      ]
     },
     "metadata": {},
     "output_type": "display_data"
    },
    {
     "name": "stdout",
     "output_type": "stream",
     "text": [
      "\n"
     ]
    },
    {
     "data": {
      "application/vnd.jupyter.widget-view+json": {
       "model_id": "8391a9303e464df0822a97c2a1624ea8",
       "version_major": 2,
       "version_minor": 0
      },
      "text/plain": [
       "HBox(children=(FloatProgress(value=0.0, description='Generate report structure', max=1.0, style=ProgressStyle(…"
      ]
     },
     "metadata": {},
     "output_type": "display_data"
    },
    {
     "name": "stderr",
     "output_type": "stream",
     "text": [
      "/home2/azizi/pyvenv/ds1/lib/python3.6/site-packages/pandas_profiling/visualisation/plot.py:154: MatplotlibDeprecationWarning: You are modifying the state of a globally registered colormap. In future versions, you will not be able to modify a registered colormap in-place. To remove this warning, you can make a copy of the colormap first. cmap = copy.copy(mpl.cm.get_cmap(\"RdBu\"))\n",
      "  cmap.set_bad(cmap_bad)\n"
     ]
    },
    {
     "name": "stdout",
     "output_type": "stream",
     "text": [
      "\n"
     ]
    },
    {
     "data": {
      "application/vnd.jupyter.widget-view+json": {
       "model_id": "74f36a9e9c584fbcb510235e5b3827e8",
       "version_major": 2,
       "version_minor": 0
      },
      "text/plain": [
       "HBox(children=(FloatProgress(value=0.0, description='Render HTML', max=1.0, style=ProgressStyle(description_wi…"
      ]
     },
     "metadata": {},
     "output_type": "display_data"
    },
    {
     "name": "stdout",
     "output_type": "stream",
     "text": [
      "\n"
     ]
    },
    {
     "data": {
      "application/vnd.jupyter.widget-view+json": {
       "model_id": "ab1a0de9250943f196233081a6d5ea3b",
       "version_major": 2,
       "version_minor": 0
      },
      "text/plain": [
       "HBox(children=(FloatProgress(value=0.0, description='Export report to file', max=1.0, style=ProgressStyle(desc…"
      ]
     },
     "metadata": {},
     "output_type": "display_data"
    },
    {
     "name": "stdout",
     "output_type": "stream",
     "text": [
      "\n"
     ]
    }
   ],
   "source": [
    "output_filename = 'output/ibm_applied_ds_capstone_profiling_final.html'\n",
    "profile = ProfileReport(df, title='Data Profiling of Collisions Data FINAL', explorative=True)\n",
    "profile.to_file(output_file=output_filename)"
   ]
  },
  {
   "cell_type": "markdown",
   "metadata": {},
   "source": [
    "# Exploratory Data Analysis (EDA)"
   ]
  },
  {
   "cell_type": "code",
   "execution_count": null,
   "metadata": {},
   "outputs": [],
   "source": []
  },
  {
   "cell_type": "markdown",
   "metadata": {},
   "source": [
    "# Model Training, Prediction & Results"
   ]
  },
  {
   "cell_type": "code",
   "execution_count": null,
   "metadata": {},
   "outputs": [],
   "source": [
    "TBC, expected finished by today"
   ]
  }
 ],
 "metadata": {
  "hide_input": false,
  "kernelspec": {
   "display_name": "Python 3",
   "language": "python",
   "name": "python3"
  },
  "language_info": {
   "codemirror_mode": {
    "name": "ipython",
    "version": 3
   },
   "file_extension": ".py",
   "mimetype": "text/x-python",
   "name": "python",
   "nbconvert_exporter": "python",
   "pygments_lexer": "ipython3",
   "version": "3.6.9"
  },
  "toc": {
   "base_numbering": 1,
   "nav_menu": {},
   "number_sections": true,
   "sideBar": true,
   "skip_h1_title": false,
   "title_cell": "Table of Contents",
   "title_sidebar": "Contents",
   "toc_cell": true,
   "toc_position": {
    "height": "calc(100% - 180px)",
    "left": "10px",
    "top": "150px",
    "width": "305.067px"
   },
   "toc_section_display": true,
   "toc_window_display": true
  }
 },
 "nbformat": 4,
 "nbformat_minor": 4
}
