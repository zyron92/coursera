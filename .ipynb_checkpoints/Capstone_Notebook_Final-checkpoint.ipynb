{
 "cells": [
  {
   "cell_type": "markdown",
   "metadata": {
    "toc": true
   },
   "source": [
    "<h1>Table of Contents<span class=\"tocSkip\"></span></h1>\n",
    "<div class=\"toc\"><ul class=\"toc-item\"><li><span><a href=\"#Library\" data-toc-modified-id=\"Library-1\"><span class=\"toc-item-num\">1&nbsp;&nbsp;</span>Library</a></span></li><li><span><a href=\"#Data-Ingestion\" data-toc-modified-id=\"Data-Ingestion-2\"><span class=\"toc-item-num\">2&nbsp;&nbsp;</span>Data Ingestion</a></span></li><li><span><a href=\"#Data-Description-&amp;-Preparation\" data-toc-modified-id=\"Data-Description-&amp;-Preparation-3\"><span class=\"toc-item-num\">3&nbsp;&nbsp;</span>Data Description &amp; Preparation</a></span><ul class=\"toc-item\"><li><span><a href=\"#Basic-Info\" data-toc-modified-id=\"Basic-Info-3.1\"><span class=\"toc-item-num\">3.1&nbsp;&nbsp;</span>Basic Info</a></span></li><li><span><a href=\"#Missing-Data\" data-toc-modified-id=\"Missing-Data-3.2\"><span class=\"toc-item-num\">3.2&nbsp;&nbsp;</span>Missing Data</a></span></li><li><span><a href=\"#Balancity-of-Data\" data-toc-modified-id=\"Balancity-of-Data-3.3\"><span class=\"toc-item-num\">3.3&nbsp;&nbsp;</span>Balancity of Data</a></span></li><li><span><a href=\"#Overall-Statistical-Description\" data-toc-modified-id=\"Overall-Statistical-Description-3.4\"><span class=\"toc-item-num\">3.4&nbsp;&nbsp;</span>Overall Statistical Description</a></span></li><li><span><a href=\"#Overall-Pandas-Profiling\" data-toc-modified-id=\"Overall-Pandas-Profiling-3.5\"><span class=\"toc-item-num\">3.5&nbsp;&nbsp;</span>Overall Pandas Profiling</a></span></li><li><span><a href=\"#Data-Processing\" data-toc-modified-id=\"Data-Processing-3.6\"><span class=\"toc-item-num\">3.6&nbsp;&nbsp;</span>Data Processing</a></span><ul class=\"toc-item\"><li><span><a href=\"#Removing-duplicate-column\" data-toc-modified-id=\"Removing-duplicate-column-3.6.1\"><span class=\"toc-item-num\">3.6.1&nbsp;&nbsp;</span>Removing duplicate column</a></span></li><li><span><a href=\"#Removing-high-cardinality-&amp;-unique-columns\" data-toc-modified-id=\"Removing-high-cardinality-&amp;-unique-columns-3.6.2\"><span class=\"toc-item-num\">3.6.2&nbsp;&nbsp;</span>Removing high cardinality &amp; unique columns</a></span></li><li><span><a href=\"#Removing-high-missing-values-columns-(>20%)\" data-toc-modified-id=\"Removing-high-missing-values-columns-(>20%)-3.6.3\"><span class=\"toc-item-num\">3.6.3&nbsp;&nbsp;</span>Removing high missing values columns (&gt;20%)</a></span></li><li><span><a href=\"#Removing-geospatial-related-columns\" data-toc-modified-id=\"Removing-geospatial-related-columns-3.6.4\"><span class=\"toc-item-num\">3.6.4&nbsp;&nbsp;</span>Removing geospatial related columns</a></span></li><li><span><a href=\"#Removing-no-info-/-not-enough-info-columns\" data-toc-modified-id=\"Removing-no-info-/-not-enough-info-columns-3.6.5\"><span class=\"toc-item-num\">3.6.5&nbsp;&nbsp;</span>Removing no-info / not enough info columns</a></span></li><li><span><a href=\"#Removing-unnessary-columns-(description)\" data-toc-modified-id=\"Removing-unnessary-columns-(description)-3.6.6\"><span class=\"toc-item-num\">3.6.6&nbsp;&nbsp;</span>Removing unnessary columns (description)</a></span></li><li><span><a href=\"#Removing-Unsupported-Type-Colums\" data-toc-modified-id=\"Removing-Unsupported-Type-Colums-3.6.7\"><span class=\"toc-item-num\">3.6.7&nbsp;&nbsp;</span>Removing Unsupported Type Colums</a></span></li><li><span><a href=\"#Data-Imputation-for-missing-N-value\" data-toc-modified-id=\"Data-Imputation-for-missing-N-value-3.6.8\"><span class=\"toc-item-num\">3.6.8&nbsp;&nbsp;</span>Data Imputation for missing N value</a></span></li><li><span><a href=\"#Data-Imputation-for-missing-value,-replaced-by-Other-/-Unknown\" data-toc-modified-id=\"Data-Imputation-for-missing-value,-replaced-by-Other-/-Unknown-3.6.9\"><span class=\"toc-item-num\">3.6.9&nbsp;&nbsp;</span>Data Imputation for missing value, replaced by Other / Unknown</a></span></li><li><span><a href=\"#Data-Cleanup-for-Y/N-columns,-making-sure-only-&quot;Y&quot;-or-&quot;N&quot;\" data-toc-modified-id=\"Data-Cleanup-for-Y/N-columns,-making-sure-only-&quot;Y&quot;-or-&quot;N&quot;-3.6.10\"><span class=\"toc-item-num\">3.6.10&nbsp;&nbsp;</span>Data Cleanup for Y/N columns, making sure only \"Y\" or \"N\"</a></span></li><li><span><a href=\"#Transforming-Y/N-into-1-or-0-(Label-Encoding)-for-integration-with-Model\" data-toc-modified-id=\"Transforming-Y/N-into-1-or-0-(Label-Encoding)-for-integration-with-Model-3.6.11\"><span class=\"toc-item-num\">3.6.11&nbsp;&nbsp;</span>Transforming Y/N into 1 or 0 (Label Encoding) for integration with Model</a></span></li><li><span><a href=\"#Transforming-1/2-of-severity-code-into-1-or-0-(Label-Encoding)-for-integration-with-Model\" data-toc-modified-id=\"Transforming-1/2-of-severity-code-into-1-or-0-(Label-Encoding)-for-integration-with-Model-3.6.12\"><span class=\"toc-item-num\">3.6.12&nbsp;&nbsp;</span>Transforming 1/2 of severity code into 1 or 0 (Label Encoding) for integration with Model</a></span></li><li><span><a href=\"#Transforming-Accident-Datetime-column-into-Weekend/Weekday-&amp;-Day/Evening\" data-toc-modified-id=\"Transforming-Accident-Datetime-column-into-Weekend/Weekday-&amp;-Day/Evening-3.6.13\"><span class=\"toc-item-num\">3.6.13&nbsp;&nbsp;</span>Transforming Accident Datetime column into Weekend/Weekday &amp; Day/Evening</a></span></li></ul></li></ul></li><li><span><a href=\"#Exploratory-Data-Analysis-(EDA)\" data-toc-modified-id=\"Exploratory-Data-Analysis-(EDA)-4\"><span class=\"toc-item-num\">4&nbsp;&nbsp;</span>Exploratory Data Analysis (EDA)</a></span></li><li><span><a href=\"#Model-Training,-Prediction-&amp;-Results\" data-toc-modified-id=\"Model-Training,-Prediction-&amp;-Results-5\"><span class=\"toc-item-num\">5&nbsp;&nbsp;</span>Model Training, Prediction &amp; Results</a></span><ul class=\"toc-item\"><li><span><a href=\"#Init-H2O-Auto-ML-Engine-&amp;-Convert-to-H2O-DataFRame\" data-toc-modified-id=\"Init-H2O-Auto-ML-Engine-&amp;-Convert-to-H2O-DataFRame-5.1\"><span class=\"toc-item-num\">5.1&nbsp;&nbsp;</span>Init H2O Auto ML Engine &amp; Convert to H2O DataFRame</a></span></li><li><span><a href=\"#Change-certain-columns-to-Enum(Categorical)-Type\" data-toc-modified-id=\"Change-certain-columns-to-Enum(Categorical)-Type-5.2\"><span class=\"toc-item-num\">5.2&nbsp;&nbsp;</span>Change certain columns to Enum(Categorical) Type</a></span></li><li><span><a href=\"#Splitting-dataset\" data-toc-modified-id=\"Splitting-dataset-5.3\"><span class=\"toc-item-num\">5.3&nbsp;&nbsp;</span>Splitting dataset</a></span></li><li><span><a href=\"#Training-Model\" data-toc-modified-id=\"Training-Model-5.4\"><span class=\"toc-item-num\">5.4&nbsp;&nbsp;</span>Training Model</a></span></li><li><span><a href=\"#Finding-the-best-model\" data-toc-modified-id=\"Finding-the-best-model-5.5\"><span class=\"toc-item-num\">5.5&nbsp;&nbsp;</span>Finding the best model</a></span></li><li><span><a href=\"#Results\" data-toc-modified-id=\"Results-5.6\"><span class=\"toc-item-num\">5.6&nbsp;&nbsp;</span>Results</a></span></li><li><span><a href=\"#Finding-important-attributes\" data-toc-modified-id=\"Finding-important-attributes-5.7\"><span class=\"toc-item-num\">5.7&nbsp;&nbsp;</span>Finding important attributes</a></span></li></ul></li></ul></div>"
   ]
  },
  {
   "cell_type": "markdown",
   "metadata": {},
   "source": [
    "# Library"
   ]
  },
  {
   "cell_type": "code",
   "execution_count": 375,
   "metadata": {},
   "outputs": [],
   "source": [
    "import pandas as pd\n",
    "import numpy as np \n",
    "from pandas_profiling import ProfileReport\n",
    "import seaborn as sns # data visualization library  \n",
    "import matplotlib.pyplot as plt\n",
    "import time\n",
    "import h2o\n",
    "from h2o.automl import H2OAutoML"
   ]
  },
  {
   "cell_type": "markdown",
   "metadata": {},
   "source": [
    "# Data Ingestion"
   ]
  },
  {
   "cell_type": "code",
   "execution_count": 283,
   "metadata": {},
   "outputs": [
    {
     "name": "stderr",
     "output_type": "stream",
     "text": [
      "/home2/azizi/pyvenv/ds1/lib/python3.6/site-packages/IPython/core/interactiveshell.py:3072: DtypeWarning: Columns (33) have mixed types.Specify dtype option on import or set low_memory=False.\n",
      "  interactivity=interactivity, compiler=compiler, result=result)\n"
     ]
    }
   ],
   "source": [
    "df = pd.read_csv(\"data/Data-Collisions.csv\")"
   ]
  },
  {
   "cell_type": "code",
   "execution_count": 284,
   "metadata": {},
   "outputs": [
    {
     "data": {
      "text/plain": [
       "Index(['SEVERITYCODE', 'X', 'Y', 'OBJECTID', 'INCKEY', 'COLDETKEY', 'REPORTNO',\n",
       "       'STATUS', 'ADDRTYPE', 'INTKEY', 'LOCATION', 'EXCEPTRSNCODE',\n",
       "       'EXCEPTRSNDESC', 'SEVERITYCODE.1', 'SEVERITYDESC', 'COLLISIONTYPE',\n",
       "       'PERSONCOUNT', 'PEDCOUNT', 'PEDCYLCOUNT', 'VEHCOUNT', 'INCDATE',\n",
       "       'INCDTTM', 'JUNCTIONTYPE', 'SDOT_COLCODE', 'SDOT_COLDESC',\n",
       "       'INATTENTIONIND', 'UNDERINFL', 'WEATHER', 'ROADCOND', 'LIGHTCOND',\n",
       "       'PEDROWNOTGRNT', 'SDOTCOLNUM', 'SPEEDING', 'ST_COLCODE', 'ST_COLDESC',\n",
       "       'SEGLANEKEY', 'CROSSWALKKEY', 'HITPARKEDCAR'],\n",
       "      dtype='object')"
      ]
     },
     "execution_count": 284,
     "metadata": {},
     "output_type": "execute_result"
    }
   ],
   "source": [
    "df.columns"
   ]
  },
  {
   "cell_type": "code",
   "execution_count": 285,
   "metadata": {},
   "outputs": [
    {
     "data": {
      "text/html": [
       "<div>\n",
       "<style scoped>\n",
       "    .dataframe tbody tr th:only-of-type {\n",
       "        vertical-align: middle;\n",
       "    }\n",
       "\n",
       "    .dataframe tbody tr th {\n",
       "        vertical-align: top;\n",
       "    }\n",
       "\n",
       "    .dataframe thead th {\n",
       "        text-align: right;\n",
       "    }\n",
       "</style>\n",
       "<table border=\"1\" class=\"dataframe\">\n",
       "  <thead>\n",
       "    <tr style=\"text-align: right;\">\n",
       "      <th></th>\n",
       "      <th>SEVERITYCODE</th>\n",
       "      <th>X</th>\n",
       "      <th>Y</th>\n",
       "      <th>OBJECTID</th>\n",
       "      <th>INCKEY</th>\n",
       "      <th>COLDETKEY</th>\n",
       "      <th>REPORTNO</th>\n",
       "      <th>STATUS</th>\n",
       "      <th>ADDRTYPE</th>\n",
       "      <th>INTKEY</th>\n",
       "      <th>...</th>\n",
       "      <th>ROADCOND</th>\n",
       "      <th>LIGHTCOND</th>\n",
       "      <th>PEDROWNOTGRNT</th>\n",
       "      <th>SDOTCOLNUM</th>\n",
       "      <th>SPEEDING</th>\n",
       "      <th>ST_COLCODE</th>\n",
       "      <th>ST_COLDESC</th>\n",
       "      <th>SEGLANEKEY</th>\n",
       "      <th>CROSSWALKKEY</th>\n",
       "      <th>HITPARKEDCAR</th>\n",
       "    </tr>\n",
       "  </thead>\n",
       "  <tbody>\n",
       "    <tr>\n",
       "      <th>0</th>\n",
       "      <td>2</td>\n",
       "      <td>-122.323148</td>\n",
       "      <td>47.703140</td>\n",
       "      <td>1</td>\n",
       "      <td>1307</td>\n",
       "      <td>1307</td>\n",
       "      <td>3502005</td>\n",
       "      <td>Matched</td>\n",
       "      <td>Intersection</td>\n",
       "      <td>37475.0</td>\n",
       "      <td>...</td>\n",
       "      <td>Wet</td>\n",
       "      <td>Daylight</td>\n",
       "      <td>NaN</td>\n",
       "      <td>NaN</td>\n",
       "      <td>NaN</td>\n",
       "      <td>10</td>\n",
       "      <td>Entering at angle</td>\n",
       "      <td>0</td>\n",
       "      <td>0</td>\n",
       "      <td>N</td>\n",
       "    </tr>\n",
       "    <tr>\n",
       "      <th>1</th>\n",
       "      <td>1</td>\n",
       "      <td>-122.347294</td>\n",
       "      <td>47.647172</td>\n",
       "      <td>2</td>\n",
       "      <td>52200</td>\n",
       "      <td>52200</td>\n",
       "      <td>2607959</td>\n",
       "      <td>Matched</td>\n",
       "      <td>Block</td>\n",
       "      <td>NaN</td>\n",
       "      <td>...</td>\n",
       "      <td>Wet</td>\n",
       "      <td>Dark - Street Lights On</td>\n",
       "      <td>NaN</td>\n",
       "      <td>6354039.0</td>\n",
       "      <td>NaN</td>\n",
       "      <td>11</td>\n",
       "      <td>From same direction - both going straight - bo...</td>\n",
       "      <td>0</td>\n",
       "      <td>0</td>\n",
       "      <td>N</td>\n",
       "    </tr>\n",
       "    <tr>\n",
       "      <th>2</th>\n",
       "      <td>1</td>\n",
       "      <td>-122.334540</td>\n",
       "      <td>47.607871</td>\n",
       "      <td>3</td>\n",
       "      <td>26700</td>\n",
       "      <td>26700</td>\n",
       "      <td>1482393</td>\n",
       "      <td>Matched</td>\n",
       "      <td>Block</td>\n",
       "      <td>NaN</td>\n",
       "      <td>...</td>\n",
       "      <td>Dry</td>\n",
       "      <td>Daylight</td>\n",
       "      <td>NaN</td>\n",
       "      <td>4323031.0</td>\n",
       "      <td>NaN</td>\n",
       "      <td>32</td>\n",
       "      <td>One parked--one moving</td>\n",
       "      <td>0</td>\n",
       "      <td>0</td>\n",
       "      <td>N</td>\n",
       "    </tr>\n",
       "    <tr>\n",
       "      <th>3</th>\n",
       "      <td>1</td>\n",
       "      <td>-122.334803</td>\n",
       "      <td>47.604803</td>\n",
       "      <td>4</td>\n",
       "      <td>1144</td>\n",
       "      <td>1144</td>\n",
       "      <td>3503937</td>\n",
       "      <td>Matched</td>\n",
       "      <td>Block</td>\n",
       "      <td>NaN</td>\n",
       "      <td>...</td>\n",
       "      <td>Dry</td>\n",
       "      <td>Daylight</td>\n",
       "      <td>NaN</td>\n",
       "      <td>NaN</td>\n",
       "      <td>NaN</td>\n",
       "      <td>23</td>\n",
       "      <td>From same direction - all others</td>\n",
       "      <td>0</td>\n",
       "      <td>0</td>\n",
       "      <td>N</td>\n",
       "    </tr>\n",
       "    <tr>\n",
       "      <th>4</th>\n",
       "      <td>2</td>\n",
       "      <td>-122.306426</td>\n",
       "      <td>47.545739</td>\n",
       "      <td>5</td>\n",
       "      <td>17700</td>\n",
       "      <td>17700</td>\n",
       "      <td>1807429</td>\n",
       "      <td>Matched</td>\n",
       "      <td>Intersection</td>\n",
       "      <td>34387.0</td>\n",
       "      <td>...</td>\n",
       "      <td>Wet</td>\n",
       "      <td>Daylight</td>\n",
       "      <td>NaN</td>\n",
       "      <td>4028032.0</td>\n",
       "      <td>NaN</td>\n",
       "      <td>10</td>\n",
       "      <td>Entering at angle</td>\n",
       "      <td>0</td>\n",
       "      <td>0</td>\n",
       "      <td>N</td>\n",
       "    </tr>\n",
       "  </tbody>\n",
       "</table>\n",
       "<p>5 rows × 38 columns</p>\n",
       "</div>"
      ],
      "text/plain": [
       "   SEVERITYCODE           X          Y  OBJECTID  INCKEY  COLDETKEY REPORTNO  \\\n",
       "0             2 -122.323148  47.703140         1    1307       1307  3502005   \n",
       "1             1 -122.347294  47.647172         2   52200      52200  2607959   \n",
       "2             1 -122.334540  47.607871         3   26700      26700  1482393   \n",
       "3             1 -122.334803  47.604803         4    1144       1144  3503937   \n",
       "4             2 -122.306426  47.545739         5   17700      17700  1807429   \n",
       "\n",
       "    STATUS      ADDRTYPE   INTKEY  ... ROADCOND                LIGHTCOND  \\\n",
       "0  Matched  Intersection  37475.0  ...      Wet                 Daylight   \n",
       "1  Matched         Block      NaN  ...      Wet  Dark - Street Lights On   \n",
       "2  Matched         Block      NaN  ...      Dry                 Daylight   \n",
       "3  Matched         Block      NaN  ...      Dry                 Daylight   \n",
       "4  Matched  Intersection  34387.0  ...      Wet                 Daylight   \n",
       "\n",
       "  PEDROWNOTGRNT  SDOTCOLNUM SPEEDING ST_COLCODE  \\\n",
       "0           NaN         NaN      NaN         10   \n",
       "1           NaN   6354039.0      NaN         11   \n",
       "2           NaN   4323031.0      NaN         32   \n",
       "3           NaN         NaN      NaN         23   \n",
       "4           NaN   4028032.0      NaN         10   \n",
       "\n",
       "                                          ST_COLDESC  SEGLANEKEY  \\\n",
       "0                                  Entering at angle           0   \n",
       "1  From same direction - both going straight - bo...           0   \n",
       "2                             One parked--one moving           0   \n",
       "3                   From same direction - all others           0   \n",
       "4                                  Entering at angle           0   \n",
       "\n",
       "   CROSSWALKKEY  HITPARKEDCAR  \n",
       "0             0             N  \n",
       "1             0             N  \n",
       "2             0             N  \n",
       "3             0             N  \n",
       "4             0             N  \n",
       "\n",
       "[5 rows x 38 columns]"
      ]
     },
     "execution_count": 285,
     "metadata": {},
     "output_type": "execute_result"
    }
   ],
   "source": [
    "df.head()"
   ]
  },
  {
   "cell_type": "code",
   "execution_count": 286,
   "metadata": {},
   "outputs": [],
   "source": [
    "# We are going to use data involving car (vehicle)\n",
    "df = df[df[\"VEHCOUNT\"] > 0]"
   ]
  },
  {
   "cell_type": "markdown",
   "metadata": {},
   "source": [
    "# Data Description & Preparation"
   ]
  },
  {
   "cell_type": "markdown",
   "metadata": {},
   "source": [
    "## Basic Info"
   ]
  },
  {
   "cell_type": "code",
   "execution_count": 287,
   "metadata": {},
   "outputs": [
    {
     "data": {
      "text/plain": [
       "Index(['SEVERITYCODE', 'X', 'Y', 'OBJECTID', 'INCKEY', 'COLDETKEY', 'REPORTNO',\n",
       "       'STATUS', 'ADDRTYPE', 'INTKEY', 'LOCATION', 'EXCEPTRSNCODE',\n",
       "       'EXCEPTRSNDESC', 'SEVERITYCODE.1', 'SEVERITYDESC', 'COLLISIONTYPE',\n",
       "       'PERSONCOUNT', 'PEDCOUNT', 'PEDCYLCOUNT', 'VEHCOUNT', 'INCDATE',\n",
       "       'INCDTTM', 'JUNCTIONTYPE', 'SDOT_COLCODE', 'SDOT_COLDESC',\n",
       "       'INATTENTIONIND', 'UNDERINFL', 'WEATHER', 'ROADCOND', 'LIGHTCOND',\n",
       "       'PEDROWNOTGRNT', 'SDOTCOLNUM', 'SPEEDING', 'ST_COLCODE', 'ST_COLDESC',\n",
       "       'SEGLANEKEY', 'CROSSWALKKEY', 'HITPARKEDCAR'],\n",
       "      dtype='object')"
      ]
     },
     "execution_count": 287,
     "metadata": {},
     "output_type": "execute_result"
    }
   ],
   "source": [
    "df.columns"
   ]
  },
  {
   "cell_type": "code",
   "execution_count": 288,
   "metadata": {},
   "outputs": [
    {
     "name": "stdout",
     "output_type": "stream",
     "text": [
      "Number of attributes :  38\n"
     ]
    }
   ],
   "source": [
    "print(\"Number of attributes : \", len(df.columns))"
   ]
  },
  {
   "cell_type": "code",
   "execution_count": 289,
   "metadata": {},
   "outputs": [
    {
     "name": "stdout",
     "output_type": "stream",
     "text": [
      "Number of observations :  189588\n"
     ]
    }
   ],
   "source": [
    "print(\"Number of observations : \", len(df))"
   ]
  },
  {
   "cell_type": "markdown",
   "metadata": {},
   "source": [
    "## Missing Data"
   ]
  },
  {
   "cell_type": "code",
   "execution_count": 290,
   "metadata": {},
   "outputs": [
    {
     "name": "stdout",
     "output_type": "stream",
     "text": [
      "Number of missing data for column 'ROADCOND' :  126\n"
     ]
    }
   ],
   "source": [
    "print(\"Number of missing data for column 'ROADCOND' : \", df[\"ROADCOND\"].isna().sum())"
   ]
  },
  {
   "cell_type": "code",
   "execution_count": 291,
   "metadata": {},
   "outputs": [
    {
     "data": {
      "text/plain": [
       "SEVERITYCODE           0\n",
       "X                   5186\n",
       "Y                   5186\n",
       "OBJECTID               0\n",
       "INCKEY                 0\n",
       "COLDETKEY              0\n",
       "REPORTNO               0\n",
       "STATUS                 0\n",
       "ADDRTYPE            1818\n",
       "INTKEY            126118\n",
       "LOCATION            2565\n",
       "EXCEPTRSNCODE     109777\n",
       "EXCEPTRSNDESC     184725\n",
       "SEVERITYCODE.1         0\n",
       "SEVERITYDESC           0\n",
       "COLLISIONTYPE         20\n",
       "PERSONCOUNT            0\n",
       "PEDCOUNT               0\n",
       "PEDCYLCOUNT            0\n",
       "VEHCOUNT               0\n",
       "INCDATE                0\n",
       "INCDTTM                0\n",
       "JUNCTIONTYPE        6176\n",
       "SDOT_COLCODE           0\n",
       "SDOT_COLDESC           0\n",
       "INATTENTIONIND    159800\n",
       "UNDERINFL              0\n",
       "WEATHER              194\n",
       "ROADCOND             126\n",
       "LIGHTCOND            284\n",
       "PEDROWNOTGRNT     184954\n",
       "SDOTCOLNUM         74837\n",
       "SPEEDING          180262\n",
       "ST_COLCODE            17\n",
       "ST_COLDESC            20\n",
       "SEGLANEKEY             0\n",
       "CROSSWALKKEY           0\n",
       "HITPARKEDCAR           0\n",
       "dtype: int64"
      ]
     },
     "execution_count": 291,
     "metadata": {},
     "output_type": "execute_result"
    }
   ],
   "source": [
    "df.isna().sum()"
   ]
  },
  {
   "cell_type": "markdown",
   "metadata": {},
   "source": [
    "## Balancity of Data"
   ]
  },
  {
   "cell_type": "code",
   "execution_count": 292,
   "metadata": {},
   "outputs": [],
   "source": [
    "targetCol = \"SEVERITYCODE\""
   ]
  },
  {
   "cell_type": "code",
   "execution_count": 293,
   "metadata": {},
   "outputs": [
    {
     "data": {
      "text/plain": [
       "1    132627\n",
       "2     56961\n",
       "Name: SEVERITYCODE, dtype: int64"
      ]
     },
     "execution_count": 293,
     "metadata": {},
     "output_type": "execute_result"
    }
   ],
   "source": [
    "df[targetCol].value_counts()"
   ]
  },
  {
   "cell_type": "markdown",
   "metadata": {},
   "source": [
    "We could see that the dataset is imbalanced."
   ]
  },
  {
   "cell_type": "markdown",
   "metadata": {},
   "source": [
    "## Overall Statistical Description"
   ]
  },
  {
   "cell_type": "code",
   "execution_count": 294,
   "metadata": {},
   "outputs": [
    {
     "data": {
      "text/html": [
       "<div>\n",
       "<style scoped>\n",
       "    .dataframe tbody tr th:only-of-type {\n",
       "        vertical-align: middle;\n",
       "    }\n",
       "\n",
       "    .dataframe tbody tr th {\n",
       "        vertical-align: top;\n",
       "    }\n",
       "\n",
       "    .dataframe thead th {\n",
       "        text-align: right;\n",
       "    }\n",
       "</style>\n",
       "<table border=\"1\" class=\"dataframe\">\n",
       "  <thead>\n",
       "    <tr style=\"text-align: right;\">\n",
       "      <th></th>\n",
       "      <th>SEVERITYCODE</th>\n",
       "      <th>X</th>\n",
       "      <th>Y</th>\n",
       "      <th>OBJECTID</th>\n",
       "      <th>INCKEY</th>\n",
       "      <th>COLDETKEY</th>\n",
       "      <th>INTKEY</th>\n",
       "      <th>SEVERITYCODE.1</th>\n",
       "      <th>PERSONCOUNT</th>\n",
       "      <th>PEDCOUNT</th>\n",
       "      <th>PEDCYLCOUNT</th>\n",
       "      <th>VEHCOUNT</th>\n",
       "      <th>SDOT_COLCODE</th>\n",
       "      <th>SDOTCOLNUM</th>\n",
       "      <th>SEGLANEKEY</th>\n",
       "      <th>CROSSWALKKEY</th>\n",
       "    </tr>\n",
       "  </thead>\n",
       "  <tbody>\n",
       "    <tr>\n",
       "      <th>count</th>\n",
       "      <td>189588.000000</td>\n",
       "      <td>184402.000000</td>\n",
       "      <td>184402.000000</td>\n",
       "      <td>189588.000000</td>\n",
       "      <td>189588.000000</td>\n",
       "      <td>189588.000000</td>\n",
       "      <td>63470.000000</td>\n",
       "      <td>189588.000000</td>\n",
       "      <td>189588.000000</td>\n",
       "      <td>189588.000000</td>\n",
       "      <td>189588.000000</td>\n",
       "      <td>189588.000000</td>\n",
       "      <td>189588.000000</td>\n",
       "      <td>1.147510e+05</td>\n",
       "      <td>189588.000000</td>\n",
       "      <td>1.895880e+05</td>\n",
       "    </tr>\n",
       "    <tr>\n",
       "      <th>mean</th>\n",
       "      <td>1.300446</td>\n",
       "      <td>-122.330505</td>\n",
       "      <td>47.619521</td>\n",
       "      <td>106817.220979</td>\n",
       "      <td>138402.592210</td>\n",
       "      <td>138596.750928</td>\n",
       "      <td>37502.213818</td>\n",
       "      <td>1.300446</td>\n",
       "      <td>2.460061</td>\n",
       "      <td>0.037703</td>\n",
       "      <td>0.028019</td>\n",
       "      <td>1.972298</td>\n",
       "      <td>13.884196</td>\n",
       "      <td>7.968383e+06</td>\n",
       "      <td>260.714275</td>\n",
       "      <td>9.800749e+03</td>\n",
       "    </tr>\n",
       "    <tr>\n",
       "      <th>std</th>\n",
       "      <td>0.458453</td>\n",
       "      <td>0.030026</td>\n",
       "      <td>0.056230</td>\n",
       "      <td>62222.443268</td>\n",
       "      <td>85301.472291</td>\n",
       "      <td>85638.254616</td>\n",
       "      <td>51365.581899</td>\n",
       "      <td>0.458453</td>\n",
       "      <td>1.355109</td>\n",
       "      <td>0.199670</td>\n",
       "      <td>0.165951</td>\n",
       "      <td>0.554339</td>\n",
       "      <td>6.701585</td>\n",
       "      <td>2.550992e+06</td>\n",
       "      <td>3293.690652</td>\n",
       "      <td>7.235521e+04</td>\n",
       "    </tr>\n",
       "    <tr>\n",
       "      <th>min</th>\n",
       "      <td>1.000000</td>\n",
       "      <td>-122.419091</td>\n",
       "      <td>47.495573</td>\n",
       "      <td>1.000000</td>\n",
       "      <td>1001.000000</td>\n",
       "      <td>1001.000000</td>\n",
       "      <td>23807.000000</td>\n",
       "      <td>1.000000</td>\n",
       "      <td>0.000000</td>\n",
       "      <td>0.000000</td>\n",
       "      <td>0.000000</td>\n",
       "      <td>1.000000</td>\n",
       "      <td>0.000000</td>\n",
       "      <td>1.007024e+06</td>\n",
       "      <td>0.000000</td>\n",
       "      <td>0.000000e+00</td>\n",
       "    </tr>\n",
       "    <tr>\n",
       "      <th>25%</th>\n",
       "      <td>1.000000</td>\n",
       "      <td>-122.348859</td>\n",
       "      <td>47.575873</td>\n",
       "      <td>53116.750000</td>\n",
       "      <td>69096.750000</td>\n",
       "      <td>69096.750000</td>\n",
       "      <td>28667.000000</td>\n",
       "      <td>1.000000</td>\n",
       "      <td>2.000000</td>\n",
       "      <td>0.000000</td>\n",
       "      <td>0.000000</td>\n",
       "      <td>2.000000</td>\n",
       "      <td>11.000000</td>\n",
       "      <td>6.039024e+06</td>\n",
       "      <td>0.000000</td>\n",
       "      <td>0.000000e+00</td>\n",
       "    </tr>\n",
       "    <tr>\n",
       "      <th>50%</th>\n",
       "      <td>1.000000</td>\n",
       "      <td>-122.330168</td>\n",
       "      <td>47.615357</td>\n",
       "      <td>104253.500000</td>\n",
       "      <td>120591.500000</td>\n",
       "      <td>120591.500000</td>\n",
       "      <td>29973.000000</td>\n",
       "      <td>1.000000</td>\n",
       "      <td>2.000000</td>\n",
       "      <td>0.000000</td>\n",
       "      <td>0.000000</td>\n",
       "      <td>2.000000</td>\n",
       "      <td>13.000000</td>\n",
       "      <td>8.022004e+06</td>\n",
       "      <td>0.000000</td>\n",
       "      <td>0.000000e+00</td>\n",
       "    </tr>\n",
       "    <tr>\n",
       "      <th>75%</th>\n",
       "      <td>2.000000</td>\n",
       "      <td>-122.311918</td>\n",
       "      <td>47.663835</td>\n",
       "      <td>160018.250000</td>\n",
       "      <td>199153.250000</td>\n",
       "      <td>199293.250000</td>\n",
       "      <td>33984.000000</td>\n",
       "      <td>2.000000</td>\n",
       "      <td>3.000000</td>\n",
       "      <td>0.000000</td>\n",
       "      <td>0.000000</td>\n",
       "      <td>2.000000</td>\n",
       "      <td>14.000000</td>\n",
       "      <td>1.015301e+07</td>\n",
       "      <td>0.000000</td>\n",
       "      <td>0.000000e+00</td>\n",
       "    </tr>\n",
       "    <tr>\n",
       "      <th>max</th>\n",
       "      <td>2.000000</td>\n",
       "      <td>-122.238949</td>\n",
       "      <td>47.734142</td>\n",
       "      <td>219547.000000</td>\n",
       "      <td>331342.000000</td>\n",
       "      <td>332842.000000</td>\n",
       "      <td>757580.000000</td>\n",
       "      <td>2.000000</td>\n",
       "      <td>81.000000</td>\n",
       "      <td>6.000000</td>\n",
       "      <td>2.000000</td>\n",
       "      <td>12.000000</td>\n",
       "      <td>69.000000</td>\n",
       "      <td>1.307202e+07</td>\n",
       "      <td>525241.000000</td>\n",
       "      <td>5.239700e+06</td>\n",
       "    </tr>\n",
       "  </tbody>\n",
       "</table>\n",
       "</div>"
      ],
      "text/plain": [
       "        SEVERITYCODE              X              Y       OBJECTID  \\\n",
       "count  189588.000000  184402.000000  184402.000000  189588.000000   \n",
       "mean        1.300446    -122.330505      47.619521  106817.220979   \n",
       "std         0.458453       0.030026       0.056230   62222.443268   \n",
       "min         1.000000    -122.419091      47.495573       1.000000   \n",
       "25%         1.000000    -122.348859      47.575873   53116.750000   \n",
       "50%         1.000000    -122.330168      47.615357  104253.500000   \n",
       "75%         2.000000    -122.311918      47.663835  160018.250000   \n",
       "max         2.000000    -122.238949      47.734142  219547.000000   \n",
       "\n",
       "              INCKEY      COLDETKEY         INTKEY  SEVERITYCODE.1  \\\n",
       "count  189588.000000  189588.000000   63470.000000   189588.000000   \n",
       "mean   138402.592210  138596.750928   37502.213818        1.300446   \n",
       "std     85301.472291   85638.254616   51365.581899        0.458453   \n",
       "min      1001.000000    1001.000000   23807.000000        1.000000   \n",
       "25%     69096.750000   69096.750000   28667.000000        1.000000   \n",
       "50%    120591.500000  120591.500000   29973.000000        1.000000   \n",
       "75%    199153.250000  199293.250000   33984.000000        2.000000   \n",
       "max    331342.000000  332842.000000  757580.000000        2.000000   \n",
       "\n",
       "         PERSONCOUNT       PEDCOUNT    PEDCYLCOUNT       VEHCOUNT  \\\n",
       "count  189588.000000  189588.000000  189588.000000  189588.000000   \n",
       "mean        2.460061       0.037703       0.028019       1.972298   \n",
       "std         1.355109       0.199670       0.165951       0.554339   \n",
       "min         0.000000       0.000000       0.000000       1.000000   \n",
       "25%         2.000000       0.000000       0.000000       2.000000   \n",
       "50%         2.000000       0.000000       0.000000       2.000000   \n",
       "75%         3.000000       0.000000       0.000000       2.000000   \n",
       "max        81.000000       6.000000       2.000000      12.000000   \n",
       "\n",
       "        SDOT_COLCODE    SDOTCOLNUM     SEGLANEKEY  CROSSWALKKEY  \n",
       "count  189588.000000  1.147510e+05  189588.000000  1.895880e+05  \n",
       "mean       13.884196  7.968383e+06     260.714275  9.800749e+03  \n",
       "std         6.701585  2.550992e+06    3293.690652  7.235521e+04  \n",
       "min         0.000000  1.007024e+06       0.000000  0.000000e+00  \n",
       "25%        11.000000  6.039024e+06       0.000000  0.000000e+00  \n",
       "50%        13.000000  8.022004e+06       0.000000  0.000000e+00  \n",
       "75%        14.000000  1.015301e+07       0.000000  0.000000e+00  \n",
       "max        69.000000  1.307202e+07  525241.000000  5.239700e+06  "
      ]
     },
     "execution_count": 294,
     "metadata": {},
     "output_type": "execute_result"
    }
   ],
   "source": [
    "df.describe()"
   ]
  },
  {
   "cell_type": "markdown",
   "metadata": {},
   "source": [
    "## Overall Pandas Profiling"
   ]
  },
  {
   "cell_type": "code",
   "execution_count": null,
   "metadata": {},
   "outputs": [],
   "source": [
    "output_filename = 'output/ibm_applied_ds_capstone_profiling_overall.html'\n",
    "profile = ProfileReport(df, title='Data Profiling of Collisions Data', explorative=True)\n",
    "profile.to_file(output_file=output_filename)"
   ]
  },
  {
   "cell_type": "markdown",
   "metadata": {},
   "source": [
    "Kindly open the weblink below for the profiling information<br>\n",
    "<a href=\"https://zyron92.github.io/coursera/ibm_applied_ds_capstone_profiling_overall.html\">Overall Data Profiling</a>"
   ]
  },
  {
   "cell_type": "markdown",
   "metadata": {},
   "source": [
    "## Data Processing"
   ]
  },
  {
   "cell_type": "markdown",
   "metadata": {},
   "source": [
    "### Removing duplicate column"
   ]
  },
  {
   "cell_type": "code",
   "execution_count": 296,
   "metadata": {},
   "outputs": [],
   "source": [
    "df.drop(columns=[\"SEVERITYCODE.1\",\"INCDATE\"], inplace=True, axis=1)"
   ]
  },
  {
   "cell_type": "markdown",
   "metadata": {},
   "source": [
    "### Removing high cardinality & unique columns"
   ]
  },
  {
   "cell_type": "code",
   "execution_count": 297,
   "metadata": {},
   "outputs": [],
   "source": [
    "df.drop(columns=[\"REPORTNO\",'OBJECTID', 'INCKEY', 'COLDETKEY'], inplace=True, axis=1)"
   ]
  },
  {
   "cell_type": "markdown",
   "metadata": {},
   "source": [
    "### Removing high missing values columns (>20%)\n"
   ]
  },
  {
   "cell_type": "code",
   "execution_count": 298,
   "metadata": {},
   "outputs": [],
   "source": [
    "df.drop(columns=[\"INTKEY\",\"EXCEPTRSNCODE\",\"EXCEPTRSNDESC\",\"SDOTCOLNUM\"], inplace=True, axis=1)"
   ]
  },
  {
   "cell_type": "markdown",
   "metadata": {},
   "source": [
    "### Removing geospatial related columns"
   ]
  },
  {
   "cell_type": "code",
   "execution_count": 299,
   "metadata": {},
   "outputs": [],
   "source": [
    "df.drop(columns=['ADDRTYPE', 'LOCATION'], inplace=True, axis=1)"
   ]
  },
  {
   "cell_type": "markdown",
   "metadata": {},
   "source": [
    "### Removing no-info / not enough info columns"
   ]
  },
  {
   "cell_type": "code",
   "execution_count": 300,
   "metadata": {},
   "outputs": [],
   "source": [
    "df.drop(columns=['X', 'Y', 'STATUS','SEGLANEKEY','CROSSWALKKEY'], inplace=True, axis=1)"
   ]
  },
  {
   "cell_type": "markdown",
   "metadata": {},
   "source": [
    "### Removing unnessary columns (description)"
   ]
  },
  {
   "cell_type": "code",
   "execution_count": 301,
   "metadata": {},
   "outputs": [],
   "source": [
    "df.drop(columns=['SEVERITYDESC','SDOT_COLDESC','ST_COLDESC'], inplace=True, axis=1)"
   ]
  },
  {
   "cell_type": "markdown",
   "metadata": {},
   "source": [
    "### Removing Unsupported Type Colums"
   ]
  },
  {
   "cell_type": "code",
   "execution_count": 302,
   "metadata": {},
   "outputs": [],
   "source": [
    "df.drop(columns=[\"ST_COLCODE\"], inplace=True, axis=1)"
   ]
  },
  {
   "cell_type": "markdown",
   "metadata": {},
   "source": [
    "### Data Imputation for missing N value"
   ]
  },
  {
   "cell_type": "code",
   "execution_count": 303,
   "metadata": {},
   "outputs": [],
   "source": [
    "df[\"INATTENTIONIND\"] = np.where(df[\"INATTENTIONIND\"].isnull(), \"N\", df[\"INATTENTIONIND\"])\n",
    "df[\"PEDROWNOTGRNT\"] = np.where(df[\"PEDROWNOTGRNT\"].isnull(), \"N\", df[\"PEDROWNOTGRNT\"])\n",
    "df[\"SPEEDING\"] = np.where(df[\"SPEEDING\"].isnull(), \"N\", df[\"SPEEDING\"])\n",
    "df[\"UNDERINFL\"] = np.where(df[\"UNDERINFL\"].isnull(), \"N\", df[\"UNDERINFL\"])"
   ]
  },
  {
   "cell_type": "markdown",
   "metadata": {},
   "source": [
    "### Data Imputation for missing value, replaced by Other / Unknown"
   ]
  },
  {
   "cell_type": "code",
   "execution_count": 304,
   "metadata": {},
   "outputs": [],
   "source": [
    "df[\"COLLISIONTYPE\"] = np.where(df[\"COLLISIONTYPE\"].isnull(), \"Other\", df[\"COLLISIONTYPE\"])\n",
    "df[\"JUNCTIONTYPE\"] = np.where(df[\"JUNCTIONTYPE\"].isnull(), \"Unknown\", df[\"JUNCTIONTYPE\"])\n",
    "df[\"WEATHER\"] = np.where(df[\"WEATHER\"].isnull(), \"Unknown\", df[\"WEATHER\"])\n",
    "df[\"ROADCOND\"] = np.where(df[\"ROADCOND\"].isnull(), \"Unknown\", df[\"ROADCOND\"])\n",
    "df[\"LIGHTCOND\"] = np.where(df[\"LIGHTCOND\"].isnull(), \"Unknown\", df[\"LIGHTCOND\"])"
   ]
  },
  {
   "cell_type": "markdown",
   "metadata": {},
   "source": [
    "### Data Cleanup for Y/N columns, making sure only \"Y\" or \"N\""
   ]
  },
  {
   "cell_type": "code",
   "execution_count": 305,
   "metadata": {},
   "outputs": [],
   "source": [
    "df[\"UNDERINFL\"] = np.where(df[\"UNDERINFL\"]==\"0\", \"N\", df[\"UNDERINFL\"])\n",
    "df[\"UNDERINFL\"] = np.where(df[\"UNDERINFL\"]==\"1\", \"Y\", df[\"UNDERINFL\"])"
   ]
  },
  {
   "cell_type": "code",
   "execution_count": 306,
   "metadata": {},
   "outputs": [
    {
     "data": {
      "text/plain": [
       "UNDERINFL         object\n",
       "INATTENTIONIND    object\n",
       "PEDROWNOTGRNT     object\n",
       "SPEEDING          object\n",
       "UNDERINFL         object\n",
       "dtype: object"
      ]
     },
     "execution_count": 306,
     "metadata": {},
     "output_type": "execute_result"
    }
   ],
   "source": [
    "df[[\"UNDERINFL\",\"INATTENTIONIND\",\"PEDROWNOTGRNT\",\"SPEEDING\",\"UNDERINFL\"]].dtypes"
   ]
  },
  {
   "cell_type": "markdown",
   "metadata": {},
   "source": [
    "### Transforming Y/N into 1 or 0 (Label Encoding) for integration with Model"
   ]
  },
  {
   "cell_type": "code",
   "execution_count": 307,
   "metadata": {},
   "outputs": [],
   "source": [
    "cols = [\"INATTENTIONIND\",\"HITPARKEDCAR\",\"PEDROWNOTGRNT\",\"SPEEDING\",\"UNDERINFL\"]\n",
    "for col in cols :\n",
    "    df[col+\"_ENC\"] = np.where(df[col].str.strip()==\"Y\", 1, 0)\n",
    "df.drop(columns=cols, axis=1, inplace=True)"
   ]
  },
  {
   "cell_type": "markdown",
   "metadata": {},
   "source": [
    "### Transforming 1/2 of severity code into 1 or 0 (Label Encoding) for integration with Model"
   ]
  },
  {
   "cell_type": "markdown",
   "metadata": {},
   "source": [
    "Multiclass to single class, 1:Injury 0:Non-Injury"
   ]
  },
  {
   "cell_type": "code",
   "execution_count": 308,
   "metadata": {},
   "outputs": [],
   "source": [
    "df[\"SEVERITYCODE_INJURY\"] = np.where(df['SEVERITYCODE']==2,1,0)\n",
    "df.drop(columns=['SEVERITYCODE'], axis=1, inplace=True)"
   ]
  },
  {
   "cell_type": "markdown",
   "metadata": {},
   "source": [
    "### Transforming Accident Datetime column into Weekend/Weekday & Day/Evening"
   ]
  },
  {
   "cell_type": "code",
   "execution_count": 309,
   "metadata": {},
   "outputs": [],
   "source": [
    "df[\"INCDTTM_ENC\"] = pd.to_datetime(df[\"INCDTTM\"])\n",
    "df[\"isWeekend\"] = np.where(df[\"INCDTTM_ENC\"].dt.dayofweek >= 5, 1, 0)\n",
    "df[\"isNight\"] = np.where(df[\"INCDTTM_ENC\"].dt.hour >= 18, 1, 0)\n",
    "df.drop(columns=[\"INCDTTM_ENC\",\"INCDTTM\"],axis=1,inplace=True)"
   ]
  },
  {
   "cell_type": "markdown",
   "metadata": {},
   "source": [
    "# Exploratory Data Analysis (EDA)"
   ]
  },
  {
   "cell_type": "code",
   "execution_count": 428,
   "metadata": {},
   "outputs": [],
   "source": [
    "y = df[\"SEVERITYCODE_INJURY\"]\n",
    "x = df.drop([\"SEVERITYCODE_INJURY\"],axis = 1)"
   ]
  },
  {
   "cell_type": "code",
   "execution_count": 430,
   "metadata": {
    "scrolled": true
   },
   "outputs": [
    {
     "name": "stdout",
     "output_type": "stream",
     "text": [
      "Number of Severity Involving Injury:  56961\n",
      "Number of Severity Not Involving Injury :  132627\n"
     ]
    }
   ],
   "source": [
    "non_injury, injury = y.value_counts()\n",
    "print('Number of Severity Involving Injury: ',injury)\n",
    "print('Number of Severity Not Involving Injury : ',non_injury)"
   ]
  },
  {
   "cell_type": "code",
   "execution_count": 431,
   "metadata": {},
   "outputs": [
    {
     "data": {
      "image/png": "[encoded data removed]",
      "text/plain": [
       "<Figure size 576x396 with 1 Axes>"
      ]
     },
     "metadata": {},
     "output_type": "display_data"
    }
   ],
   "source": [
    "ax = sns.countplot(y,label=\"Count\")"
   ]
  },
  {
   "cell_type": "code",
   "execution_count": null,
   "metadata": {},
   "outputs": [],
   "source": [
    "output_filename = 'output/ibm_applied_ds_capstone_profiling_final.html'\n",
    "profile = ProfileReport(df, title='Data Profiling of Collisions Data FINAL', explorative=True)\n",
    "profile.to_file(output_file=output_filename)"
   ]
  },
  {
   "cell_type": "markdown",
   "metadata": {},
   "source": [
    "Kindly open the weblink below for the profiling information<br>\n",
    "<a href=\"https://zyron92.github.io/coursera/ibm_applied_ds_capstone_profiling_final.html\">Final Data Profiling</a>"
   ]
  },
  {
   "cell_type": "markdown",
   "metadata": {},
   "source": [
    "# Model Training, Prediction & Results"
   ]
  },
  {
   "cell_type": "markdown",
   "metadata": {},
   "source": [
    "## Init H2O Auto ML Engine & Convert to H2O DataFRame"
   ]
  },
  {
   "cell_type": "code",
   "execution_count": null,
   "metadata": {},
   "outputs": [],
   "source": [
    "h2o.init()"
   ]
  },
  {
   "cell_type": "code",
   "execution_count": 417,
   "metadata": {},
   "outputs": [
    {
     "name": "stdout",
     "output_type": "stream",
     "text": [
      "Parse progress: |█████████████████████████████████████████████████████████| 100%\n"
     ]
    }
   ],
   "source": [
    "h2o_df = h2o.H2OFrame(df)"
   ]
  },
  {
   "cell_type": "markdown",
   "metadata": {},
   "source": [
    "## Change certain columns to Enum(Categorical) Type"
   ]
  },
  {
   "cell_type": "code",
   "execution_count": 418,
   "metadata": {},
   "outputs": [],
   "source": [
    "cols_num = ['SDOT_COLCODE','HITPARKEDCAR_ENC','PEDROWNOTGRNT_ENC','SPEEDING_ENC','UNDERINFL_ENC','SEVERITYCODE_INJURY','isWeekend','isNight']\n",
    "for col in cols_num :\n",
    "    h2o_df[col] = h2o_df[col].asfactor()"
   ]
  },
  {
   "cell_type": "code",
   "execution_count": 419,
   "metadata": {},
   "outputs": [
    {
     "name": "stdout",
     "output_type": "stream",
     "text": [
      "Rows:189588\n",
      "Cols:18\n",
      "\n",
      "\n"
     ]
    },
    {
     "data": {
      "text/html": [
       "<table>\n",
       "<thead>\n",
       "<tr><th>       </th><th>COLLISIONTYPE  </th><th>PERSONCOUNT       </th><th>PEDCOUNT           </th><th>PEDCYLCOUNT        </th><th>VEHCOUNT          </th><th>JUNCTIONTYPE                           </th><th>SDOT_COLCODE  </th><th>WEATHER  </th><th>ROADCOND  </th><th>LIGHTCOND              </th><th>INATTENTIONIND_ENC  </th><th>HITPARKEDCAR_ENC  </th><th>PEDROWNOTGRNT_ENC  </th><th>SPEEDING_ENC  </th><th>UNDERINFL_ENC  </th><th>SEVERITYCODE_INJURY  </th><th>isWeekend  </th><th>isNight  </th></tr>\n",
       "</thead>\n",
       "<tbody>\n",
       "<tr><td>type   </td><td>enum           </td><td>int               </td><td>int                </td><td>int                </td><td>int               </td><td>enum                                   </td><td>enum          </td><td>enum     </td><td>enum      </td><td>enum                   </td><td>int                 </td><td>enum              </td><td>enum               </td><td>enum          </td><td>enum           </td><td>enum                 </td><td>enum       </td><td>enum     </td></tr>\n",
       "<tr><td>mins   </td><td>               </td><td>0.0               </td><td>0.0                </td><td>0.0                </td><td>1.0               </td><td>                                       </td><td>              </td><td>         </td><td>          </td><td>                       </td><td>0.0                 </td><td>                  </td><td>                   </td><td>              </td><td>               </td><td>                     </td><td>           </td><td>         </td></tr>\n",
       "<tr><td>mean   </td><td>               </td><td>2.460060763339465 </td><td>0.03770280819461147</td><td>0.02801865096947062</td><td>1.9722978247568423</td><td>                                       </td><td>              </td><td>         </td><td>          </td><td>                       </td><td>0.15711964892292762 </td><td>                  </td><td>                   </td><td>              </td><td>               </td><td>                     </td><td>           </td><td>         </td></tr>\n",
       "<tr><td>maxs   </td><td>               </td><td>81.0              </td><td>6.0                </td><td>2.0                </td><td>12.0              </td><td>                                       </td><td>              </td><td>         </td><td>          </td><td>                       </td><td>1.0                 </td><td>                  </td><td>                   </td><td>              </td><td>               </td><td>                     </td><td>           </td><td>         </td></tr>\n",
       "<tr><td>sigma  </td><td>               </td><td>1.3551092025381661</td><td>0.1996703323879078 </td><td>0.16595082995699684</td><td>0.5543389597692029</td><td>                                       </td><td>              </td><td>         </td><td>          </td><td>                       </td><td>0.36391450009554144 </td><td>                  </td><td>                   </td><td>              </td><td>               </td><td>                     </td><td>           </td><td>         </td></tr>\n",
       "<tr><td>zeros  </td><td>               </td><td>5536              </td><td>182730             </td><td>184305             </td><td>0                 </td><td>                                       </td><td>              </td><td>         </td><td>          </td><td>                       </td><td>159800              </td><td>                  </td><td>                   </td><td>              </td><td>               </td><td>                     </td><td>           </td><td>         </td></tr>\n",
       "<tr><td>missing</td><td>0              </td><td>0                 </td><td>0                  </td><td>0                  </td><td>0                 </td><td>0                                      </td><td>0             </td><td>0        </td><td>0         </td><td>0                      </td><td>0                   </td><td>0                 </td><td>0                  </td><td>0             </td><td>0              </td><td>0                    </td><td>0          </td><td>0        </td></tr>\n",
       "<tr><td>0      </td><td>Angles         </td><td>2.0               </td><td>0.0                </td><td>0.0                </td><td>2.0               </td><td>At Intersection (intersection related) </td><td>11            </td><td>Overcast </td><td>Wet       </td><td>Daylight               </td><td>0.0                 </td><td>0                 </td><td>0                  </td><td>0             </td><td>0              </td><td>1                    </td><td>0          </td><td>0        </td></tr>\n",
       "<tr><td>1      </td><td>Sideswipe      </td><td>2.0               </td><td>0.0                </td><td>0.0                </td><td>2.0               </td><td>Mid-Block (not related to intersection)</td><td>16            </td><td>Raining  </td><td>Wet       </td><td>Dark - Street Lights On</td><td>0.0                 </td><td>0                 </td><td>0                  </td><td>0             </td><td>0              </td><td>0                    </td><td>0          </td><td>1        </td></tr>\n",
       "<tr><td>2      </td><td>Parked Car     </td><td>4.0               </td><td>0.0                </td><td>0.0                </td><td>3.0               </td><td>Mid-Block (not related to intersection)</td><td>14            </td><td>Overcast </td><td>Dry       </td><td>Daylight               </td><td>0.0                 </td><td>0                 </td><td>0                  </td><td>0             </td><td>0              </td><td>0                    </td><td>0          </td><td>0        </td></tr>\n",
       "<tr><td>3      </td><td>Other          </td><td>3.0               </td><td>0.0                </td><td>0.0                </td><td>3.0               </td><td>Mid-Block (not related to intersection)</td><td>11            </td><td>Clear    </td><td>Dry       </td><td>Daylight               </td><td>0.0                 </td><td>0                 </td><td>0                  </td><td>0             </td><td>0              </td><td>0                    </td><td>0          </td><td>0        </td></tr>\n",
       "<tr><td>4      </td><td>Angles         </td><td>2.0               </td><td>0.0                </td><td>0.0                </td><td>2.0               </td><td>At Intersection (intersection related) </td><td>11            </td><td>Raining  </td><td>Wet       </td><td>Daylight               </td><td>0.0                 </td><td>0                 </td><td>0                  </td><td>0             </td><td>0              </td><td>1                    </td><td>0          </td><td>0        </td></tr>\n",
       "<tr><td>5      </td><td>Angles         </td><td>2.0               </td><td>0.0                </td><td>0.0                </td><td>2.0               </td><td>At Intersection (intersection related) </td><td>11            </td><td>Clear    </td><td>Dry       </td><td>Daylight               </td><td>0.0                 </td><td>0                 </td><td>0                  </td><td>0             </td><td>0              </td><td>0                    </td><td>1          </td><td>0        </td></tr>\n",
       "<tr><td>6      </td><td>Angles         </td><td>2.0               </td><td>0.0                </td><td>0.0                </td><td>2.0               </td><td>At Intersection (intersection related) </td><td>11            </td><td>Raining  </td><td>Wet       </td><td>Daylight               </td><td>0.0                 </td><td>0                 </td><td>0                  </td><td>0             </td><td>0              </td><td>0                    </td><td>0          </td><td>0        </td></tr>\n",
       "<tr><td>7      </td><td>Cycles         </td><td>3.0               </td><td>0.0                </td><td>1.0                </td><td>1.0               </td><td>At Intersection (intersection related) </td><td>51            </td><td>Clear    </td><td>Dry       </td><td>Daylight               </td><td>0.0                 </td><td>0                 </td><td>0                  </td><td>0             </td><td>0              </td><td>1                    </td><td>0          </td><td>0        </td></tr>\n",
       "<tr><td>8      </td><td>Parked Car     </td><td>2.0               </td><td>0.0                </td><td>0.0                </td><td>2.0               </td><td>Mid-Block (not related to intersection)</td><td>11            </td><td>Clear    </td><td>Dry       </td><td>Daylight               </td><td>0.0                 </td><td>0                 </td><td>0                  </td><td>0             </td><td>0              </td><td>0                    </td><td>0          </td><td>0        </td></tr>\n",
       "<tr><td>9      </td><td>Angles         </td><td>2.0               </td><td>0.0                </td><td>0.0                </td><td>2.0               </td><td>At Intersection (intersection related) </td><td>11            </td><td>Clear    </td><td>Dry       </td><td>Daylight               </td><td>0.0                 </td><td>0                 </td><td>0                  </td><td>0             </td><td>0              </td><td>1                    </td><td>0          </td><td>0        </td></tr>\n",
       "</tbody>\n",
       "</table>"
      ]
     },
     "metadata": {},
     "output_type": "display_data"
    }
   ],
   "source": [
    "h2o_df.describe()"
   ]
  },
  {
   "cell_type": "markdown",
   "metadata": {},
   "source": [
    "## Splitting dataset"
   ]
  },
  {
   "cell_type": "code",
   "execution_count": 420,
   "metadata": {},
   "outputs": [],
   "source": [
    "train, test = h2o_df.split_frame(ratios=[.70])\n",
    "\n",
    "# Identify predictors and response\n",
    "x = train.columns\n",
    "y = \"SEVERITYCODE_INJURY\"\n",
    "x.remove(y)"
   ]
  },
  {
   "cell_type": "markdown",
   "metadata": {},
   "source": [
    "## Training Model"
   ]
  },
  {
   "cell_type": "code",
   "execution_count": 421,
   "metadata": {},
   "outputs": [
    {
     "name": "stdout",
     "output_type": "stream",
     "text": [
      "AutoML progress: |████████████████████████████████████████████████████████| 100%\n",
      "CPU times: user 1min 34s, sys: 408 ms, total: 1min 34s\n",
      "Wall time: 7min 45s\n"
     ]
    }
   ],
   "source": [
    "aml = H2OAutoML(max_runtime_secs=1000,\n",
    "                exclude_algos=['DeepLearning'],\n",
    "                seed=1,\n",
    "                balance_classes=True,\n",
    "                nfolds=5,\n",
    "                project_name='Completed'\n",
    ")\n",
    "%time aml.train(x=x, y=y, training_frame=train)"
   ]
  },
  {
   "cell_type": "markdown",
   "metadata": {},
   "source": [
    "## Finding the best model"
   ]
  },
  {
   "cell_type": "code",
   "execution_count": 422,
   "metadata": {},
   "outputs": [
    {
     "data": {
      "text/html": [
       "<table>\n",
       "<thead>\n",
       "<tr><th>model_id                                           </th><th style=\"text-align: right;\">     auc</th><th style=\"text-align: right;\">  logloss</th><th style=\"text-align: right;\">   aucpr</th><th style=\"text-align: right;\">  mean_per_class_error</th><th style=\"text-align: right;\">    rmse</th><th style=\"text-align: right;\">     mse</th></tr>\n",
       "</thead>\n",
       "<tbody>\n",
       "<tr><td>StackedEnsemble_AllModels_AutoML_20200903_215827   </td><td style=\"text-align: right;\">0.803589</td><td style=\"text-align: right;\"> 0.474433</td><td style=\"text-align: right;\">0.64453 </td><td style=\"text-align: right;\">              0.280415</td><td style=\"text-align: right;\">0.396662</td><td style=\"text-align: right;\">0.157341</td></tr>\n",
       "<tr><td>StackedEnsemble_BestOfFamily_AutoML_20200903_215827</td><td style=\"text-align: right;\">0.803243</td><td style=\"text-align: right;\"> 0.474713</td><td style=\"text-align: right;\">0.643306</td><td style=\"text-align: right;\">              0.280404</td><td style=\"text-align: right;\">0.396777</td><td style=\"text-align: right;\">0.157432</td></tr>\n",
       "<tr><td>XGBoost_3_AutoML_20200903_215827                   </td><td style=\"text-align: right;\">0.802843</td><td style=\"text-align: right;\"> 0.46718 </td><td style=\"text-align: right;\">0.642304</td><td style=\"text-align: right;\">              0.280383</td><td style=\"text-align: right;\">0.395467</td><td style=\"text-align: right;\">0.156394</td></tr>\n",
       "<tr><td>XGBoost_grid__1_AutoML_20200903_215827_model_2     </td><td style=\"text-align: right;\">0.802828</td><td style=\"text-align: right;\"> 0.467266</td><td style=\"text-align: right;\">0.642629</td><td style=\"text-align: right;\">              0.281156</td><td style=\"text-align: right;\">0.395489</td><td style=\"text-align: right;\">0.156411</td></tr>\n",
       "<tr><td>GBM_grid__1_AutoML_20200903_215827_model_3         </td><td style=\"text-align: right;\">0.80274 </td><td style=\"text-align: right;\"> 0.467437</td><td style=\"text-align: right;\">0.642457</td><td style=\"text-align: right;\">              0.280848</td><td style=\"text-align: right;\">0.395579</td><td style=\"text-align: right;\">0.156483</td></tr>\n",
       "<tr><td>GBM_1_AutoML_20200903_215827                       </td><td style=\"text-align: right;\">0.802645</td><td style=\"text-align: right;\"> 0.467526</td><td style=\"text-align: right;\">0.642627</td><td style=\"text-align: right;\">              0.281313</td><td style=\"text-align: right;\">0.395543</td><td style=\"text-align: right;\">0.156454</td></tr>\n",
       "<tr><td>GBM_2_AutoML_20200903_215827                       </td><td style=\"text-align: right;\">0.802598</td><td style=\"text-align: right;\"> 0.467396</td><td style=\"text-align: right;\">0.643399</td><td style=\"text-align: right;\">              0.281068</td><td style=\"text-align: right;\">0.395555</td><td style=\"text-align: right;\">0.156464</td></tr>\n",
       "<tr><td>XGBoost_grid__1_AutoML_20200903_215827_model_6     </td><td style=\"text-align: right;\">0.802543</td><td style=\"text-align: right;\"> 0.46761 </td><td style=\"text-align: right;\">0.64307 </td><td style=\"text-align: right;\">              0.281644</td><td style=\"text-align: right;\">0.395611</td><td style=\"text-align: right;\">0.156508</td></tr>\n",
       "<tr><td>XGBoost_grid__1_AutoML_20200903_215827_model_5     </td><td style=\"text-align: right;\">0.802515</td><td style=\"text-align: right;\"> 0.467467</td><td style=\"text-align: right;\">0.642601</td><td style=\"text-align: right;\">              0.280968</td><td style=\"text-align: right;\">0.395653</td><td style=\"text-align: right;\">0.156541</td></tr>\n",
       "<tr><td>GBM_grid__1_AutoML_20200903_215827_model_2         </td><td style=\"text-align: right;\">0.80251 </td><td style=\"text-align: right;\"> 0.467831</td><td style=\"text-align: right;\">0.642241</td><td style=\"text-align: right;\">              0.28077 </td><td style=\"text-align: right;\">0.395671</td><td style=\"text-align: right;\">0.156556</td></tr>\n",
       "</tbody>\n",
       "</table>"
      ]
     },
     "metadata": {},
     "output_type": "display_data"
    },
    {
     "data": {
      "text/plain": []
     },
     "execution_count": 422,
     "metadata": {},
     "output_type": "execute_result"
    }
   ],
   "source": [
    "lb = aml.leaderboard\n",
    "lb.head(rows=10)"
   ]
  },
  {
   "cell_type": "markdown",
   "metadata": {},
   "source": [
    "## Results"
   ]
  },
  {
   "cell_type": "code",
   "execution_count": 424,
   "metadata": {},
   "outputs": [
    {
     "name": "stdout",
     "output_type": "stream",
     "text": [
      "\n",
      "ModelMetricsBinomialGLM: stackedensemble\n",
      "** Reported on test data. **\n",
      "\n",
      "MSE: 0.15730594502348125\n",
      "RMSE: 0.3966181350158881\n",
      "LogLoss: 0.47509999898428257\n",
      "Null degrees of freedom: 57052\n",
      "Residual degrees of freedom: 57036\n",
      "Null deviance: 69941.30154246245\n",
      "Residual deviance: 54211.76048410054\n",
      "AIC: 54245.76048410054\n",
      "AUC: 0.8046480250099575\n",
      "AUCPR: 0.6501076297838214\n",
      "Gini: 0.6092960500199149\n",
      "\n",
      "Confusion Matrix (Act/Pred) for max f1 @ threshold = 0.26508666824753274: \n"
     ]
    },
    {
     "data": {
      "text/html": [
       "<div>\n",
       "<style scoped>\n",
       "    .dataframe tbody tr th:only-of-type {\n",
       "        vertical-align: middle;\n",
       "    }\n",
       "\n",
       "    .dataframe tbody tr th {\n",
       "        vertical-align: top;\n",
       "    }\n",
       "\n",
       "    .dataframe thead th {\n",
       "        text-align: right;\n",
       "    }\n",
       "</style>\n",
       "<table border=\"1\" class=\"dataframe\">\n",
       "  <thead>\n",
       "    <tr style=\"text-align: right;\">\n",
       "      <th></th>\n",
       "      <th></th>\n",
       "      <th>0</th>\n",
       "      <th>1</th>\n",
       "      <th>Error</th>\n",
       "      <th>Rate</th>\n",
       "    </tr>\n",
       "  </thead>\n",
       "  <tbody>\n",
       "    <tr>\n",
       "      <th>0</th>\n",
       "      <td>0</td>\n",
       "      <td>24719.0</td>\n",
       "      <td>15078.0</td>\n",
       "      <td>0.3789</td>\n",
       "      <td>(15078.0/39797.0)</td>\n",
       "    </tr>\n",
       "    <tr>\n",
       "      <th>1</th>\n",
       "      <td>1</td>\n",
       "      <td>3122.0</td>\n",
       "      <td>14134.0</td>\n",
       "      <td>0.1809</td>\n",
       "      <td>(3122.0/17256.0)</td>\n",
       "    </tr>\n",
       "    <tr>\n",
       "      <th>2</th>\n",
       "      <td>Total</td>\n",
       "      <td>27841.0</td>\n",
       "      <td>29212.0</td>\n",
       "      <td>0.319</td>\n",
       "      <td>(18200.0/57053.0)</td>\n",
       "    </tr>\n",
       "  </tbody>\n",
       "</table>\n",
       "</div>"
      ],
      "text/plain": [
       "                0        1   Error                Rate\n",
       "0      0  24719.0  15078.0  0.3789   (15078.0/39797.0)\n",
       "1      1   3122.0  14134.0  0.1809    (3122.0/17256.0)\n",
       "2  Total  27841.0  29212.0   0.319   (18200.0/57053.0)"
      ]
     },
     "metadata": {},
     "output_type": "display_data"
    },
    {
     "name": "stdout",
     "output_type": "stream",
     "text": [
      "\n",
      "Maximum Metrics: Maximum metrics at their respective thresholds\n"
     ]
    },
    {
     "data": {
      "text/html": [
       "<div>\n",
       "<style scoped>\n",
       "    .dataframe tbody tr th:only-of-type {\n",
       "        vertical-align: middle;\n",
       "    }\n",
       "\n",
       "    .dataframe tbody tr th {\n",
       "        vertical-align: top;\n",
       "    }\n",
       "\n",
       "    .dataframe thead th {\n",
       "        text-align: right;\n",
       "    }\n",
       "</style>\n",
       "<table border=\"1\" class=\"dataframe\">\n",
       "  <thead>\n",
       "    <tr style=\"text-align: right;\">\n",
       "      <th></th>\n",
       "      <th>metric</th>\n",
       "      <th>threshold</th>\n",
       "      <th>value</th>\n",
       "      <th>idx</th>\n",
       "    </tr>\n",
       "  </thead>\n",
       "  <tbody>\n",
       "    <tr>\n",
       "      <th>0</th>\n",
       "      <td>max f1</td>\n",
       "      <td>0.265087</td>\n",
       "      <td>0.608333</td>\n",
       "      <td>263.0</td>\n",
       "    </tr>\n",
       "    <tr>\n",
       "      <th>1</th>\n",
       "      <td>max f2</td>\n",
       "      <td>0.121456</td>\n",
       "      <td>0.753454</td>\n",
       "      <td>343.0</td>\n",
       "    </tr>\n",
       "    <tr>\n",
       "      <th>2</th>\n",
       "      <td>max f0point5</td>\n",
       "      <td>0.522325</td>\n",
       "      <td>0.594317</td>\n",
       "      <td>131.0</td>\n",
       "    </tr>\n",
       "    <tr>\n",
       "      <th>3</th>\n",
       "      <td>max accuracy</td>\n",
       "      <td>0.522325</td>\n",
       "      <td>0.762151</td>\n",
       "      <td>131.0</td>\n",
       "    </tr>\n",
       "    <tr>\n",
       "      <th>4</th>\n",
       "      <td>max precision</td>\n",
       "      <td>0.930067</td>\n",
       "      <td>0.909922</td>\n",
       "      <td>4.0</td>\n",
       "    </tr>\n",
       "    <tr>\n",
       "      <th>5</th>\n",
       "      <td>max recall</td>\n",
       "      <td>0.054150</td>\n",
       "      <td>1.000000</td>\n",
       "      <td>399.0</td>\n",
       "    </tr>\n",
       "    <tr>\n",
       "      <th>6</th>\n",
       "      <td>max specificity</td>\n",
       "      <td>0.936521</td>\n",
       "      <td>0.999950</td>\n",
       "      <td>0.0</td>\n",
       "    </tr>\n",
       "    <tr>\n",
       "      <th>7</th>\n",
       "      <td>max absolute_mcc</td>\n",
       "      <td>0.254037</td>\n",
       "      <td>0.404659</td>\n",
       "      <td>269.0</td>\n",
       "    </tr>\n",
       "    <tr>\n",
       "      <th>8</th>\n",
       "      <td>max min_per_class_accuracy</td>\n",
       "      <td>0.318691</td>\n",
       "      <td>0.713873</td>\n",
       "      <td>231.0</td>\n",
       "    </tr>\n",
       "    <tr>\n",
       "      <th>9</th>\n",
       "      <td>max mean_per_class_accuracy</td>\n",
       "      <td>0.265087</td>\n",
       "      <td>0.720102</td>\n",
       "      <td>263.0</td>\n",
       "    </tr>\n",
       "    <tr>\n",
       "      <th>10</th>\n",
       "      <td>max tns</td>\n",
       "      <td>0.936521</td>\n",
       "      <td>39795.000000</td>\n",
       "      <td>0.0</td>\n",
       "    </tr>\n",
       "    <tr>\n",
       "      <th>11</th>\n",
       "      <td>max fns</td>\n",
       "      <td>0.936521</td>\n",
       "      <td>17236.000000</td>\n",
       "      <td>0.0</td>\n",
       "    </tr>\n",
       "    <tr>\n",
       "      <th>12</th>\n",
       "      <td>max fps</td>\n",
       "      <td>0.054150</td>\n",
       "      <td>39797.000000</td>\n",
       "      <td>399.0</td>\n",
       "    </tr>\n",
       "    <tr>\n",
       "      <th>13</th>\n",
       "      <td>max tps</td>\n",
       "      <td>0.054150</td>\n",
       "      <td>17256.000000</td>\n",
       "      <td>399.0</td>\n",
       "    </tr>\n",
       "    <tr>\n",
       "      <th>14</th>\n",
       "      <td>max tnr</td>\n",
       "      <td>0.936521</td>\n",
       "      <td>0.999950</td>\n",
       "      <td>0.0</td>\n",
       "    </tr>\n",
       "    <tr>\n",
       "      <th>15</th>\n",
       "      <td>max fnr</td>\n",
       "      <td>0.936521</td>\n",
       "      <td>0.998841</td>\n",
       "      <td>0.0</td>\n",
       "    </tr>\n",
       "    <tr>\n",
       "      <th>16</th>\n",
       "      <td>max fpr</td>\n",
       "      <td>0.054150</td>\n",
       "      <td>1.000000</td>\n",
       "      <td>399.0</td>\n",
       "    </tr>\n",
       "    <tr>\n",
       "      <th>17</th>\n",
       "      <td>max tpr</td>\n",
       "      <td>0.054150</td>\n",
       "      <td>1.000000</td>\n",
       "      <td>399.0</td>\n",
       "    </tr>\n",
       "  </tbody>\n",
       "</table>\n",
       "</div>"
      ],
      "text/plain": [
       "                         metric  threshold         value    idx\n",
       "0                        max f1   0.265087      0.608333  263.0\n",
       "1                        max f2   0.121456      0.753454  343.0\n",
       "2                  max f0point5   0.522325      0.594317  131.0\n",
       "3                  max accuracy   0.522325      0.762151  131.0\n",
       "4                 max precision   0.930067      0.909922    4.0\n",
       "5                    max recall   0.054150      1.000000  399.0\n",
       "6               max specificity   0.936521      0.999950    0.0\n",
       "7              max absolute_mcc   0.254037      0.404659  269.0\n",
       "8    max min_per_class_accuracy   0.318691      0.713873  231.0\n",
       "9   max mean_per_class_accuracy   0.265087      0.720102  263.0\n",
       "10                      max tns   0.936521  39795.000000    0.0\n",
       "11                      max fns   0.936521  17236.000000    0.0\n",
       "12                      max fps   0.054150  39797.000000  399.0\n",
       "13                      max tps   0.054150  17256.000000  399.0\n",
       "14                      max tnr   0.936521      0.999950    0.0\n",
       "15                      max fnr   0.936521      0.998841    0.0\n",
       "16                      max fpr   0.054150      1.000000  399.0\n",
       "17                      max tpr   0.054150      1.000000  399.0"
      ]
     },
     "metadata": {},
     "output_type": "display_data"
    },
    {
     "name": "stdout",
     "output_type": "stream",
     "text": [
      "\n",
      "Gains/Lift Table: Avg response rate: 30.25 %, avg score: 30.19 %\n"
     ]
    },
    {
     "data": {
      "text/html": [
       "<div>\n",
       "<style scoped>\n",
       "    .dataframe tbody tr th:only-of-type {\n",
       "        vertical-align: middle;\n",
       "    }\n",
       "\n",
       "    .dataframe tbody tr th {\n",
       "        vertical-align: top;\n",
       "    }\n",
       "\n",
       "    .dataframe thead th {\n",
       "        text-align: right;\n",
       "    }\n",
       "</style>\n",
       "<table border=\"1\" class=\"dataframe\">\n",
       "  <thead>\n",
       "    <tr style=\"text-align: right;\">\n",
       "      <th></th>\n",
       "      <th>group</th>\n",
       "      <th>cumulative_data_fraction</th>\n",
       "      <th>lower_threshold</th>\n",
       "      <th>lift</th>\n",
       "      <th>cumulative_lift</th>\n",
       "      <th>response_rate</th>\n",
       "      <th>score</th>\n",
       "      <th>cumulative_response_rate</th>\n",
       "      <th>cumulative_score</th>\n",
       "      <th>capture_rate</th>\n",
       "      <th>cumulative_capture_rate</th>\n",
       "      <th>gain</th>\n",
       "      <th>cumulative_gain</th>\n",
       "      <th>kolmogorov_smirnov</th>\n",
       "    </tr>\n",
       "  </thead>\n",
       "  <tbody>\n",
       "    <tr>\n",
       "      <th>0</th>\n",
       "      <td>1</td>\n",
       "      <td>0.012164</td>\n",
       "      <td>0.930050</td>\n",
       "      <td>3.001369</td>\n",
       "      <td>3.001369</td>\n",
       "      <td>0.907781</td>\n",
       "      <td>0.931948</td>\n",
       "      <td>0.907781</td>\n",
       "      <td>0.931948</td>\n",
       "      <td>0.036509</td>\n",
       "      <td>0.036509</td>\n",
       "      <td>200.136928</td>\n",
       "      <td>200.136928</td>\n",
       "      <td>0.034901</td>\n",
       "    </tr>\n",
       "    <tr>\n",
       "      <th>1</th>\n",
       "      <td>2</td>\n",
       "      <td>0.020016</td>\n",
       "      <td>0.927694</td>\n",
       "      <td>3.003688</td>\n",
       "      <td>3.002279</td>\n",
       "      <td>0.908482</td>\n",
       "      <td>0.928883</td>\n",
       "      <td>0.908056</td>\n",
       "      <td>0.930746</td>\n",
       "      <td>0.023586</td>\n",
       "      <td>0.060095</td>\n",
       "      <td>200.368751</td>\n",
       "      <td>200.227871</td>\n",
       "      <td>0.057457</td>\n",
       "    </tr>\n",
       "    <tr>\n",
       "      <th>2</th>\n",
       "      <td>3</td>\n",
       "      <td>0.030375</td>\n",
       "      <td>0.923812</td>\n",
       "      <td>2.931448</td>\n",
       "      <td>2.978123</td>\n",
       "      <td>0.886633</td>\n",
       "      <td>0.925509</td>\n",
       "      <td>0.900750</td>\n",
       "      <td>0.928960</td>\n",
       "      <td>0.030366</td>\n",
       "      <td>0.090461</td>\n",
       "      <td>193.144776</td>\n",
       "      <td>197.812343</td>\n",
       "      <td>0.086139</td>\n",
       "    </tr>\n",
       "    <tr>\n",
       "      <th>3</th>\n",
       "      <td>4</td>\n",
       "      <td>0.040173</td>\n",
       "      <td>0.919572</td>\n",
       "      <td>2.998710</td>\n",
       "      <td>2.983144</td>\n",
       "      <td>0.906977</td>\n",
       "      <td>0.921671</td>\n",
       "      <td>0.902269</td>\n",
       "      <td>0.927182</td>\n",
       "      <td>0.029381</td>\n",
       "      <td>0.119842</td>\n",
       "      <td>199.871026</td>\n",
       "      <td>198.314439</td>\n",
       "      <td>0.114214</td>\n",
       "    </tr>\n",
       "    <tr>\n",
       "      <th>4</th>\n",
       "      <td>5</td>\n",
       "      <td>0.050006</td>\n",
       "      <td>0.914458</td>\n",
       "      <td>2.887830</td>\n",
       "      <td>2.964402</td>\n",
       "      <td>0.873440</td>\n",
       "      <td>0.917297</td>\n",
       "      <td>0.896600</td>\n",
       "      <td>0.925238</td>\n",
       "      <td>0.028396</td>\n",
       "      <td>0.148238</td>\n",
       "      <td>188.782966</td>\n",
       "      <td>196.440217</td>\n",
       "      <td>0.140826</td>\n",
       "    </tr>\n",
       "    <tr>\n",
       "      <th>5</th>\n",
       "      <td>6</td>\n",
       "      <td>0.101169</td>\n",
       "      <td>0.600009</td>\n",
       "      <td>2.346897</td>\n",
       "      <td>2.652119</td>\n",
       "      <td>0.709832</td>\n",
       "      <td>0.737180</td>\n",
       "      <td>0.802148</td>\n",
       "      <td>0.830134</td>\n",
       "      <td>0.120074</td>\n",
       "      <td>0.268312</td>\n",
       "      <td>134.689689</td>\n",
       "      <td>165.211909</td>\n",
       "      <td>0.239617</td>\n",
       "    </tr>\n",
       "    <tr>\n",
       "      <th>6</th>\n",
       "      <td>7</td>\n",
       "      <td>0.150018</td>\n",
       "      <td>0.518271</td>\n",
       "      <td>1.761683</td>\n",
       "      <td>2.362173</td>\n",
       "      <td>0.532831</td>\n",
       "      <td>0.548713</td>\n",
       "      <td>0.714453</td>\n",
       "      <td>0.738497</td>\n",
       "      <td>0.086057</td>\n",
       "      <td>0.354369</td>\n",
       "      <td>76.168330</td>\n",
       "      <td>136.217348</td>\n",
       "      <td>0.292958</td>\n",
       "    </tr>\n",
       "    <tr>\n",
       "      <th>7</th>\n",
       "      <td>8</td>\n",
       "      <td>0.200095</td>\n",
       "      <td>0.474375</td>\n",
       "      <td>1.521787</td>\n",
       "      <td>2.151856</td>\n",
       "      <td>0.460273</td>\n",
       "      <td>0.493887</td>\n",
       "      <td>0.650841</td>\n",
       "      <td>0.677280</td>\n",
       "      <td>0.076205</td>\n",
       "      <td>0.430575</td>\n",
       "      <td>52.178699</td>\n",
       "      <td>115.185601</td>\n",
       "      <td>0.330417</td>\n",
       "    </tr>\n",
       "    <tr>\n",
       "      <th>8</th>\n",
       "      <td>9</td>\n",
       "      <td>0.300720</td>\n",
       "      <td>0.367350</td>\n",
       "      <td>1.440914</td>\n",
       "      <td>1.913964</td>\n",
       "      <td>0.435813</td>\n",
       "      <td>0.425767</td>\n",
       "      <td>0.578889</td>\n",
       "      <td>0.593120</td>\n",
       "      <td>0.144993</td>\n",
       "      <td>0.575568</td>\n",
       "      <td>44.091417</td>\n",
       "      <td>91.396377</td>\n",
       "      <td>0.394022</td>\n",
       "    </tr>\n",
       "    <tr>\n",
       "      <th>9</th>\n",
       "      <td>10</td>\n",
       "      <td>0.400470</td>\n",
       "      <td>0.322480</td>\n",
       "      <td>1.211892</td>\n",
       "      <td>1.739091</td>\n",
       "      <td>0.366544</td>\n",
       "      <td>0.336052</td>\n",
       "      <td>0.525998</td>\n",
       "      <td>0.529089</td>\n",
       "      <td>0.120885</td>\n",
       "      <td>0.696453</td>\n",
       "      <td>21.189243</td>\n",
       "      <td>73.909122</td>\n",
       "      <td>0.424322</td>\n",
       "    </tr>\n",
       "    <tr>\n",
       "      <th>10</th>\n",
       "      <td>11</td>\n",
       "      <td>0.500061</td>\n",
       "      <td>0.276081</td>\n",
       "      <td>1.105000</td>\n",
       "      <td>1.612806</td>\n",
       "      <td>0.334213</td>\n",
       "      <td>0.303057</td>\n",
       "      <td>0.487802</td>\n",
       "      <td>0.484073</td>\n",
       "      <td>0.110049</td>\n",
       "      <td>0.806502</td>\n",
       "      <td>10.499952</td>\n",
       "      <td>61.280629</td>\n",
       "      <td>0.439314</td>\n",
       "    </tr>\n",
       "    <tr>\n",
       "      <th>11</th>\n",
       "      <td>12</td>\n",
       "      <td>0.600039</td>\n",
       "      <td>0.179003</td>\n",
       "      <td>0.865403</td>\n",
       "      <td>1.488276</td>\n",
       "      <td>0.261746</td>\n",
       "      <td>0.226086</td>\n",
       "      <td>0.450137</td>\n",
       "      <td>0.441088</td>\n",
       "      <td>0.086521</td>\n",
       "      <td>0.893023</td>\n",
       "      <td>-13.459651</td>\n",
       "      <td>48.827555</td>\n",
       "      <td>0.420022</td>\n",
       "    </tr>\n",
       "    <tr>\n",
       "      <th>12</th>\n",
       "      <td>13</td>\n",
       "      <td>0.700121</td>\n",
       "      <td>0.114312</td>\n",
       "      <td>0.577294</td>\n",
       "      <td>1.358051</td>\n",
       "      <td>0.174606</td>\n",
       "      <td>0.147879</td>\n",
       "      <td>0.410750</td>\n",
       "      <td>0.399174</td>\n",
       "      <td>0.057777</td>\n",
       "      <td>0.950800</td>\n",
       "      <td>-42.270552</td>\n",
       "      <td>35.805068</td>\n",
       "      <td>0.359373</td>\n",
       "    </tr>\n",
       "    <tr>\n",
       "      <th>13</th>\n",
       "      <td>14</td>\n",
       "      <td>0.799993</td>\n",
       "      <td>0.079229</td>\n",
       "      <td>0.340607</td>\n",
       "      <td>1.231032</td>\n",
       "      <td>0.103019</td>\n",
       "      <td>0.099050</td>\n",
       "      <td>0.372333</td>\n",
       "      <td>0.361706</td>\n",
       "      <td>0.034017</td>\n",
       "      <td>0.984817</td>\n",
       "      <td>-65.939265</td>\n",
       "      <td>23.103188</td>\n",
       "      <td>0.264964</td>\n",
       "    </tr>\n",
       "    <tr>\n",
       "      <th>14</th>\n",
       "      <td>15</td>\n",
       "      <td>0.900216</td>\n",
       "      <td>0.061447</td>\n",
       "      <td>0.131256</td>\n",
       "      <td>1.108592</td>\n",
       "      <td>0.039699</td>\n",
       "      <td>0.068835</td>\n",
       "      <td>0.335300</td>\n",
       "      <td>0.329100</td>\n",
       "      <td>0.013155</td>\n",
       "      <td>0.997972</td>\n",
       "      <td>-86.874373</td>\n",
       "      <td>10.859191</td>\n",
       "      <td>0.140143</td>\n",
       "    </tr>\n",
       "    <tr>\n",
       "      <th>15</th>\n",
       "      <td>16</td>\n",
       "      <td>1.000000</td>\n",
       "      <td>0.053771</td>\n",
       "      <td>0.020327</td>\n",
       "      <td>1.000000</td>\n",
       "      <td>0.006148</td>\n",
       "      <td>0.056640</td>\n",
       "      <td>0.302456</td>\n",
       "      <td>0.301913</td>\n",
       "      <td>0.002028</td>\n",
       "      <td>1.000000</td>\n",
       "      <td>-97.967338</td>\n",
       "      <td>0.000000</td>\n",
       "      <td>0.000000</td>\n",
       "    </tr>\n",
       "  </tbody>\n",
       "</table>\n",
       "</div>"
      ],
      "text/plain": [
       "    group  cumulative_data_fraction  lower_threshold      lift  \\\n",
       "0       1                  0.012164         0.930050  3.001369   \n",
       "1       2                  0.020016         0.927694  3.003688   \n",
       "2       3                  0.030375         0.923812  2.931448   \n",
       "3       4                  0.040173         0.919572  2.998710   \n",
       "4       5                  0.050006         0.914458  2.887830   \n",
       "5       6                  0.101169         0.600009  2.346897   \n",
       "6       7                  0.150018         0.518271  1.761683   \n",
       "7       8                  0.200095         0.474375  1.521787   \n",
       "8       9                  0.300720         0.367350  1.440914   \n",
       "9      10                  0.400470         0.322480  1.211892   \n",
       "10     11                  0.500061         0.276081  1.105000   \n",
       "11     12                  0.600039         0.179003  0.865403   \n",
       "12     13                  0.700121         0.114312  0.577294   \n",
       "13     14                  0.799993         0.079229  0.340607   \n",
       "14     15                  0.900216         0.061447  0.131256   \n",
       "15     16                  1.000000         0.053771  0.020327   \n",
       "\n",
       "    cumulative_lift  response_rate     score  cumulative_response_rate  \\\n",
       "0          3.001369       0.907781  0.931948                  0.907781   \n",
       "1          3.002279       0.908482  0.928883                  0.908056   \n",
       "2          2.978123       0.886633  0.925509                  0.900750   \n",
       "3          2.983144       0.906977  0.921671                  0.902269   \n",
       "4          2.964402       0.873440  0.917297                  0.896600   \n",
       "5          2.652119       0.709832  0.737180                  0.802148   \n",
       "6          2.362173       0.532831  0.548713                  0.714453   \n",
       "7          2.151856       0.460273  0.493887                  0.650841   \n",
       "8          1.913964       0.435813  0.425767                  0.578889   \n",
       "9          1.739091       0.366544  0.336052                  0.525998   \n",
       "10         1.612806       0.334213  0.303057                  0.487802   \n",
       "11         1.488276       0.261746  0.226086                  0.450137   \n",
       "12         1.358051       0.174606  0.147879                  0.410750   \n",
       "13         1.231032       0.103019  0.099050                  0.372333   \n",
       "14         1.108592       0.039699  0.068835                  0.335300   \n",
       "15         1.000000       0.006148  0.056640                  0.302456   \n",
       "\n",
       "    cumulative_score  capture_rate  cumulative_capture_rate        gain  \\\n",
       "0           0.931948      0.036509                 0.036509  200.136928   \n",
       "1           0.930746      0.023586                 0.060095  200.368751   \n",
       "2           0.928960      0.030366                 0.090461  193.144776   \n",
       "3           0.927182      0.029381                 0.119842  199.871026   \n",
       "4           0.925238      0.028396                 0.148238  188.782966   \n",
       "5           0.830134      0.120074                 0.268312  134.689689   \n",
       "6           0.738497      0.086057                 0.354369   76.168330   \n",
       "7           0.677280      0.076205                 0.430575   52.178699   \n",
       "8           0.593120      0.144993                 0.575568   44.091417   \n",
       "9           0.529089      0.120885                 0.696453   21.189243   \n",
       "10          0.484073      0.110049                 0.806502   10.499952   \n",
       "11          0.441088      0.086521                 0.893023  -13.459651   \n",
       "12          0.399174      0.057777                 0.950800  -42.270552   \n",
       "13          0.361706      0.034017                 0.984817  -65.939265   \n",
       "14          0.329100      0.013155                 0.997972  -86.874373   \n",
       "15          0.301913      0.002028                 1.000000  -97.967338   \n",
       "\n",
       "    cumulative_gain  kolmogorov_smirnov  \n",
       "0        200.136928            0.034901  \n",
       "1        200.227871            0.057457  \n",
       "2        197.812343            0.086139  \n",
       "3        198.314439            0.114214  \n",
       "4        196.440217            0.140826  \n",
       "5        165.211909            0.239617  \n",
       "6        136.217348            0.292958  \n",
       "7        115.185601            0.330417  \n",
       "8         91.396377            0.394022  \n",
       "9         73.909122            0.424322  \n",
       "10        61.280629            0.439314  \n",
       "11        48.827555            0.420022  \n",
       "12        35.805068            0.359373  \n",
       "13        23.103188            0.264964  \n",
       "14        10.859191            0.140143  \n",
       "15         0.000000            0.000000  "
      ]
     },
     "metadata": {},
     "output_type": "display_data"
    },
    {
     "name": "stdout",
     "output_type": "stream",
     "text": [
      "\n"
     ]
    },
    {
     "data": {
      "text/plain": []
     },
     "execution_count": 424,
     "metadata": {},
     "output_type": "execute_result"
    }
   ],
   "source": [
    "model = h2o.get_model('StackedEnsemble_AllModels_AutoML_20200903_215827')\n",
    "model.model_performance(test)"
   ]
  },
  {
   "cell_type": "markdown",
   "metadata": {},
   "source": [
    "## Finding important attributes"
   ]
  },
  {
   "cell_type": "code",
   "execution_count": 426,
   "metadata": {},
   "outputs": [
    {
     "data": {
      "image/png": "[encoded data removed]",
      "text/plain": [
       "<Figure size 1008x720 with 1 Axes>"
      ]
     },
     "metadata": {},
     "output_type": "display_data"
    }
   ],
   "source": [
    "model = h2o.get_model('XGBoost_3_AutoML_20200903_215827')\n",
    "model.varimp_plot(num_of_features=20)"
   ]
  }
 ],
 "metadata": {
  "hide_input": false,
  "kernelspec": {
   "display_name": "Python 3",
   "language": "python",
   "name": "python3"
  },
  "language_info": {
   "codemirror_mode": {
    "name": "ipython",
    "version": 3
   },
   "file_extension": ".py",
   "mimetype": "text/x-python",
   "name": "python",
   "nbconvert_exporter": "python",
   "pygments_lexer": "ipython3",
   "version": "3.6.9"
  },
  "toc": {
   "base_numbering": 1,
   "nav_menu": {},
   "number_sections": true,
   "sideBar": true,
   "skip_h1_title": false,
   "title_cell": "Table of Contents",
   "title_sidebar": "Contents",
   "toc_cell": true,
   "toc_position": {
    "height": "calc(100% - 180px)",
    "left": "10px",
    "top": "150px",
    "width": "298.6px"
   },
   "toc_section_display": true,
   "toc_window_display": true
  }
 },
 "nbformat": 4,
 "nbformat_minor": 4
}
